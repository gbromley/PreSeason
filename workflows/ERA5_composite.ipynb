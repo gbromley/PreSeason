{
 "cells": [
  {
   "cell_type": "code",
   "execution_count": 1,
   "id": "4ee19f73",
   "metadata": {},
   "outputs": [],
   "source": [
    "import numpy as np\n",
    "import xarray as xr\n",
    "import matplotlib.pyplot as plt\n",
    "import pandas as pd\n",
    "\n",
    "\n",
    "from mpl_toolkits.axes_grid1 import make_axes_locatable\n",
    "import time\n",
    "\n",
    "import preseason.tools as sf\n",
    "import preseason.onset_demise as od\n",
    "import preseason.plotting as pp\n"
   ]
  },
  {
   "cell_type": "code",
   "execution_count": null,
   "id": "59c185e1",
   "metadata": {},
   "outputs": [],
   "source": [
    "### Allows us to use dask to speed up some calculations ###\n",
    "from dask.distributed import Client\n",
    "client = Client()\n",
    "client"
   ]
  },
  {
   "cell_type": "code",
   "execution_count": null,
   "id": "91f93c97",
   "metadata": {},
   "outputs": [],
   "source": [
    "### Selecting out Peru from the global data.\n",
    "lat_radius = 40 # degrees lat/lon\n",
    "lon_radius = 50\n",
    "PERU_center = {'lat': slice(0+lat_radius, -20-lat_radius), 'lon': slice(277-lon_radius, 293+lon_radius)}\n"
   ]
  },
  {
   "cell_type": "code",
   "execution_count": null,
   "id": "c53bc3d6-8baa-4bad-a296-967118f63fcc",
   "metadata": {},
   "outputs": [],
   "source": [
    "hgt_data_dir = '/data/deluge/reanalysis/REANALYSIS/ERA5/3D/daily/hgt/' \n",
    "\n",
    "ds_hgt = xr.open_mfdataset(hgt_data_dir+'*.nc',parallel=True, chunks={'latitude': 25, 'longitude': 25, 'time': -1})\n",
    "\n",
    "hgt_data = ds_hgt['hgt'].sel(level=500, lat = PERU_center['lat'], lon = PERU_center['lon']) "
   ]
  },
  {
   "cell_type": "code",
   "execution_count": null,
   "id": "4f4bd9bb",
   "metadata": {},
   "outputs": [],
   "source": [
    "hgt_anom = hgt_data - hgt_data.mean(dim='time')"
   ]
  },
  {
   "cell_type": "code",
   "execution_count": null,
   "id": "a209fa73",
   "metadata": {},
   "outputs": [],
   "source": [
    "hgt_anom.compute()"
   ]
  },
  {
   "cell_type": "code",
   "execution_count": null,
   "id": "adfd620e",
   "metadata": {},
   "outputs": [],
   "source": [
    "moisture_data_dir = '/data/deluge/reanalysis/REANALYSIS/ERA5/3D/daily/q/'\n",
    "\n",
    "ds_q = xr.open_mfdataset(moisture_data_dir+'*.nc',parallel=True, chunks={'latitude': 25, 'longitude': 25, 'time': -1})\n",
    "\n",
    "q_data = ds_q['q'].sel(level=500, lat = PERU_center['lat'], lon = PERU_center['lon']) "
   ]
  },
  {
   "cell_type": "code",
   "execution_count": null,
   "id": "9bfba61e",
   "metadata": {},
   "outputs": [],
   "source": [
    "precip_data_dir = '/data/deluge/reanalysis/REANALYSIS/ERA5/2D/daily/precip/'\n",
    "\n",
    "ds_p = xr.open_mfdataset(precip_data_dir+'*.nc',parallel=True, chunks={'latitude': 25, 'longitude': 25, 'time': -1})\n",
    "\n",
    "precip_data = ds_p['precip'].sel(latitude = PERU_center['lat'], longitude = PERU_center['lon'])"
   ]
  },
  {
   "cell_type": "code",
   "execution_count": null,
   "id": "19f7ba60",
   "metadata": {},
   "outputs": [],
   "source": [
    "precip_data"
   ]
  },
  {
   "cell_type": "code",
   "execution_count": null,
   "id": "dbaa859e",
   "metadata": {},
   "outputs": [],
   "source": [
    "precip_data = precip_data.compute()"
   ]
  },
  {
   "cell_type": "code",
   "execution_count": null,
   "id": "3d1b2f75",
   "metadata": {},
   "outputs": [],
   "source": [
    "precip_anom = precip_data - precip_data.mean(dim='time')\n"
   ]
  },
  {
   "cell_type": "code",
   "execution_count": null,
   "id": "922aa5b8",
   "metadata": {},
   "outputs": [],
   "source": [
    "p_annual_cycle = sf.calc_annual_cycle(precip_data)"
   ]
  },
  {
   "cell_type": "code",
   "execution_count": null,
   "id": "0b58a8d5",
   "metadata": {},
   "outputs": [],
   "source": [
    "analysis_start = od.B17_analysis_start(p_annual_cycle)"
   ]
  },
  {
   "cell_type": "code",
   "execution_count": null,
   "id": "cbf24936",
   "metadata": {},
   "outputs": [],
   "source": [
    "onset = od.onset_LM01(precip_anom, analysis_start)"
   ]
  },
  {
   "cell_type": "code",
   "execution_count": null,
   "id": "6b8db7cf",
   "metadata": {},
   "outputs": [],
   "source": [
    "demise = od.demise_LM01(precip_anom, analysis_start)"
   ]
  },
  {
   "cell_type": "code",
   "execution_count": null,
   "id": "902fa49a",
   "metadata": {},
   "outputs": [],
   "source": [
    "center_loc_onset = onset.sel(latitude=-10, longitude=285)\n",
    "center_loc_demise = demise.sel(latitude=-10, longitude=285)"
   ]
  },
  {
   "cell_type": "code",
   "execution_count": null,
   "id": "c1aa22b3",
   "metadata": {},
   "outputs": [],
   "source": [
    "early_onset = center_loc_onset.where(center_loc_onset < center_loc_onset.quantile(0.25))\n",
    "late_onset = center_loc_onset.where(center_loc_onset > center_loc_onset.quantile(0.75))"
   ]
  },
  {
   "cell_type": "code",
   "execution_count": null,
   "id": "af53354b",
   "metadata": {},
   "outputs": [],
   "source": [
    "early_demise = center_loc_demise.where(center_loc_demise < center_loc_demise.quantile(0.25))\n",
    "late_demise = center_loc_demise.where(center_loc_demise > center_loc_demise.quantile(0.75))"
   ]
  },
  {
   "cell_type": "code",
   "execution_count": null,
   "id": "09215e08",
   "metadata": {},
   "outputs": [],
   "source": [
    "early_onset_dates = sf.calcDates(early_onset).dropna(dim='year')\n",
    "late_onset_dates = sf.calcDates(late_onset).dropna(dim='year')"
   ]
  },
  {
   "cell_type": "code",
   "execution_count": null,
   "id": "3bb69199",
   "metadata": {},
   "outputs": [],
   "source": [
    "early_demise_dates = sf.calcDates(early_demise).dropna(dim='year')\n",
    "late_demise_dates = sf.calcDates(late_demise).dropna(dim='year')"
   ]
  },
  {
   "cell_type": "code",
   "execution_count": null,
   "id": "92f5f271",
   "metadata": {},
   "outputs": [],
   "source": [
    "early_dates.mean()"
   ]
  },
  {
   "cell_type": "code",
   "execution_count": null,
   "id": "2fe9aca6",
   "metadata": {},
   "outputs": [],
   "source": [
    "late_dates.mean()"
   ]
  },
  {
   "cell_type": "code",
   "execution_count": null,
   "id": "005aef97",
   "metadata": {},
   "outputs": [],
   "source": [
    "composites_early_onset = create_composites(hgt_anom, early_onset_dates, period=4)\n",
    "composites_late_onset = create_composites(hgt_anom, late_onset_dates, period=4)"
   ]
  },
  {
   "cell_type": "code",
   "execution_count": null,
   "id": "f085ce79",
   "metadata": {},
   "outputs": [],
   "source": [
    "composites_early_demise = create_composites(hgt_anom, early_demise_dates, period=4)\n",
    "composites_late_demise = create_composites(hgt_anom, late_demise_dates, period=4)"
   ]
  },
  {
   "cell_type": "code",
   "execution_count": null,
   "id": "fd4128b2",
   "metadata": {},
   "outputs": [],
   "source": [
    "pp.plot_spatial_data(composites_early_demise,vmin=-50, vmax=50, cmap='RdBu_r', var='Geopotential Anomaly', title='Early Demise Composite')"
   ]
  },
  {
   "cell_type": "code",
   "execution_count": null,
   "id": "1b41cba5",
   "metadata": {},
   "outputs": [],
   "source": [
    "pp.plot_spatial_data(composites_late_demise,vmin=-40, vmax=40, cmap='RdBu_r', var='Geopotential Anomaly', title='Late Demise Composite')"
   ]
  },
  {
   "cell_type": "code",
   "execution_count": null,
   "id": "d1dbcfb9",
   "metadata": {},
   "outputs": [],
   "source": [
    "\n",
    "\n",
    "def create_composites(ds, dates, period):\n",
    "    composites = {}\n",
    "    composite_data = []\n",
    "    for date in dates:\n",
    "        start_date = date - pd.Timedelta(period,'w')\n",
    "        end_date = date - pd.Timedelta(1,\"d\")\n",
    "        \n",
    "        subset = ds.sel(time=slice(start_date, end_date))\n",
    "        \n",
    "        composite = subset.mean(dim='time')\n",
    "        composite_data.append(composite)\n",
    "    \n",
    "    composites = xr.concat(composite_data, dim='time')\n",
    "    composites = composites.mean(dim='time')\n",
    "    return composites\n",
    "\n",
    "# Create composites for each time period\n",
    "#composites_1week = create_composites(ds, dates, period='1w')\n",
    "#composites_2weeks = create_composites(ds, dates, period='2w')\n",
    "#composites_3weeks = create_composites(ds, dates, period='3w')\n",
    "#composites_1month = create_composites(ds, dates, period='1M')"
   ]
  },
  {
   "cell_type": "code",
   "execution_count": null,
   "id": "8353ca69",
   "metadata": {},
   "outputs": [],
   "source": [
    "late_dates"
   ]
  },
  {
   "cell_type": "code",
   "execution_count": null,
   "id": "1b1857ac",
   "metadata": {},
   "outputs": [],
   "source": []
  }
 ],
 "metadata": {
  "kernelspec": {
   "display_name": "Python 3 (ipykernel)",
   "language": "python",
   "name": "python3"
  },
  "language_info": {
   "codemirror_mode": {
    "name": "ipython",
    "version": 3
   },
   "file_extension": ".py",
   "mimetype": "text/x-python",
   "name": "python",
   "nbconvert_exporter": "python",
   "pygments_lexer": "ipython3",
   "version": "3.11.5"
  }
 },
 "nbformat": 4,
 "nbformat_minor": 5
}
