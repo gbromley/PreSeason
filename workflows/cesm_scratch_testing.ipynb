{
 "cells": [
  {
   "cell_type": "code",
   "execution_count": 1,
   "id": "11b6934c-f443-423d-b9a3-1edd7b3233a4",
   "metadata": {
    "tags": []
   },
   "outputs": [],
   "source": [
    "### Importing all the neccessary packages ###\n",
    "import numpy as np\n",
    "import xarray as xr\n",
    "import matplotlib.pyplot as plt\n",
    "import pandas as pd\n",
    "import cartopy.crs as ccrs\n",
    "import cartopy\n",
    "from matplotlib.offsetbox import AnchoredText\n",
    "import cartopy.feature as cfeature\n",
    "import scipy.fft as sf\n",
    "from scipy import signal\n",
    "from scipy.stats import circmean\n",
    "from scipy import optimize\n",
    "from mpl_toolkits.axes_grid1 import make_axes_locatable\n",
    "import time\n",
    "import intake\n",
    "import pathlib\n",
    "\n",
    "import seasonality.seasonalityfunctions as sf\n",
    "import seasonality.onset_demise as od"
   ]
  },
  {
   "cell_type": "code",
   "execution_count": 2,
   "id": "edf65dbd-b807-4708-9711-db862a4895dc",
   "metadata": {},
   "outputs": [],
   "source": [
    "### Bombardi et al., 2019 has put the code on github under the MIT license, which allows us to utilize their code in any way we see fit. \n",
    "### We will of course credit Bombardi et al., 2019 in the eventual manuscript."
   ]
  },
  {
   "cell_type": "code",
   "execution_count": 3,
   "id": "5a992297",
   "metadata": {
    "pycharm": {
     "name": "#%%\n"
    }
   },
   "outputs": [],
   "source": [
    "### Allows us to use dask to speed up some calculations ###\n",
    "from dask.distributed import Client\n",
    "client = Client()\n"
   ]
  },
  {
   "cell_type": "code",
   "execution_count": 4,
   "id": "c3c1a507",
   "metadata": {},
   "outputs": [
    {
     "data": {
      "text/html": [
       "<div>\n",
       "    <div style=\"width: 24px; height: 24px; background-color: #e1e1e1; border: 3px solid #9D9D9D; border-radius: 5px; position: absolute;\"> </div>\n",
       "    <div style=\"margin-left: 48px;\">\n",
       "        <h3 style=\"margin-bottom: 0px;\">Client</h3>\n",
       "        <p style=\"color: #9D9D9D; margin-bottom: 0px;\">Client-4d223064-42a1-11ee-8905-0ea65b5a729a</p>\n",
       "        <table style=\"width: 100%; text-align: left;\">\n",
       "\n",
       "        <tr>\n",
       "        \n",
       "            <td style=\"text-align: left;\"><strong>Connection method:</strong> Cluster object</td>\n",
       "            <td style=\"text-align: left;\"><strong>Cluster type:</strong> distributed.LocalCluster</td>\n",
       "        \n",
       "        </tr>\n",
       "\n",
       "        \n",
       "            <tr>\n",
       "                <td style=\"text-align: left;\">\n",
       "                    <strong>Dashboard: </strong> <a href=\"http://127.0.0.1:8787/status\" target=\"_blank\">http://127.0.0.1:8787/status</a>\n",
       "                </td>\n",
       "                <td style=\"text-align: left;\"></td>\n",
       "            </tr>\n",
       "        \n",
       "\n",
       "        </table>\n",
       "\n",
       "        \n",
       "\n",
       "        \n",
       "            <details>\n",
       "            <summary style=\"margin-bottom: 20px;\"><h3 style=\"display: inline;\">Cluster Info</h3></summary>\n",
       "            <div class=\"jp-RenderedHTMLCommon jp-RenderedHTML jp-mod-trusted jp-OutputArea-output\">\n",
       "    <div style=\"width: 24px; height: 24px; background-color: #e1e1e1; border: 3px solid #9D9D9D; border-radius: 5px; position: absolute;\">\n",
       "    </div>\n",
       "    <div style=\"margin-left: 48px;\">\n",
       "        <h3 style=\"margin-bottom: 0px; margin-top: 0px;\">LocalCluster</h3>\n",
       "        <p style=\"color: #9D9D9D; margin-bottom: 0px;\">509ca0e7</p>\n",
       "        <table style=\"width: 100%; text-align: left;\">\n",
       "            <tr>\n",
       "                <td style=\"text-align: left;\">\n",
       "                    <strong>Dashboard:</strong> <a href=\"http://127.0.0.1:8787/status\" target=\"_blank\">http://127.0.0.1:8787/status</a>\n",
       "                </td>\n",
       "                <td style=\"text-align: left;\">\n",
       "                    <strong>Workers:</strong> 4\n",
       "                </td>\n",
       "            </tr>\n",
       "            <tr>\n",
       "                <td style=\"text-align: left;\">\n",
       "                    <strong>Total threads:</strong> 8\n",
       "                </td>\n",
       "                <td style=\"text-align: left;\">\n",
       "                    <strong>Total memory:</strong> 16.00 GiB\n",
       "                </td>\n",
       "            </tr>\n",
       "            \n",
       "            <tr>\n",
       "    <td style=\"text-align: left;\"><strong>Status:</strong> running</td>\n",
       "    <td style=\"text-align: left;\"><strong>Using processes:</strong> True</td>\n",
       "</tr>\n",
       "\n",
       "            \n",
       "        </table>\n",
       "\n",
       "        <details>\n",
       "            <summary style=\"margin-bottom: 20px;\">\n",
       "                <h3 style=\"display: inline;\">Scheduler Info</h3>\n",
       "            </summary>\n",
       "\n",
       "            <div style=\"\">\n",
       "    <div>\n",
       "        <div style=\"width: 24px; height: 24px; background-color: #FFF7E5; border: 3px solid #FF6132; border-radius: 5px; position: absolute;\"> </div>\n",
       "        <div style=\"margin-left: 48px;\">\n",
       "            <h3 style=\"margin-bottom: 0px;\">Scheduler</h3>\n",
       "            <p style=\"color: #9D9D9D; margin-bottom: 0px;\">Scheduler-c3edf6eb-39e5-4f48-bc54-f0692a222f49</p>\n",
       "            <table style=\"width: 100%; text-align: left;\">\n",
       "                <tr>\n",
       "                    <td style=\"text-align: left;\">\n",
       "                        <strong>Comm:</strong> tcp://127.0.0.1:61295\n",
       "                    </td>\n",
       "                    <td style=\"text-align: left;\">\n",
       "                        <strong>Workers:</strong> 4\n",
       "                    </td>\n",
       "                </tr>\n",
       "                <tr>\n",
       "                    <td style=\"text-align: left;\">\n",
       "                        <strong>Dashboard:</strong> <a href=\"http://127.0.0.1:8787/status\" target=\"_blank\">http://127.0.0.1:8787/status</a>\n",
       "                    </td>\n",
       "                    <td style=\"text-align: left;\">\n",
       "                        <strong>Total threads:</strong> 8\n",
       "                    </td>\n",
       "                </tr>\n",
       "                <tr>\n",
       "                    <td style=\"text-align: left;\">\n",
       "                        <strong>Started:</strong> Just now\n",
       "                    </td>\n",
       "                    <td style=\"text-align: left;\">\n",
       "                        <strong>Total memory:</strong> 16.00 GiB\n",
       "                    </td>\n",
       "                </tr>\n",
       "            </table>\n",
       "        </div>\n",
       "    </div>\n",
       "\n",
       "    <details style=\"margin-left: 48px;\">\n",
       "        <summary style=\"margin-bottom: 20px;\">\n",
       "            <h3 style=\"display: inline;\">Workers</h3>\n",
       "        </summary>\n",
       "\n",
       "        \n",
       "        <div style=\"margin-bottom: 20px;\">\n",
       "            <div style=\"width: 24px; height: 24px; background-color: #DBF5FF; border: 3px solid #4CC9FF; border-radius: 5px; position: absolute;\"> </div>\n",
       "            <div style=\"margin-left: 48px;\">\n",
       "            <details>\n",
       "                <summary>\n",
       "                    <h4 style=\"margin-bottom: 0px; display: inline;\">Worker: 0</h4>\n",
       "                </summary>\n",
       "                <table style=\"width: 100%; text-align: left;\">\n",
       "                    <tr>\n",
       "                        <td style=\"text-align: left;\">\n",
       "                            <strong>Comm: </strong> tcp://127.0.0.1:61306\n",
       "                        </td>\n",
       "                        <td style=\"text-align: left;\">\n",
       "                            <strong>Total threads: </strong> 2\n",
       "                        </td>\n",
       "                    </tr>\n",
       "                    <tr>\n",
       "                        <td style=\"text-align: left;\">\n",
       "                            <strong>Dashboard: </strong> <a href=\"http://127.0.0.1:61312/status\" target=\"_blank\">http://127.0.0.1:61312/status</a>\n",
       "                        </td>\n",
       "                        <td style=\"text-align: left;\">\n",
       "                            <strong>Memory: </strong> 4.00 GiB\n",
       "                        </td>\n",
       "                    </tr>\n",
       "                    <tr>\n",
       "                        <td style=\"text-align: left;\">\n",
       "                            <strong>Nanny: </strong> tcp://127.0.0.1:61298\n",
       "                        </td>\n",
       "                        <td style=\"text-align: left;\"></td>\n",
       "                    </tr>\n",
       "                    <tr>\n",
       "                        <td colspan=\"2\" style=\"text-align: left;\">\n",
       "                            <strong>Local directory: </strong> /var/folders/m4/3slgbrxj3z3dm65l82539j6w0000gq/T/dask-scratch-space/worker-6p17m0nv\n",
       "                        </td>\n",
       "                    </tr>\n",
       "\n",
       "                    \n",
       "\n",
       "                    \n",
       "\n",
       "                </table>\n",
       "            </details>\n",
       "            </div>\n",
       "        </div>\n",
       "        \n",
       "        <div style=\"margin-bottom: 20px;\">\n",
       "            <div style=\"width: 24px; height: 24px; background-color: #DBF5FF; border: 3px solid #4CC9FF; border-radius: 5px; position: absolute;\"> </div>\n",
       "            <div style=\"margin-left: 48px;\">\n",
       "            <details>\n",
       "                <summary>\n",
       "                    <h4 style=\"margin-bottom: 0px; display: inline;\">Worker: 1</h4>\n",
       "                </summary>\n",
       "                <table style=\"width: 100%; text-align: left;\">\n",
       "                    <tr>\n",
       "                        <td style=\"text-align: left;\">\n",
       "                            <strong>Comm: </strong> tcp://127.0.0.1:61308\n",
       "                        </td>\n",
       "                        <td style=\"text-align: left;\">\n",
       "                            <strong>Total threads: </strong> 2\n",
       "                        </td>\n",
       "                    </tr>\n",
       "                    <tr>\n",
       "                        <td style=\"text-align: left;\">\n",
       "                            <strong>Dashboard: </strong> <a href=\"http://127.0.0.1:61310/status\" target=\"_blank\">http://127.0.0.1:61310/status</a>\n",
       "                        </td>\n",
       "                        <td style=\"text-align: left;\">\n",
       "                            <strong>Memory: </strong> 4.00 GiB\n",
       "                        </td>\n",
       "                    </tr>\n",
       "                    <tr>\n",
       "                        <td style=\"text-align: left;\">\n",
       "                            <strong>Nanny: </strong> tcp://127.0.0.1:61299\n",
       "                        </td>\n",
       "                        <td style=\"text-align: left;\"></td>\n",
       "                    </tr>\n",
       "                    <tr>\n",
       "                        <td colspan=\"2\" style=\"text-align: left;\">\n",
       "                            <strong>Local directory: </strong> /var/folders/m4/3slgbrxj3z3dm65l82539j6w0000gq/T/dask-scratch-space/worker-fllj08mo\n",
       "                        </td>\n",
       "                    </tr>\n",
       "\n",
       "                    \n",
       "\n",
       "                    \n",
       "\n",
       "                </table>\n",
       "            </details>\n",
       "            </div>\n",
       "        </div>\n",
       "        \n",
       "        <div style=\"margin-bottom: 20px;\">\n",
       "            <div style=\"width: 24px; height: 24px; background-color: #DBF5FF; border: 3px solid #4CC9FF; border-radius: 5px; position: absolute;\"> </div>\n",
       "            <div style=\"margin-left: 48px;\">\n",
       "            <details>\n",
       "                <summary>\n",
       "                    <h4 style=\"margin-bottom: 0px; display: inline;\">Worker: 2</h4>\n",
       "                </summary>\n",
       "                <table style=\"width: 100%; text-align: left;\">\n",
       "                    <tr>\n",
       "                        <td style=\"text-align: left;\">\n",
       "                            <strong>Comm: </strong> tcp://127.0.0.1:61309\n",
       "                        </td>\n",
       "                        <td style=\"text-align: left;\">\n",
       "                            <strong>Total threads: </strong> 2\n",
       "                        </td>\n",
       "                    </tr>\n",
       "                    <tr>\n",
       "                        <td style=\"text-align: left;\">\n",
       "                            <strong>Dashboard: </strong> <a href=\"http://127.0.0.1:61311/status\" target=\"_blank\">http://127.0.0.1:61311/status</a>\n",
       "                        </td>\n",
       "                        <td style=\"text-align: left;\">\n",
       "                            <strong>Memory: </strong> 4.00 GiB\n",
       "                        </td>\n",
       "                    </tr>\n",
       "                    <tr>\n",
       "                        <td style=\"text-align: left;\">\n",
       "                            <strong>Nanny: </strong> tcp://127.0.0.1:61300\n",
       "                        </td>\n",
       "                        <td style=\"text-align: left;\"></td>\n",
       "                    </tr>\n",
       "                    <tr>\n",
       "                        <td colspan=\"2\" style=\"text-align: left;\">\n",
       "                            <strong>Local directory: </strong> /var/folders/m4/3slgbrxj3z3dm65l82539j6w0000gq/T/dask-scratch-space/worker-yw5ir5z4\n",
       "                        </td>\n",
       "                    </tr>\n",
       "\n",
       "                    \n",
       "\n",
       "                    \n",
       "\n",
       "                </table>\n",
       "            </details>\n",
       "            </div>\n",
       "        </div>\n",
       "        \n",
       "        <div style=\"margin-bottom: 20px;\">\n",
       "            <div style=\"width: 24px; height: 24px; background-color: #DBF5FF; border: 3px solid #4CC9FF; border-radius: 5px; position: absolute;\"> </div>\n",
       "            <div style=\"margin-left: 48px;\">\n",
       "            <details>\n",
       "                <summary>\n",
       "                    <h4 style=\"margin-bottom: 0px; display: inline;\">Worker: 3</h4>\n",
       "                </summary>\n",
       "                <table style=\"width: 100%; text-align: left;\">\n",
       "                    <tr>\n",
       "                        <td style=\"text-align: left;\">\n",
       "                            <strong>Comm: </strong> tcp://127.0.0.1:61307\n",
       "                        </td>\n",
       "                        <td style=\"text-align: left;\">\n",
       "                            <strong>Total threads: </strong> 2\n",
       "                        </td>\n",
       "                    </tr>\n",
       "                    <tr>\n",
       "                        <td style=\"text-align: left;\">\n",
       "                            <strong>Dashboard: </strong> <a href=\"http://127.0.0.1:61313/status\" target=\"_blank\">http://127.0.0.1:61313/status</a>\n",
       "                        </td>\n",
       "                        <td style=\"text-align: left;\">\n",
       "                            <strong>Memory: </strong> 4.00 GiB\n",
       "                        </td>\n",
       "                    </tr>\n",
       "                    <tr>\n",
       "                        <td style=\"text-align: left;\">\n",
       "                            <strong>Nanny: </strong> tcp://127.0.0.1:61301\n",
       "                        </td>\n",
       "                        <td style=\"text-align: left;\"></td>\n",
       "                    </tr>\n",
       "                    <tr>\n",
       "                        <td colspan=\"2\" style=\"text-align: left;\">\n",
       "                            <strong>Local directory: </strong> /var/folders/m4/3slgbrxj3z3dm65l82539j6w0000gq/T/dask-scratch-space/worker-ssulhr2r\n",
       "                        </td>\n",
       "                    </tr>\n",
       "\n",
       "                    \n",
       "\n",
       "                    \n",
       "\n",
       "                </table>\n",
       "            </details>\n",
       "            </div>\n",
       "        </div>\n",
       "        \n",
       "\n",
       "    </details>\n",
       "</div>\n",
       "\n",
       "        </details>\n",
       "    </div>\n",
       "</div>\n",
       "            </details>\n",
       "        \n",
       "\n",
       "    </div>\n",
       "</div>"
      ],
      "text/plain": [
       "<Client: 'tcp://127.0.0.1:61295' processes=4 threads=8, memory=16.00 GiB>"
      ]
     },
     "execution_count": 4,
     "metadata": {},
     "output_type": "execute_result"
    }
   ],
   "source": [
    "client"
   ]
  },
  {
   "cell_type": "code",
   "execution_count": 365,
   "id": "59a0f8a7",
   "metadata": {},
   "outputs": [
    {
     "data": {
      "text/plain": [
       "<module 'seasonality.seasonalityfunctions' from '/Users/gbromley/code/PrecipitationSeasonality/seasonality/seasonalityfunctions.py'>"
      ]
     },
     "execution_count": 365,
     "metadata": {},
     "output_type": "execute_result"
    }
   ],
   "source": [
    "from importlib import reload\n",
    "reload(sf)"
   ]
  },
  {
   "cell_type": "code",
   "execution_count": 332,
   "id": "46e812ee",
   "metadata": {},
   "outputs": [
    {
     "data": {
      "text/plain": [
       "180.00000000000003"
      ]
     },
     "execution_count": 332,
     "metadata": {},
     "output_type": "execute_result"
    }
   ],
   "source": [
    "test_data = np.array([120,180,270,360])\n"
   ]
  },
  {
   "cell_type": "code",
   "execution_count": 188,
   "id": "1beef830",
   "metadata": {},
   "outputs": [
    {
     "name": "stdout",
     "output_type": "stream",
     "text": [
      "\n",
      "--> The keys in the returned dictionary of datasets are constructed as follows:\n",
      "\t'component.experiment.frequency'\n"
     ]
    },
    {
     "name": "stderr",
     "output_type": "stream",
     "text": [
      "/var/folders/m4/3slgbrxj3z3dm65l82539j6w0000gq/T/ipykernel_84229/1179976266.py:7: DeprecationWarning: cdf_kwargs and zarr_kwargs are deprecated and will be removed in a future version. Please use xarray_open_kwargs instead.\n",
      "  dsets = col_subset.to_dataset_dict(zarr_kwargs={\"consolidated\": True}, storage_options={\"anon\": True})\n"
     ]
    },
    {
     "data": {
      "text/html": [
       "\n",
       "<style>\n",
       "    /* Turns off some styling */\n",
       "    progress {\n",
       "        /* gets rid of default border in Firefox and Opera. */\n",
       "        border: none;\n",
       "        /* Needs to be in here for Safari polyfill so background images work as expected. */\n",
       "        background-size: auto;\n",
       "    }\n",
       "    progress:not([value]), progress:not([value])::-webkit-progress-bar {\n",
       "        background: repeating-linear-gradient(45deg, #7e7e7e, #7e7e7e 10px, #5c5c5c 10px, #5c5c5c 20px);\n",
       "    }\n",
       "    .progress-bar-interrupted, .progress-bar-interrupted::-webkit-progress-bar {\n",
       "        background: #F44336;\n",
       "    }\n",
       "</style>\n"
      ],
      "text/plain": [
       "<IPython.core.display.HTML object>"
      ]
     },
     "metadata": {},
     "output_type": "display_data"
    },
    {
     "data": {
      "text/html": [
       "\n",
       "    <div>\n",
       "      <progress value='3' class='' max='3' style='width:300px; height:20px; vertical-align: middle;'></progress>\n",
       "      100.00% [3/3 00:03&lt;00:00]\n",
       "    </div>\n",
       "    "
      ],
      "text/plain": [
       "<IPython.core.display.HTML object>"
      ]
     },
     "metadata": {},
     "output_type": "display_data"
    },
    {
     "name": "stdout",
     "output_type": "stream",
     "text": [
      "\n",
      "Dataset dictionary keys:\n",
      " dict_keys(['atm.HIST.daily', 'atm.20C.daily', 'atm.RCP85.daily'])\n"
     ]
    }
   ],
   "source": [
    "catalog_url = 'https://ncar-cesm-lens.s3-us-west-2.amazonaws.com/catalogs/aws-cesm1-le.json'\n",
    "col = intake.open_esm_datastore(catalog_url)\n",
    "\n",
    "col_subset = col.search(frequency=[\"daily\"], component=\"atm\", variable=\"PRECT\",\n",
    "                        experiment=[\"20C\", \"RCP85\", \"HIST\"])\n",
    "\n",
    "dsets = col_subset.to_dataset_dict(zarr_kwargs={\"consolidated\": True}, storage_options={\"anon\": True})\n",
    "print(f\"\\nDataset dictionary keys:\\n {dsets.keys()}\")\n",
    "\n",
    "ds_20C = dsets['atm.20C.daily']['PRECT']\n",
    "\n",
    "test = ds_20C.sel(lat=46,lon=-105+360,member_id=105, method=\"nearest\").compute()"
   ]
  },
  {
   "cell_type": "code",
   "execution_count": 349,
   "id": "d32c1e07",
   "metadata": {},
   "outputs": [],
   "source": [
    "import pathlib\n",
    "file = pathlib.Path('')\n",
    "\n",
    "if not file.exists():\n",
    "    \n",
    "\n",
    "    catalog_url = 'https://ncar-cesm-lens.s3-us-west-2.amazonaws.com/catalogs/aws-cesm1-le.json'\n",
    "    col = intake.open_esm_datastore(catalog_url)\n",
    "\n",
    "    col_subset = col.search(frequency=[\"daily\"], component=\"atm\", variable=\"PRECT\",\n",
    "                            experiment=[\"20C\", \"RCP85\", \"HIST\"])\n",
    "\n",
    "    dsets = col_subset.to_dataset_dict(zarr_kwargs={\"consolidated\": True}, storage_options={\"anon\": True})\n",
    "    print(f\"\\nDataset dictionary keys:\\n {dsets.keys()}\")\n",
    "\n",
    "    ds_20C = dsets['atm.20C.daily']['PRECT']\n",
    "    \n",
    "    test = ds_20C.sel(lat=46,lon=-105+360,member_id=105, method=\"nearest\").compute()\n",
    "\n",
    "else:\n",
    "    test = xr.open_dataset(\"test_cesm.nc\")"
   ]
  },
  {
   "cell_type": "code",
   "execution_count": 350,
   "id": "c6cad7b8",
   "metadata": {},
   "outputs": [
    {
     "data": {
      "text/html": [
       "<div><svg style=\"position: absolute; width: 0; height: 0; overflow: hidden\">\n",
       "<defs>\n",
       "<symbol id=\"icon-database\" viewBox=\"0 0 32 32\">\n",
       "<path d=\"M16 0c-8.837 0-16 2.239-16 5v4c0 2.761 7.163 5 16 5s16-2.239 16-5v-4c0-2.761-7.163-5-16-5z\"></path>\n",
       "<path d=\"M16 17c-8.837 0-16-2.239-16-5v6c0 2.761 7.163 5 16 5s16-2.239 16-5v-6c0 2.761-7.163 5-16 5z\"></path>\n",
       "<path d=\"M16 26c-8.837 0-16-2.239-16-5v6c0 2.761 7.163 5 16 5s16-2.239 16-5v-6c0 2.761-7.163 5-16 5z\"></path>\n",
       "</symbol>\n",
       "<symbol id=\"icon-file-text2\" viewBox=\"0 0 32 32\">\n",
       "<path d=\"M28.681 7.159c-0.694-0.947-1.662-2.053-2.724-3.116s-2.169-2.030-3.116-2.724c-1.612-1.182-2.393-1.319-2.841-1.319h-15.5c-1.378 0-2.5 1.121-2.5 2.5v27c0 1.378 1.122 2.5 2.5 2.5h23c1.378 0 2.5-1.122 2.5-2.5v-19.5c0-0.448-0.137-1.23-1.319-2.841zM24.543 5.457c0.959 0.959 1.712 1.825 2.268 2.543h-4.811v-4.811c0.718 0.556 1.584 1.309 2.543 2.268zM28 29.5c0 0.271-0.229 0.5-0.5 0.5h-23c-0.271 0-0.5-0.229-0.5-0.5v-27c0-0.271 0.229-0.5 0.5-0.5 0 0 15.499-0 15.5 0v7c0 0.552 0.448 1 1 1h7v19.5z\"></path>\n",
       "<path d=\"M23 26h-14c-0.552 0-1-0.448-1-1s0.448-1 1-1h14c0.552 0 1 0.448 1 1s-0.448 1-1 1z\"></path>\n",
       "<path d=\"M23 22h-14c-0.552 0-1-0.448-1-1s0.448-1 1-1h14c0.552 0 1 0.448 1 1s-0.448 1-1 1z\"></path>\n",
       "<path d=\"M23 18h-14c-0.552 0-1-0.448-1-1s0.448-1 1-1h14c0.552 0 1 0.448 1 1s-0.448 1-1 1z\"></path>\n",
       "</symbol>\n",
       "</defs>\n",
       "</svg>\n",
       "<style>/* CSS stylesheet for displaying xarray objects in jupyterlab.\n",
       " *\n",
       " */\n",
       "\n",
       ":root {\n",
       "  --xr-font-color0: var(--jp-content-font-color0, rgba(0, 0, 0, 1));\n",
       "  --xr-font-color2: var(--jp-content-font-color2, rgba(0, 0, 0, 0.54));\n",
       "  --xr-font-color3: var(--jp-content-font-color3, rgba(0, 0, 0, 0.38));\n",
       "  --xr-border-color: var(--jp-border-color2, #e0e0e0);\n",
       "  --xr-disabled-color: var(--jp-layout-color3, #bdbdbd);\n",
       "  --xr-background-color: var(--jp-layout-color0, white);\n",
       "  --xr-background-color-row-even: var(--jp-layout-color1, white);\n",
       "  --xr-background-color-row-odd: var(--jp-layout-color2, #eeeeee);\n",
       "}\n",
       "\n",
       "html[theme=dark],\n",
       "body[data-theme=dark],\n",
       "body.vscode-dark {\n",
       "  --xr-font-color0: rgba(255, 255, 255, 1);\n",
       "  --xr-font-color2: rgba(255, 255, 255, 0.54);\n",
       "  --xr-font-color3: rgba(255, 255, 255, 0.38);\n",
       "  --xr-border-color: #1F1F1F;\n",
       "  --xr-disabled-color: #515151;\n",
       "  --xr-background-color: #111111;\n",
       "  --xr-background-color-row-even: #111111;\n",
       "  --xr-background-color-row-odd: #313131;\n",
       "}\n",
       "\n",
       ".xr-wrap {\n",
       "  display: block !important;\n",
       "  min-width: 300px;\n",
       "  max-width: 700px;\n",
       "}\n",
       "\n",
       ".xr-text-repr-fallback {\n",
       "  /* fallback to plain text repr when CSS is not injected (untrusted notebook) */\n",
       "  display: none;\n",
       "}\n",
       "\n",
       ".xr-header {\n",
       "  padding-top: 6px;\n",
       "  padding-bottom: 6px;\n",
       "  margin-bottom: 4px;\n",
       "  border-bottom: solid 1px var(--xr-border-color);\n",
       "}\n",
       "\n",
       ".xr-header > div,\n",
       ".xr-header > ul {\n",
       "  display: inline;\n",
       "  margin-top: 0;\n",
       "  margin-bottom: 0;\n",
       "}\n",
       "\n",
       ".xr-obj-type,\n",
       ".xr-array-name {\n",
       "  margin-left: 2px;\n",
       "  margin-right: 10px;\n",
       "}\n",
       "\n",
       ".xr-obj-type {\n",
       "  color: var(--xr-font-color2);\n",
       "}\n",
       "\n",
       ".xr-sections {\n",
       "  padding-left: 0 !important;\n",
       "  display: grid;\n",
       "  grid-template-columns: 150px auto auto 1fr 20px 20px;\n",
       "}\n",
       "\n",
       ".xr-section-item {\n",
       "  display: contents;\n",
       "}\n",
       "\n",
       ".xr-section-item input {\n",
       "  display: none;\n",
       "}\n",
       "\n",
       ".xr-section-item input + label {\n",
       "  color: var(--xr-disabled-color);\n",
       "}\n",
       "\n",
       ".xr-section-item input:enabled + label {\n",
       "  cursor: pointer;\n",
       "  color: var(--xr-font-color2);\n",
       "}\n",
       "\n",
       ".xr-section-item input:enabled + label:hover {\n",
       "  color: var(--xr-font-color0);\n",
       "}\n",
       "\n",
       ".xr-section-summary {\n",
       "  grid-column: 1;\n",
       "  color: var(--xr-font-color2);\n",
       "  font-weight: 500;\n",
       "}\n",
       "\n",
       ".xr-section-summary > span {\n",
       "  display: inline-block;\n",
       "  padding-left: 0.5em;\n",
       "}\n",
       "\n",
       ".xr-section-summary-in:disabled + label {\n",
       "  color: var(--xr-font-color2);\n",
       "}\n",
       "\n",
       ".xr-section-summary-in + label:before {\n",
       "  display: inline-block;\n",
       "  content: '►';\n",
       "  font-size: 11px;\n",
       "  width: 15px;\n",
       "  text-align: center;\n",
       "}\n",
       "\n",
       ".xr-section-summary-in:disabled + label:before {\n",
       "  color: var(--xr-disabled-color);\n",
       "}\n",
       "\n",
       ".xr-section-summary-in:checked + label:before {\n",
       "  content: '▼';\n",
       "}\n",
       "\n",
       ".xr-section-summary-in:checked + label > span {\n",
       "  display: none;\n",
       "}\n",
       "\n",
       ".xr-section-summary,\n",
       ".xr-section-inline-details {\n",
       "  padding-top: 4px;\n",
       "  padding-bottom: 4px;\n",
       "}\n",
       "\n",
       ".xr-section-inline-details {\n",
       "  grid-column: 2 / -1;\n",
       "}\n",
       "\n",
       ".xr-section-details {\n",
       "  display: none;\n",
       "  grid-column: 1 / -1;\n",
       "  margin-bottom: 5px;\n",
       "}\n",
       "\n",
       ".xr-section-summary-in:checked ~ .xr-section-details {\n",
       "  display: contents;\n",
       "}\n",
       "\n",
       ".xr-array-wrap {\n",
       "  grid-column: 1 / -1;\n",
       "  display: grid;\n",
       "  grid-template-columns: 20px auto;\n",
       "}\n",
       "\n",
       ".xr-array-wrap > label {\n",
       "  grid-column: 1;\n",
       "  vertical-align: top;\n",
       "}\n",
       "\n",
       ".xr-preview {\n",
       "  color: var(--xr-font-color3);\n",
       "}\n",
       "\n",
       ".xr-array-preview,\n",
       ".xr-array-data {\n",
       "  padding: 0 5px !important;\n",
       "  grid-column: 2;\n",
       "}\n",
       "\n",
       ".xr-array-data,\n",
       ".xr-array-in:checked ~ .xr-array-preview {\n",
       "  display: none;\n",
       "}\n",
       "\n",
       ".xr-array-in:checked ~ .xr-array-data,\n",
       ".xr-array-preview {\n",
       "  display: inline-block;\n",
       "}\n",
       "\n",
       ".xr-dim-list {\n",
       "  display: inline-block !important;\n",
       "  list-style: none;\n",
       "  padding: 0 !important;\n",
       "  margin: 0;\n",
       "}\n",
       "\n",
       ".xr-dim-list li {\n",
       "  display: inline-block;\n",
       "  padding: 0;\n",
       "  margin: 0;\n",
       "}\n",
       "\n",
       ".xr-dim-list:before {\n",
       "  content: '(';\n",
       "}\n",
       "\n",
       ".xr-dim-list:after {\n",
       "  content: ')';\n",
       "}\n",
       "\n",
       ".xr-dim-list li:not(:last-child):after {\n",
       "  content: ',';\n",
       "  padding-right: 5px;\n",
       "}\n",
       "\n",
       ".xr-has-index {\n",
       "  font-weight: bold;\n",
       "}\n",
       "\n",
       ".xr-var-list,\n",
       ".xr-var-item {\n",
       "  display: contents;\n",
       "}\n",
       "\n",
       ".xr-var-item > div,\n",
       ".xr-var-item label,\n",
       ".xr-var-item > .xr-var-name span {\n",
       "  background-color: var(--xr-background-color-row-even);\n",
       "  margin-bottom: 0;\n",
       "}\n",
       "\n",
       ".xr-var-item > .xr-var-name:hover span {\n",
       "  padding-right: 5px;\n",
       "}\n",
       "\n",
       ".xr-var-list > li:nth-child(odd) > div,\n",
       ".xr-var-list > li:nth-child(odd) > label,\n",
       ".xr-var-list > li:nth-child(odd) > .xr-var-name span {\n",
       "  background-color: var(--xr-background-color-row-odd);\n",
       "}\n",
       "\n",
       ".xr-var-name {\n",
       "  grid-column: 1;\n",
       "}\n",
       "\n",
       ".xr-var-dims {\n",
       "  grid-column: 2;\n",
       "}\n",
       "\n",
       ".xr-var-dtype {\n",
       "  grid-column: 3;\n",
       "  text-align: right;\n",
       "  color: var(--xr-font-color2);\n",
       "}\n",
       "\n",
       ".xr-var-preview {\n",
       "  grid-column: 4;\n",
       "}\n",
       "\n",
       ".xr-index-preview {\n",
       "  grid-column: 2 / 5;\n",
       "  color: var(--xr-font-color2);\n",
       "}\n",
       "\n",
       ".xr-var-name,\n",
       ".xr-var-dims,\n",
       ".xr-var-dtype,\n",
       ".xr-preview,\n",
       ".xr-attrs dt {\n",
       "  white-space: nowrap;\n",
       "  overflow: hidden;\n",
       "  text-overflow: ellipsis;\n",
       "  padding-right: 10px;\n",
       "}\n",
       "\n",
       ".xr-var-name:hover,\n",
       ".xr-var-dims:hover,\n",
       ".xr-var-dtype:hover,\n",
       ".xr-attrs dt:hover {\n",
       "  overflow: visible;\n",
       "  width: auto;\n",
       "  z-index: 1;\n",
       "}\n",
       "\n",
       ".xr-var-attrs,\n",
       ".xr-var-data,\n",
       ".xr-index-data {\n",
       "  display: none;\n",
       "  background-color: var(--xr-background-color) !important;\n",
       "  padding-bottom: 5px !important;\n",
       "}\n",
       "\n",
       ".xr-var-attrs-in:checked ~ .xr-var-attrs,\n",
       ".xr-var-data-in:checked ~ .xr-var-data,\n",
       ".xr-index-data-in:checked ~ .xr-index-data {\n",
       "  display: block;\n",
       "}\n",
       "\n",
       ".xr-var-data > table {\n",
       "  float: right;\n",
       "}\n",
       "\n",
       ".xr-var-name span,\n",
       ".xr-var-data,\n",
       ".xr-index-name div,\n",
       ".xr-index-data,\n",
       ".xr-attrs {\n",
       "  padding-left: 25px !important;\n",
       "}\n",
       "\n",
       ".xr-attrs,\n",
       ".xr-var-attrs,\n",
       ".xr-var-data,\n",
       ".xr-index-data {\n",
       "  grid-column: 1 / -1;\n",
       "}\n",
       "\n",
       "dl.xr-attrs {\n",
       "  padding: 0;\n",
       "  margin: 0;\n",
       "  display: grid;\n",
       "  grid-template-columns: 125px auto;\n",
       "}\n",
       "\n",
       ".xr-attrs dt,\n",
       ".xr-attrs dd {\n",
       "  padding: 0;\n",
       "  margin: 0;\n",
       "  float: left;\n",
       "  padding-right: 10px;\n",
       "  width: auto;\n",
       "}\n",
       "\n",
       ".xr-attrs dt {\n",
       "  font-weight: normal;\n",
       "  grid-column: 1;\n",
       "}\n",
       "\n",
       ".xr-attrs dt:hover span {\n",
       "  display: inline-block;\n",
       "  background: var(--xr-background-color);\n",
       "  padding-right: 10px;\n",
       "}\n",
       "\n",
       ".xr-attrs dd {\n",
       "  grid-column: 2;\n",
       "  white-space: pre-wrap;\n",
       "  word-break: break-all;\n",
       "}\n",
       "\n",
       ".xr-icon-database,\n",
       ".xr-icon-file-text2,\n",
       ".xr-no-icon {\n",
       "  display: inline-block;\n",
       "  vertical-align: middle;\n",
       "  width: 1em;\n",
       "  height: 1.5em !important;\n",
       "  stroke-width: 0;\n",
       "  stroke: currentColor;\n",
       "  fill: currentColor;\n",
       "}\n",
       "</style><pre class='xr-text-repr-fallback'>&lt;xarray.Dataset&gt;\n",
       "Dimensions:    (time: 31390)\n",
       "Coordinates:\n",
       "    lat        float64 ...\n",
       "    lon        float64 ...\n",
       "    member_id  int64 ...\n",
       "  * time       (time) object 1920-01-01 12:00:00 ... 2005-12-31 12:00:00\n",
       "Data variables:\n",
       "    PRECT      (time) float32 ...</pre><div class='xr-wrap' style='display:none'><div class='xr-header'><div class='xr-obj-type'>xarray.Dataset</div></div><ul class='xr-sections'><li class='xr-section-item'><input id='section-82b4c305-6c48-41ff-a326-446099bfcb10' class='xr-section-summary-in' type='checkbox' disabled ><label for='section-82b4c305-6c48-41ff-a326-446099bfcb10' class='xr-section-summary'  title='Expand/collapse section'>Dimensions:</label><div class='xr-section-inline-details'><ul class='xr-dim-list'><li><span class='xr-has-index'>time</span>: 31390</li></ul></div><div class='xr-section-details'></div></li><li class='xr-section-item'><input id='section-ee3fe8ef-859f-4f93-b687-52b22a12d54b' class='xr-section-summary-in' type='checkbox'  checked><label for='section-ee3fe8ef-859f-4f93-b687-52b22a12d54b' class='xr-section-summary' >Coordinates: <span>(4)</span></label><div class='xr-section-inline-details'></div><div class='xr-section-details'><ul class='xr-var-list'><li class='xr-var-item'><div class='xr-var-name'><span>lat</span></div><div class='xr-var-dims'>()</div><div class='xr-var-dtype'>float64</div><div class='xr-var-preview xr-preview'>...</div><input id='attrs-e21b3ad9-564a-4e8a-a6c3-ee29b3eaba03' class='xr-var-attrs-in' type='checkbox' ><label for='attrs-e21b3ad9-564a-4e8a-a6c3-ee29b3eaba03' title='Show/Hide attributes'><svg class='icon xr-icon-file-text2'><use xlink:href='#icon-file-text2'></use></svg></label><input id='data-2675a1bd-8c9c-4c77-baa4-073f9dc5d424' class='xr-var-data-in' type='checkbox'><label for='data-2675a1bd-8c9c-4c77-baa4-073f9dc5d424' title='Show/Hide data repr'><svg class='icon xr-icon-database'><use xlink:href='#icon-database'></use></svg></label><div class='xr-var-attrs'><dl class='xr-attrs'><dt><span>axis :</span></dt><dd>Y</dd><dt><span>bounds :</span></dt><dd>lat_bnds</dd><dt><span>long_name :</span></dt><dd>latitude</dd><dt><span>standard_name :</span></dt><dd>latitude</dd><dt><span>units :</span></dt><dd>degrees_north</dd></dl></div><div class='xr-var-data'><pre>[1 values with dtype=float64]</pre></div></li><li class='xr-var-item'><div class='xr-var-name'><span>lon</span></div><div class='xr-var-dims'>()</div><div class='xr-var-dtype'>float64</div><div class='xr-var-preview xr-preview'>...</div><input id='attrs-8f2b8a95-bca6-48d8-8378-e2fa507491e9' class='xr-var-attrs-in' type='checkbox' ><label for='attrs-8f2b8a95-bca6-48d8-8378-e2fa507491e9' title='Show/Hide attributes'><svg class='icon xr-icon-file-text2'><use xlink:href='#icon-file-text2'></use></svg></label><input id='data-56e383c3-5505-499c-933d-37888b1554e1' class='xr-var-data-in' type='checkbox'><label for='data-56e383c3-5505-499c-933d-37888b1554e1' title='Show/Hide data repr'><svg class='icon xr-icon-database'><use xlink:href='#icon-database'></use></svg></label><div class='xr-var-attrs'><dl class='xr-attrs'><dt><span>long_name :</span></dt><dd>longitude</dd><dt><span>units :</span></dt><dd>degrees_east</dd></dl></div><div class='xr-var-data'><pre>[1 values with dtype=float64]</pre></div></li><li class='xr-var-item'><div class='xr-var-name'><span>member_id</span></div><div class='xr-var-dims'>()</div><div class='xr-var-dtype'>int64</div><div class='xr-var-preview xr-preview'>...</div><input id='attrs-ba87cdda-49ec-47b8-b262-70c4d11497f3' class='xr-var-attrs-in' type='checkbox' disabled><label for='attrs-ba87cdda-49ec-47b8-b262-70c4d11497f3' title='Show/Hide attributes'><svg class='icon xr-icon-file-text2'><use xlink:href='#icon-file-text2'></use></svg></label><input id='data-1cc7100c-9c08-4ab2-941d-c27a529b50bf' class='xr-var-data-in' type='checkbox'><label for='data-1cc7100c-9c08-4ab2-941d-c27a529b50bf' title='Show/Hide data repr'><svg class='icon xr-icon-database'><use xlink:href='#icon-database'></use></svg></label><div class='xr-var-attrs'><dl class='xr-attrs'></dl></div><div class='xr-var-data'><pre>[1 values with dtype=int64]</pre></div></li><li class='xr-var-item'><div class='xr-var-name'><span class='xr-has-index'>time</span></div><div class='xr-var-dims'>(time)</div><div class='xr-var-dtype'>object</div><div class='xr-var-preview xr-preview'>1920-01-01 12:00:00 ... 2005-12-...</div><input id='attrs-773aeb0f-cdd1-43d7-8aa2-830be06aaa79' class='xr-var-attrs-in' type='checkbox' ><label for='attrs-773aeb0f-cdd1-43d7-8aa2-830be06aaa79' title='Show/Hide attributes'><svg class='icon xr-icon-file-text2'><use xlink:href='#icon-file-text2'></use></svg></label><input id='data-95551d7c-4b70-404e-8d31-be69011bb445' class='xr-var-data-in' type='checkbox'><label for='data-95551d7c-4b70-404e-8d31-be69011bb445' title='Show/Hide data repr'><svg class='icon xr-icon-database'><use xlink:href='#icon-database'></use></svg></label><div class='xr-var-attrs'><dl class='xr-attrs'><dt><span>bounds :</span></dt><dd>time_bnds</dd><dt><span>long_name :</span></dt><dd>time</dd></dl></div><div class='xr-var-data'><pre>array([cftime.DatetimeNoLeap(1920, 1, 1, 12, 0, 0, 0, has_year_zero=True),\n",
       "       cftime.DatetimeNoLeap(1920, 1, 2, 12, 0, 0, 0, has_year_zero=True),\n",
       "       cftime.DatetimeNoLeap(1920, 1, 3, 12, 0, 0, 0, has_year_zero=True), ...,\n",
       "       cftime.DatetimeNoLeap(2005, 12, 29, 12, 0, 0, 0, has_year_zero=True),\n",
       "       cftime.DatetimeNoLeap(2005, 12, 30, 12, 0, 0, 0, has_year_zero=True),\n",
       "       cftime.DatetimeNoLeap(2005, 12, 31, 12, 0, 0, 0, has_year_zero=True)],\n",
       "      dtype=object)</pre></div></li></ul></div></li><li class='xr-section-item'><input id='section-fcdfbfeb-38c9-43f4-b265-2c6d868b6602' class='xr-section-summary-in' type='checkbox'  checked><label for='section-fcdfbfeb-38c9-43f4-b265-2c6d868b6602' class='xr-section-summary' >Data variables: <span>(1)</span></label><div class='xr-section-inline-details'></div><div class='xr-section-details'><ul class='xr-var-list'><li class='xr-var-item'><div class='xr-var-name'><span>PRECT</span></div><div class='xr-var-dims'>(time)</div><div class='xr-var-dtype'>float32</div><div class='xr-var-preview xr-preview'>...</div><input id='attrs-f87df126-5a69-4549-ae57-d903ed12042e' class='xr-var-attrs-in' type='checkbox' ><label for='attrs-f87df126-5a69-4549-ae57-d903ed12042e' title='Show/Hide attributes'><svg class='icon xr-icon-file-text2'><use xlink:href='#icon-file-text2'></use></svg></label><input id='data-25a72614-8930-41f2-b354-e4ca4d49a41d' class='xr-var-data-in' type='checkbox'><label for='data-25a72614-8930-41f2-b354-e4ca4d49a41d' title='Show/Hide data repr'><svg class='icon xr-icon-database'><use xlink:href='#icon-database'></use></svg></label><div class='xr-var-attrs'><dl class='xr-attrs'><dt><span>cell_methods :</span></dt><dd>time: mean</dd><dt><span>long_name :</span></dt><dd>Total (convective and large-scale) precipitation rate (liq + ice)</dd><dt><span>units :</span></dt><dd>m/s</dd></dl></div><div class='xr-var-data'><pre>[31390 values with dtype=float32]</pre></div></li></ul></div></li><li class='xr-section-item'><input id='section-9af7fbe4-013c-45ac-af14-99ef9aa34074' class='xr-section-summary-in' type='checkbox'  ><label for='section-9af7fbe4-013c-45ac-af14-99ef9aa34074' class='xr-section-summary' >Indexes: <span>(1)</span></label><div class='xr-section-inline-details'></div><div class='xr-section-details'><ul class='xr-var-list'><li class='xr-var-item'><div class='xr-index-name'><div>time</div></div><div class='xr-index-preview'>PandasIndex</div><div></div><input id='index-8ac4590e-3b46-4d81-9ebb-b3ef84c43197' class='xr-index-data-in' type='checkbox'/><label for='index-8ac4590e-3b46-4d81-9ebb-b3ef84c43197' title='Show/Hide index repr'><svg class='icon xr-icon-database'><use xlink:href='#icon-database'></use></svg></label><div class='xr-index-data'><pre>PandasIndex(CFTimeIndex([1920-01-01 12:00:00, 1920-01-02 12:00:00, 1920-01-03 12:00:00,\n",
       "             1920-01-04 12:00:00, 1920-01-05 12:00:00, 1920-01-06 12:00:00,\n",
       "             1920-01-07 12:00:00, 1920-01-08 12:00:00, 1920-01-09 12:00:00,\n",
       "             1920-01-10 12:00:00,\n",
       "             ...\n",
       "             2005-12-22 12:00:00, 2005-12-23 12:00:00, 2005-12-24 12:00:00,\n",
       "             2005-12-25 12:00:00, 2005-12-26 12:00:00, 2005-12-27 12:00:00,\n",
       "             2005-12-28 12:00:00, 2005-12-29 12:00:00, 2005-12-30 12:00:00,\n",
       "             2005-12-31 12:00:00],\n",
       "            dtype=&#x27;object&#x27;, length=31390, calendar=&#x27;noleap&#x27;, freq=&#x27;D&#x27;))</pre></div></li></ul></div></li><li class='xr-section-item'><input id='section-72014a9c-f16f-498c-b863-294bc632a7d8' class='xr-section-summary-in' type='checkbox' disabled ><label for='section-72014a9c-f16f-498c-b863-294bc632a7d8' class='xr-section-summary'  title='Expand/collapse section'>Attributes: <span>(0)</span></label><div class='xr-section-inline-details'></div><div class='xr-section-details'><dl class='xr-attrs'></dl></div></li></ul></div></div>"
      ],
      "text/plain": [
       "<xarray.Dataset>\n",
       "Dimensions:    (time: 31390)\n",
       "Coordinates:\n",
       "    lat        float64 ...\n",
       "    lon        float64 ...\n",
       "    member_id  int64 ...\n",
       "  * time       (time) object 1920-01-01 12:00:00 ... 2005-12-31 12:00:00\n",
       "Data variables:\n",
       "    PRECT      (time) float32 ..."
      ]
     },
     "execution_count": 350,
     "metadata": {},
     "output_type": "execute_result"
    }
   ],
   "source": [
    "test"
   ]
  },
  {
   "cell_type": "code",
   "execution_count": 351,
   "id": "84580db0",
   "metadata": {},
   "outputs": [],
   "source": [
    "dr = pd.date_range('1920-01-01','2005-12-31', freq='1D')\n",
    "dates_noleap = dr[(dr.day != 29) | (dr.month != 2)]\n",
    "\n",
    "test['time'] = dates_noleap\n",
    "#test = test.sel(time=slice('1996','1998'))\n",
    "# Renaming datarray to match existing code and changeing from m/s to m\n",
    "ds_subset = test.rename({'PRECT':'precip'})*86400.0\n",
    "### Changing data to mm and removing leap days ###\n",
    "precip = ds_subset['precip']*1000.0\n",
    "precip = precip.sel(time=~((precip.time.dt.month == 2) & (precip.time.dt.day == 29)))\n",
    "\n",
    "### Calculating the mean precipitation for each grid point\n",
    "annual_mean_precip = precip.mean(dim='time')\n",
    "\n",
    "### Calculating the mean annual cycle ###\n",
    "annual_precip_cycle= precip.groupby('time.dayofyear').mean(dim='time')\n",
    "\n",
    "# Pandas creates leap day again with dayofyear use here\n",
    "annual_precip_cycle = annual_precip_cycle[annual_precip_cycle.dayofyear != 60]\n",
    "annual_precip_cycle['dayofyear'] = np.arange(1,365+1,1)\n",
    "\n",
    "annual_precip_cycle_var = precip.groupby('time.dayofyear').std(dim='time')\n",
    "\n",
    "# Pandas creates leap day again with dayofyear use here\n",
    "annual_precip_cycle_var = annual_precip_cycle_var[annual_precip_cycle_var.dayofyear != 60]\n",
    "annual_precip_cycle_var['dayofyear'] = np.arange(1,365+1,1)\n",
    "\n",
    "### Create Daily precip from hourly ###\n",
    "##daily_precip = precip.resample(time='1D').sum()\n",
    "\n",
    "### Create The annual daily precip anomalies ###\n",
    "annual_means = precip.groupby('time.year').mean(dim='time')\n",
    "\n",
    "\n",
    "anomalies = precip.groupby('time.year') - annual_means\n",
    "#anomalies = anomalies_withleap.sel(time=~((anomalies_withleap.time.dt.month == 2) & (anomalies_withleap.time.dt.day == 29)))\n",
    "\n",
    "climDailyMeanAnomaly = annual_precip_cycle - annual_mean_precip"
   ]
  },
  {
   "cell_type": "code",
   "execution_count": 352,
   "id": "12ceb29d-7d93-4d63-92e1-7897ef19bfd4",
   "metadata": {},
   "outputs": [],
   "source": [
    "### Use dask to run the Harmonics finction over the data ### \n",
    "# Slightly faster than a loop but still slow ###\n",
    "\n",
    "start_wet3 = xr.apply_ufunc(\n",
    "    od.B17_analysis_start,\n",
    "    annual_precip_cycle,\n",
    "    input_core_dims=[[\"dayofyear\"]],\n",
    "    exclude_dims=set([\"dayofyear\"]),\n",
    "    vectorize=True,\n",
    "    dask='parallized',\n",
    "    output_dtypes=[annual_precip_cycle.dtype]\n",
    ").values\n"
   ]
  },
  {
   "cell_type": "code",
   "execution_count": 353,
   "id": "ea102d44",
   "metadata": {},
   "outputs": [
    {
     "data": {
      "text/plain": [
       "array(354., dtype=float32)"
      ]
     },
     "execution_count": 353,
     "metadata": {},
     "output_type": "execute_result"
    }
   ],
   "source": [
    "start_wet3"
   ]
  },
  {
   "cell_type": "code",
   "execution_count": 355,
   "id": "2fee7c71",
   "metadata": {
    "pycharm": {
     "name": "#%%\n"
    }
   },
   "outputs": [],
   "source": [
    "array_jday = anomalies.time.dt.dayofyear\n",
    "input_data = anomalies.assign_coords(jday=(\"time\",array_jday.data))"
   ]
  },
  {
   "cell_type": "code",
   "execution_count": 356,
   "id": "a1967d28",
   "metadata": {},
   "outputs": [],
   "source": [
    "days = np.array(pd.DatetimeIndex(input_data.time).dayofyear)\n"
   ]
  },
  {
   "cell_type": "code",
   "execution_count": 357,
   "id": "4f72d1a9",
   "metadata": {},
   "outputs": [],
   "source": [
    "years = np.array(pd.DatetimeIndex(input_data.time).year)"
   ]
  },
  {
   "cell_type": "code",
   "execution_count": 358,
   "id": "ae305ac5",
   "metadata": {},
   "outputs": [],
   "source": [
    "data = input_data.values"
   ]
  },
  {
   "cell_type": "code",
   "execution_count": 359,
   "id": "1f5e3f3c",
   "metadata": {},
   "outputs": [],
   "source": [
    "years_ = np.unique(test_index)"
   ]
  },
  {
   "cell_type": "code",
   "execution_count": 440,
   "id": "2e4b5598",
   "metadata": {},
   "outputs": [],
   "source": [
    "test_doy = np.array([350, 355, 364,1,3,4])\n",
    "#test_doy = od.onset_LM01(data, days, years, start_wet3)"
   ]
  },
  {
   "cell_type": "code",
   "execution_count": 407,
   "id": "67905e29",
   "metadata": {},
   "outputs": [],
   "source": [
    "test_outliers = test_doy - sf.median_doy(test_doy)"
   ]
  },
  {
   "cell_type": "code",
   "execution_count": 408,
   "id": "88164d5c",
   "metadata": {},
   "outputs": [
    {
     "data": {
      "text/plain": [
       "array([-1.39977736e+01, -8.99777363e+00,  2.22636941e-03, -3.62997774e+02,\n",
       "       -3.60997774e+02, -3.59997774e+02, -1.43997774e+02])"
      ]
     },
     "execution_count": 408,
     "metadata": {},
     "output_type": "execute_result"
    }
   ],
   "source": [
    "test_outliers"
   ]
  },
  {
   "cell_type": "code",
   "execution_count": 441,
   "id": "1f3ca780",
   "metadata": {},
   "outputs": [
    {
     "data": {
      "text/plain": [
       "array([], dtype=int64)"
      ]
     },
     "execution_count": 441,
     "metadata": {},
     "output_type": "execute_result"
    }
   ],
   "source": [
    "np.is sf.check_outliers(test_doy, threshold=1.5)"
   ]
  },
  {
   "cell_type": "code",
   "execution_count": 401,
   "id": "06d3ece4",
   "metadata": {},
   "outputs": [],
   "source": [
    "test_doy[np.isnan(test_doy)] = np.ma.masked\n",
    "#np.any(test_doy < 0)"
   ]
  },
  {
   "cell_type": "code",
   "execution_count": 410,
   "id": "eb9098be",
   "metadata": {},
   "outputs": [
    {
     "data": {
      "text/plain": [
       "-360.497773630592"
      ]
     },
     "execution_count": 410,
     "metadata": {},
     "output_type": "execute_result"
    }
   ],
   "source": [
    "np.nanpercentile(test_outliers,25)"
   ]
  },
  {
   "cell_type": "code",
   "execution_count": 411,
   "id": "f4e82040",
   "metadata": {},
   "outputs": [
    {
     "data": {
      "text/plain": [
       "-11.497773630592008"
      ]
     },
     "execution_count": 411,
     "metadata": {},
     "output_type": "execute_result"
    }
   ],
   "source": [
    "np.nanpercentile(test_outliers,75)"
   ]
  },
  {
   "cell_type": "code",
   "execution_count": 413,
   "id": "f4f1c6bc",
   "metadata": {},
   "outputs": [
    {
     "data": {
      "text/plain": [
       "array([], dtype=int64)"
      ]
     },
     "execution_count": 413,
     "metadata": {},
     "output_type": "execute_result"
    }
   ],
   "source": [
    "sf.check_outliers(test_doy, threshold=1.5)"
   ]
  },
  {
   "cell_type": "code",
   "execution_count": null,
   "id": "1a97e5e5",
   "metadata": {},
   "outputs": [],
   "source": []
  },
  {
   "cell_type": "code",
   "execution_count": null,
   "id": "4f6bf451",
   "metadata": {},
   "outputs": [],
   "source": []
  },
  {
   "cell_type": "code",
   "execution_count": 383,
   "id": "4ea5aea6",
   "metadata": {},
   "outputs": [
    {
     "data": {
      "text/plain": [
       "-18.223071717537422"
      ]
     },
     "execution_count": 383,
     "metadata": {},
     "output_type": "execute_result"
    }
   ],
   "source": [
    "np.nanpercentile(test_outliers,25)"
   ]
  },
  {
   "cell_type": "code",
   "execution_count": 438,
   "id": "9872cd64",
   "metadata": {},
   "outputs": [
    {
     "data": {
      "text/plain": [
       "<module 'seasonality.seasonalityfunctions' from '/Users/gbromley/code/PrecipitationSeasonality/seasonality/seasonalityfunctions.py'>"
      ]
     },
     "execution_count": 438,
     "metadata": {},
     "output_type": "execute_result"
    }
   ],
   "source": [
    "reload(sf)"
   ]
  },
  {
   "cell_type": "code",
   "execution_count": 430,
   "id": "6c01304b",
   "metadata": {},
   "outputs": [],
   "source": [
    "iqr = np.nanpercentile(tmpc,75) - np.nanpercentile(tmpc,25)"
   ]
  },
  {
   "cell_type": "code",
   "execution_count": 417,
   "id": "011fad4f",
   "metadata": {},
   "outputs": [
    {
     "data": {
      "text/plain": [
       "363.997773630592"
      ]
     },
     "execution_count": 417,
     "metadata": {},
     "output_type": "execute_result"
    }
   ],
   "source": [
    "sf.median_doy(test_doy)"
   ]
  },
  {
   "cell_type": "code",
   "execution_count": 423,
   "id": "e3aec0e3",
   "metadata": {},
   "outputs": [
    {
     "data": {
      "text/plain": [
       "array([ -13.99777363,   -8.99777363,    0.00222637, -362.99777363,\n",
       "       -360.99777363, -359.99777363, -143.99777363])"
      ]
     },
     "execution_count": 423,
     "metadata": {},
     "output_type": "execute_result"
    }
   ],
   "source": [
    "np.set_printoptions(suppress=True)\n",
    "test_outliers"
   ]
  },
  {
   "cell_type": "code",
   "execution_count": 419,
   "id": "a5ba51e3",
   "metadata": {},
   "outputs": [
    {
     "data": {
      "text/plain": [
       "349.0"
      ]
     },
     "execution_count": 419,
     "metadata": {},
     "output_type": "execute_result"
    }
   ],
   "source": [
    "iqr"
   ]
  },
  {
   "cell_type": "code",
   "execution_count": 425,
   "id": "d461a890",
   "metadata": {},
   "outputs": [
    {
     "data": {
      "text/plain": [
       "array([ -13.99777363,   -8.99777363,    0.00222637, -362.99777363,\n",
       "       -360.99777363, -359.99777363, -143.99777363])"
      ]
     },
     "execution_count": 425,
     "metadata": {},
     "output_type": "execute_result"
    }
   ],
   "source": [
    "test_outliers"
   ]
  },
  {
   "cell_type": "code",
   "execution_count": 427,
   "id": "ca9f3212",
   "metadata": {},
   "outputs": [
    {
     "data": {
      "text/plain": [
       "-182.5"
      ]
     },
     "execution_count": 427,
     "metadata": {},
     "output_type": "execute_result"
    }
   ],
   "source": [
    "365* -.5"
   ]
  },
  {
   "cell_type": "code",
   "execution_count": 431,
   "id": "0f40683c",
   "metadata": {},
   "outputs": [
    {
     "data": {
      "text/plain": [
       "array([6])"
      ]
     },
     "execution_count": 431,
     "metadata": {},
     "output_type": "execute_result"
    }
   ],
   "source": [
    "np.where(np.abs(tmpc) > iqr*1.5)[0]"
   ]
  },
  {
   "cell_type": "code",
   "execution_count": 437,
   "id": "fce5cecb",
   "metadata": {},
   "outputs": [
    {
     "data": {
      "text/plain": [
       "array([-143.99777363])"
      ]
     },
     "execution_count": 437,
     "metadata": {},
     "output_type": "execute_result"
    }
   ],
   "source": [
    "tmpc[np.where(np.abs(tmpc) > iqr*1.5)[0]]"
   ]
  },
  {
   "cell_type": "code",
   "execution_count": 439,
   "id": "5c40adf9",
   "metadata": {},
   "outputs": [
    {
     "data": {
      "text/plain": [
       "array([6])"
      ]
     },
     "execution_count": 439,
     "metadata": {},
     "output_type": "execute_result"
    }
   ],
   "source": [
    "sf.check_outliers(test_doy)"
   ]
  },
  {
   "cell_type": "code",
   "execution_count": 422,
   "id": "2d42fa92",
   "metadata": {},
   "outputs": [
    {
     "name": "stdout",
     "output_type": "stream",
     "text": [
      "2\n"
     ]
    }
   ],
   "source": [
    "tot=365\n",
    "tmpc = test_doy - sf.median_doy(test_doy)\n",
    "pos=np.where(tmpc[:] > float(tot)*0.5)[0]\n",
    "if len(pos) > 0:\n",
    "    print('1')\n",
    "    tmpc[pos]=tmpc[pos]-tot\n",
    "neg=np.where(tmpc[:] < float(tot)*(-0.5))[0]\n",
    "if len(neg) > 0:\n",
    "    print(2)\n",
    "    tmpc[neg]=tmpc[neg]+tot"
   ]
  },
  {
   "cell_type": "code",
   "execution_count": 428,
   "id": "b313dc5c",
   "metadata": {},
   "outputs": [
    {
     "data": {
      "text/plain": [
       "array([ -13.99777363,   -8.99777363,    0.00222637,    2.00222637,\n",
       "          4.00222637,    5.00222637, -143.99777363])"
      ]
     },
     "execution_count": 428,
     "metadata": {},
     "output_type": "execute_result"
    }
   ],
   "source": [
    "tmpc"
   ]
  },
  {
   "cell_type": "code",
   "execution_count": 185,
   "id": "5aa376d8",
   "metadata": {},
   "outputs": [],
   "source": [
    "def test_B17(data, days, years, startWet):\n",
    "    \n",
    "    \"\"\"\n",
    "    Summary:\n",
    "    --------\n",
    "    Calculates the start of a wet season using the Bombardi et al., 2017 methods. \n",
    "    \n",
    "    Input:\n",
    "    ------\n",
    "        data: Daily precipitation anomalies.\n",
    "        days: Numpy array of day of year (1-365), no leap.\n",
    "        years: Numpy array of year for each item in days.\n",
    "        startWet: The doy for when to start the cumulative sum calcuation.\n",
    "    \n",
    "    Output:\n",
    "    -------\n",
    "        onsetDOY: Array of onset dates. Length is the same as the number of years on input data.\n",
    "\n",
    "    \n",
    "    \"\"\"\n",
    "    # TODO move lines 206-250 to seperate class or function\n",
    "    if len(days) != len(years):\n",
    "        raise ValueError('Length of days and years must be the same.')\n",
    "        \n",
    "    # Want to make sure we get all the input years before any trimming\n",
    "    unique_years = np.unique(years)\n",
    "    \n",
    "    onsetDOY = np.empty((len(unique_years)))\n",
    "    onsetDOY[:] = np.nan\n",
    "    \n",
    "\n",
    "\n",
    "    # Day of year is missing integer 60 which is February 29th.\n",
    "    # Need to add zero because a tuple is returned from np.where\n",
    "    temp_start_index = np.where(days == startWet)[0]\n",
    "    print(temp_start_index)\n",
    "    #print(len(data))\n",
    "    # double check we have enough data for last onset calculation\n",
    "    if len(days[temp_start_index[-1]:]) < 180:\n",
    "        #print(temp_start_index[0],temp_start_index[-1])\n",
    "        # trim off data we can't use\n",
    "        data_trimmed = data[temp_start_index[0]:temp_start_index[-1]]\n",
    "        days_trimmed = days[temp_start_index[0]:temp_start_index[-1]]\n",
    "        years_trimmed = years[temp_start_index[0]:temp_start_index[-1]]\n",
    "    else:\n",
    "        data_trimmed = data\n",
    "        days_trimmed = days\n",
    "        years_trimmed = years\n",
    "    #print(days_trimmed)\n",
    "    #print(years_trimmed)       \n",
    "    # Reindex start days with trimmed days  \n",
    "    # Need to add zero because a tuple is returned from np.where\n",
    "    start_day_index = np.where(days_trimmed == startWet)[0]\n",
    "    #print(data_trimmed)\n",
    "    ### looping through start dates ###\n",
    "    for start_day in start_day_index:\n",
    "        \n",
    "        # Make analysis period 180 days in length. \n",
    "        #TODO #check that 180 days matters\n",
    "        analysis_begin = start_day\n",
    "        analysis_end = start_day + 180\n",
    "        \n",
    "        analysis_days = days_trimmed[analysis_begin:analysis_end]\n",
    "        analysis_years = years_trimmed[analysis_begin:analysis_end]\n",
    "        \n",
    "        cumsum_data = np.cumsum(data_trimmed[analysis_begin:analysis_end])\n",
    "        \n",
    "        #smoothed_cs_data = sf.smooth_B17(cumsum_data)\n",
    "        \n",
    "        deriv = np.gradient(cumsum_data)\n",
    "        #print(deriv)\n",
    "        window=6\n",
    "        # Numpy function that returns the sign of each element\n",
    "        # -1 if negative, 0 if 0, 1 if positive\n",
    "        sign_array = np.sign(deriv)\n",
    "    \n",
    "    \n",
    "    \n",
    "    \n",
    "        # build up the inflection window\n",
    "        inflection_array = np.ones(window)\n",
    "    \n",
    "        # Finding the middle of the window, rounded down if odd.\n",
    "        split = int(np.floor(window/2))\n",
    "    \n",
    "        # Make first half -1\n",
    "        inflection_array[:split] = -1\n",
    "        \n",
    "        print(inflection_array)\n",
    "        testing = np.lib.stride_tricks.sliding_window_view(sign_array,window)\n",
    "        #print(testing[:6])\n",
    "        result = np.where(np.all(testing== inflection_array, axis=1))\n",
    "        #print(result[0][0])\n",
    "        onset_index = result[0][0]\n",
    "        \n",
    "        \n",
    "        # this returns the index of the data not the day\n",
    "        print(result[0])\n",
    "        \n",
    "        onset_day = analysis_days[onset_index]\n",
    "        onset_year = analysis_years[onset_index]\n",
    "        #print(analysis_years)\n",
    "        #print(onset_day)\n",
    "        where_to_place = np.argwhere(unique_years == onset_year)[0][0]\n",
    "        onsetDOY[where_to_place] = onset_day\n",
    "        \n",
    "    return onsetDOY\n",
    "    "
   ]
  },
  {
   "cell_type": "code",
   "execution_count": null,
   "id": "861f2f28",
   "metadata": {},
   "outputs": [],
   "source": []
  },
  {
   "cell_type": "code",
   "execution_count": 176,
   "id": "f737c115",
   "metadata": {},
   "outputs": [
    {
     "name": "stdout",
     "output_type": "stream",
     "text": [
      "[ 352  718 1083]\n",
      "[  0 366]\n",
      "[1996 1997]\n"
     ]
    }
   ],
   "source": [
    "days = time_onset\n",
    "years = test_index\n",
    "startWet=354\n",
    "temp_start_index = np.where(days == startWet)[0]\n",
    "print(temp_start_index)\n",
    "#print(len(data))\n",
    "# double check we have enough data for last onset calculation\n",
    "if len(days[temp_start_index[-1]:]) < 180 and 365-len(days[:temp_start_index[0]]):\n",
    "    #print(temp_start_index[0],temp_start_index[-1])\n",
    "    # trim off data we can't use\n",
    "    data_trimmed = data[temp_start_index[0]:temp_start_index[-1]]\n",
    "    days_trimmed = days[temp_start_index[0]:temp_start_index[-1]]\n",
    "    years_trimmed = years[temp_start_index[0]:temp_start_index[-1]]\n",
    "else:\n",
    "    data_trimmed = data\n",
    "    days_trimmed = days\n",
    "    years_trimmed = years\n",
    "#print(days_trimmed)\n",
    "#print(years_trimmed)       \n",
    "# Reindex start days with trimmed days  \n",
    "# Need to add zero because a tuple is returned from np.where\n",
    "start_day_index = np.where(days_trimmed == startWet)[0]\n",
    "print(start_day_index)\n",
    "print(years_trimmed[start_day_index])"
   ]
  },
  {
   "cell_type": "code",
   "execution_count": 184,
   "id": "57aa4914",
   "metadata": {},
   "outputs": [
    {
     "name": "stdout",
     "output_type": "stream",
     "text": [
      "[-1. -1. -1.  1.  1.  1.]\n",
      "[  4 131]\n"
     ]
    }
   ],
   "source": [
    "analysis_begin = 0\n",
    "analysis_end = 180\n",
    "\n",
    "#analysis_days = days_trimmed[analysis_begin:analysis_end]\n",
    "#analysis_years = years_trimmed[analysis_begin:analysis_end]\n",
    "\n",
    "#cumsum_data = np.cumsum(data_trimmed[analysis_begin:analysis_end])\n",
    "\n",
    "test_cumsum = np.cumsum(data_trimmed[analysis_begin:analysis_end])\n",
    "smoothed_cs_data = sf.smooth_B17(test_cumsum)\n",
    "test_deriv = np.gradient(test_cumsum)\n",
    "test_sign = np.sign(test_deriv)\n",
    "window=6\n",
    "# build up the inflection window\n",
    "inflection_array = np.ones(window)\n",
    "\n",
    "# Finding the middle of the window, rounded down if odd.\n",
    "split = int(np.floor(window/2))\n",
    "\n",
    "# Make first half -1\n",
    "inflection_array[:split] = -1\n",
    "\n",
    "testing = np.lib.stride_tricks.sliding_window_view(test_sign,window)\n",
    "#print(testing)\n",
    "print(inflection_array)\n",
    "result = np.where(np.all(testing == inflection_array, axis=1))\n",
    "print(result[0])\n",
    "#onset_index = result[0][0]\n",
    "\n",
    "\n"
   ]
  },
  {
   "cell_type": "code",
   "execution_count": 180,
   "id": "50f21b89",
   "metadata": {},
   "outputs": [
    {
     "name": "stdout",
     "output_type": "stream",
     "text": [
      "[-1. -1. -1.  1.  1.  1.]\n",
      "[  4 131]\n"
     ]
    }
   ],
   "source": [
    "start_day_index=[0]\n",
    "for start_day in start_day_index:\n",
    "        \n",
    "        # Make analysis period 180 days in length. \n",
    "        #TODO #check that 180 days matters\n",
    "        analysis_begin = start_day\n",
    "        analysis_end = start_day + 180\n",
    "        \n",
    "        analysis_days = days_trimmed[analysis_begin:analysis_end]\n",
    "        analysis_years = years_trimmed[analysis_begin:analysis_end]\n",
    "        \n",
    "        cumsum_data = np.cumsum(data_trimmed[analysis_begin:analysis_end])\n",
    "        \n",
    "        smoothed_cs_data = sf.smooth_B17(cumsum_data)\n",
    "        \n",
    "        deriv = np.gradient(smoothed_cs_data)\n",
    "        #print(deriv)\n",
    "        window=6\n",
    "        # Numpy function that returns the sign of each element\n",
    "        # -1 if negative, 0 if 0, 1 if positive\n",
    "        sign_array = np.sign(deriv)\n",
    "    \n",
    "    \n",
    "    \n",
    "    \n",
    "        # build up the inflection window\n",
    "        inflection_array = np.ones(window)\n",
    "    \n",
    "        # Finding the middle of the window, rounded down if odd.\n",
    "        split = int(np.floor(window/2))\n",
    "    \n",
    "        # Make first half -1\n",
    "        inflection_array[:split] = -1\n",
    "        \n",
    "        print(inflection_array)\n",
    "        testing = np.lib.stride_tricks.sliding_window_view(sign_array,window)\n",
    "        #print(testing[:6])\n",
    "        result = np.where(np.all(testing== inflection_array, axis=1))\n",
    "        #print(result[0][0])\n",
    "        onset_index = result[0][0]\n",
    "        \n",
    "        \n",
    "        # this returns the index of the data not the day\n",
    "        print(result[0])"
   ]
  },
  {
   "cell_type": "code",
   "execution_count": 140,
   "id": "1b9db69a",
   "metadata": {},
   "outputs": [
    {
     "data": {
      "text/plain": [
       "[<matplotlib.lines.Line2D at 0x18bd598d0>]"
      ]
     },
     "execution_count": 140,
     "metadata": {},
     "output_type": "execute_result"
    },
    {
     "data": {
      "image/png": "[encoded data removed]",
      "text/plain": [
       "<Figure size 640x480 with 1 Axes>"
      ]
     },
     "metadata": {},
     "output_type": "display_data"
    }
   ],
   "source": [
    "#plt.plot(np.cumsum(data[352:352+100]))\n",
    "#plt.plot(sf.smooth_B17(test_cumsum))\n",
    "plt.plot(test_deriv[0:20])\n",
    "plt.plot(test_sign[0:20])"
   ]
  },
  {
   "cell_type": "code",
   "execution_count": 186,
   "id": "ce88127a",
   "metadata": {},
   "outputs": [
    {
     "name": "stdout",
     "output_type": "stream",
     "text": [
      "[ 352  718 1083]\n",
      "[-1. -1. -1.  1.  1.  1.]\n",
      "[135 157]\n",
      "[-1. -1. -1.  1.  1.  1.]\n",
      "[108 120 137 172]\n"
     ]
    },
    {
     "data": {
      "text/plain": [
       "array([ nan, 123.,  97.])"
      ]
     },
     "execution_count": 186,
     "metadata": {},
     "output_type": "execute_result"
    }
   ],
   "source": [
    "test_B17(data,time_onset,test_index, 354)"
   ]
  },
  {
   "cell_type": "code",
   "execution_count": 144,
   "id": "41b01082",
   "metadata": {},
   "outputs": [
    {
     "data": {
      "text/plain": [
       "112.0"
      ]
     },
     "execution_count": 144,
     "metadata": {},
     "output_type": "execute_result"
    }
   ],
   "source": [
    "test_lm01[76]\n"
   ]
  },
  {
   "cell_type": "code",
   "execution_count": 15,
   "id": "c5cc4df8",
   "metadata": {},
   "outputs": [],
   "source": [
    "test_b17 = od.onset_B17(data,time_onset,test_index, 354)"
   ]
  },
  {
   "cell_type": "code",
   "execution_count": 18,
   "id": "7bd0884f",
   "metadata": {},
   "outputs": [
    {
     "data": {
      "text/plain": [
       "array([  nan,    4.,    1.,   70.,    4.,    5.,    5.,    7.,    6.,\n",
       "        115.,    4.,   70.,    3.,    6.,   11.,  105.,   84.,    3.,\n",
       "         59.,    7.,   46.,   34.,   26.,    7.,    4.,    3.,   48.,\n",
       "          5.,    9.,    3.,   39.,   39.,    2.,    1.,   36.,   50.,\n",
       "          3.,   26.,   45.,    3.,    4.,   49.,  100.,   33.,    6.,\n",
       "         65.,   36.,    1.,    5.,    3.,    5.,   64.,   32.,   28.,\n",
       "          2.,   39.,    6.,    7.,   61.,    2.,    6.,   93.,   42.,\n",
       "          1.,    6.,   39.,    4.,   78.,   22.,    1.,  123.,   56.,\n",
       "          1.,    7.,    8.,    5., -247.,   nan,    3.,   19.,   67.,\n",
       "          5.,   42.,    8.,    5.,   25.])"
      ]
     },
     "execution_count": 18,
     "metadata": {},
     "output_type": "execute_result"
    }
   ],
   "source": [
    "data"
   ]
  },
  {
   "cell_type": "code",
   "execution_count": 24,
   "id": "7d9c61d4",
   "metadata": {},
   "outputs": [
    {
     "data": {
      "text/plain": [
       "array([[ 0],\n",
       "       [77]])"
      ]
     },
     "execution_count": 24,
     "metadata": {},
     "output_type": "execute_result"
    }
   ],
   "source": [
    "np.argwhere(np.isnan(test_b17))"
   ]
  },
  {
   "cell_type": "code",
   "execution_count": 27,
   "id": "5ef9b5df",
   "metadata": {},
   "outputs": [
    {
     "data": {
      "text/plain": [
       "1997"
      ]
     },
     "execution_count": 27,
     "metadata": {},
     "output_type": "execute_result"
    }
   ],
   "source": [
    "years_[77]"
   ]
  },
  {
   "cell_type": "code",
   "execution_count": 152,
   "id": "8593dd06",
   "metadata": {},
   "outputs": [],
   "source": [
    "onset_date = np.array([pd.to_datetime(i, format='%Y') + pd.Timedelta(k, unit='D') for i,k in zip(years_,test_onset_output)])"
   ]
  },
  {
   "cell_type": "code",
   "execution_count": 12,
   "id": "03d89cc5",
   "metadata": {},
   "outputs": [
    {
     "data": {
      "text/plain": [
       "array([316., 286., 303., 338., 266., 264., 281., 263., 292., 309., 333.,\n",
       "       268., 271., 312., 243., 324., 278., 264., 258., 272., 303., 276.,\n",
       "       317., 240., 306., 337., 315., 282., 323., 316., 305., 331., 309.,\n",
       "       298., 301., 297., 288., 269., 275., 226., 314., 281., 341., 289.,\n",
       "       224., 228., 320., 334., 258., 318., 266., 315., 330., 302., 288.,\n",
       "       270., 323., 263., 335., 284., 282., 279., 265., 335., 311., 302.,\n",
       "       314., 296., 295., 314., 278., 294., 294., 314., 318., 307., 271.,\n",
       "       244., 256., 309., 300., 322., 328., 303., 336., 280.])"
      ]
     },
     "execution_count": 12,
     "metadata": {},
     "output_type": "execute_result"
    }
   ],
   "source": [
    "od.onset_B17(data[::-1],time_onset[::-1],test_index[::-1], 354)"
   ]
  },
  {
   "cell_type": "code",
   "execution_count": 233,
   "id": "5bd2ea40",
   "metadata": {},
   "outputs": [
    {
     "data": {
      "text/plain": [
       "array([ True,  True,  True,  True,  True,  True,  True,  True,  True,\n",
       "        True,  True,  True,  True,  True,  True,  True,  True,  True,\n",
       "        True,  True,  True,  True,  True,  True,  True,  True,  True,\n",
       "        True,  True,  True,  True,  True,  True,  True,  True,  True,\n",
       "        True,  True,  True,  True,  True,  True,  True,  True,  True,\n",
       "        True,  True,  True,  True,  True,  True,  True,  True,  True,\n",
       "        True,  True,  True,  True,  True,  True,  True,  True,  True,\n",
       "        True,  True,  True,  True,  True,  True,  True,  True,  True,\n",
       "        True,  True,  True,  True,  True,  True,  True,  True,  True,\n",
       "        True,  True,  True,  True,  True])"
      ]
     },
     "execution_count": 233,
     "metadata": {},
     "output_type": "execute_result"
    }
   ],
   "source": [
    "onset_LM01(data[::-1],time_onset[::-1],test_index[::-1], 354) == demise_LM01(data,time_onset,test_index,354)"
   ]
  },
  {
   "cell_type": "code",
   "execution_count": 234,
   "id": "8a399202",
   "metadata": {},
   "outputs": [
    {
     "data": {
      "text/plain": [
       "array([293., 276., 251., 274., 264., 257., 278., 211., 245., 224., 279.,\n",
       "       263., 214., 256., 203., 321., 243., 264., 258., 264., 237., 273.,\n",
       "       276., 239., 271., 253., 276., 274., 240., 268., 193., 261., 252.,\n",
       "       271., 293., 249., 200., 263., 270., 231., 249., 276., 244., 213.,\n",
       "       224., 224., 320., 265., 256., 257., 258., 308., 294., 235., 281.,\n",
       "       267., 319., 262., 247., 278., 230., 253., 263., 233., 223., 210.,\n",
       "       247., 222., 235., 307., 270., 249., 227., 263., 224., 213., 264.,\n",
       "       241., 186., 301., 219., 242., 321., 206., 235., 269.])"
      ]
     },
     "execution_count": 234,
     "metadata": {},
     "output_type": "execute_result"
    }
   ],
   "source": [
    "demise_LM01(data,time_onset,test_index,354)"
   ]
  },
  {
   "cell_type": "code",
   "execution_count": 235,
   "id": "5e200571",
   "metadata": {},
   "outputs": [
    {
     "data": {
      "text/plain": [
       "array([293., 276., 251., 274., 264., 257., 278., 211., 245., 224., 279.,\n",
       "       263., 214., 256., 203., 321., 243., 264., 258., 264., 237., 273.,\n",
       "       276., 239., 271., 253., 276., 274., 240., 268., 193., 261., 252.,\n",
       "       271., 293., 249., 200., 263., 270., 231., 249., 276., 244., 213.,\n",
       "       224., 224., 320., 265., 256., 257., 258., 308., 294., 235., 281.,\n",
       "       267., 319., 262., 247., 278., 230., 253., 263., 233., 223., 210.,\n",
       "       247., 222., 235., 307., 270., 249., 227., 263., 224., 213., 264.,\n",
       "       241., 186., 301., 219., 242., 321., 206., 235., 269.])"
      ]
     },
     "execution_count": 235,
     "metadata": {},
     "output_type": "execute_result"
    }
   ],
   "source": [
    "onset_LM01(data[::-1],time_onset[::-1],test_index[::-1], 354)"
   ]
  },
  {
   "cell_type": "code",
   "execution_count": 236,
   "id": "aedd6c1c",
   "metadata": {},
   "outputs": [
    {
     "data": {
      "text/plain": [
       "array([ nan, 114., 101., 140.,  76.,  74.,  76.,  78.,  61., 120.,  94.,\n",
       "       121.,  97., 107., 103., 155.,  92.,  73.,  94., 109.,  87., 115.,\n",
       "       125.,  85., 115.,  74., 120.,  84.,  81., 102.,  84., 106.,  83.,\n",
       "        78., 136., 115.,  96.,  94., 117.,  85., 103., 146., 104., 100.,\n",
       "        78., 126., 119.,  89., 101.,  92.,  72.,  80., 127., 120.,  80.,\n",
       "       125.,  74., 113., 142.,  56.,  99., 117.,  91.,  83., 108., 101.,\n",
       "       107., 110.,  93.,  78., 137., 128., 102.,  94., 121., 105., 112.,\n",
       "       126.,  70., 109.,  78.,  82., 118.,  70., 109.,  85.])"
      ]
     },
     "execution_count": 236,
     "metadata": {},
     "output_type": "execute_result"
    }
   ],
   "source": [
    "demise_LM01(data[::-1],time_onset[::-1],test_index[::-1],354)"
   ]
  },
  {
   "cell_type": "code",
   "execution_count": 238,
   "id": "41161bed",
   "metadata": {},
   "outputs": [
    {
     "data": {
      "text/plain": [
       "array([False,  True,  True,  True,  True,  True,  True,  True,  True,\n",
       "        True,  True,  True,  True,  True,  True,  True,  True,  True,\n",
       "        True,  True,  True,  True,  True,  True,  True,  True,  True,\n",
       "        True,  True,  True,  True,  True,  True,  True,  True,  True,\n",
       "        True,  True,  True,  True,  True,  True,  True,  True,  True,\n",
       "        True,  True,  True,  True,  True,  True,  True,  True,  True,\n",
       "        True,  True,  True,  True,  True,  True,  True,  True,  True,\n",
       "        True,  True,  True,  True,  True,  True,  True,  True,  True,\n",
       "        True,  True,  True,  True,  True,  True,  True,  True,  True,\n",
       "        True,  True,  True,  True,  True])"
      ]
     },
     "execution_count": 238,
     "metadata": {},
     "output_type": "execute_result"
    }
   ],
   "source": [
    "onset_LM01(data,time_onset,test_index,354) == demise_LM01(data[::-1],time_onset[::-1],test_index[::-1],354)"
   ]
  },
  {
   "cell_type": "code",
   "execution_count": 31,
   "id": "00f9aec2",
   "metadata": {},
   "outputs": [],
   "source": [
    "#demise_dates = np.array([pd.to_datetime(i, format='%Y') + pd.Timedelta(k, unit='D') for i,k in zip(years_,test_demise_output#)])\n",
    "onset_dates = np.array([pd.to_datetime(i, format='%Y') + pd.Timedelta(k, unit='D') for i,k in zip(years_,test_lm01)])"
   ]
  },
  {
   "cell_type": "code",
   "execution_count": 32,
   "id": "70df7444-dc18-424e-b6fa-38cb90a66b76",
   "metadata": {},
   "outputs": [
    {
     "data": {
      "image/png": "[encoded data removed]",
      "text/plain": [
       "<Figure size 2800x1000 with 1 Axes>"
      ]
     },
     "metadata": {},
     "output_type": "display_data"
    }
   ],
   "source": [
    "years_to_plot = [1996,1998]\n",
    "years_slice = slice(str(years_to_plot[0]),str(years_to_plot[1]))\n",
    "onset_to_plot = onset_dates[np.flatnonzero(np.isin(years_,np.arange(years_to_plot[0],years_to_plot[1]+1)))]\n",
    "#demise_to_plot = demise_dates[np.flatnonzero(np.isin(years_,np.arange(years_to_plot[0],years_to_plot[1]+1)))]\n",
    "input_data.sel(time=years_slice).plot(figsize=(28,10))\n",
    "input_data.sel(time=years_slice).cumsum().plot()\n",
    "for i in onset_to_plot:\n",
    "    plt.axvline(i, color='green') \n",
    "#for j in demise_to_plot:\n",
    "    #plt.axvline(j, color='brown') "
   ]
  },
  {
   "cell_type": "code",
   "execution_count": 94,
   "id": "af2c8807",
   "metadata": {},
   "outputs": [
    {
     "data": {
      "text/plain": [
       "126.0"
      ]
     },
     "execution_count": 94,
     "metadata": {},
     "output_type": "execute_result"
    }
   ],
   "source": [
    "test_lm01[77]"
   ]
  },
  {
   "cell_type": "code",
   "execution_count": null,
   "id": "a4d5b186-0f75-4e2a-aa03-ffd3d49eac59",
   "metadata": {},
   "outputs": [],
   "source": [
    "states_provinces = cfeature.NaturalEarthFeature(\n",
    "    category='cultural',\n",
    "    name='admin_1_states_provinces_lines',\n",
    "    scale='10m',\n",
    "    facecolor='none')\n",
    "map_proj = ccrs.LambertConformal(central_longitude=-95, central_latitude=45)\n",
    "#cmap = mpl.cm.RdBu_r\n",
    "\n",
    "\n",
    "f, ax1 = plt.subplots(1, 1, figsize=(10, 13), dpi=600, subplot_kw={'projection': map_proj})\n",
    "p = onset_data.dt.dayofyear.isel(year=50).plot.pcolormesh(ax=ax1,transform=ccrs.PlateCarree(), add_colorbar=False, cmap='viridis')\n",
    "\n",
    "\n",
    "### Setting 1st plot parameters ###\n",
    "ax1.coastlines(color='grey')\n",
    "ax1.add_feature(cartopy.feature.BORDERS, color='black')\n",
    "ax1.add_feature(cfeature.STATES, edgecolor='black')\n",
    "#ax1.set_xticks(np.arange(-180,181, 40))\n",
    "#ax1.set_yticks(np.arange(-90,91,15))\n",
    "ax1.set_xlabel('Longitude')\n",
    "ax1.set_ylabel('Latitude')\n",
    "at = AnchoredText(\"a\",\n",
    "                      loc='upper left', prop=dict(size=8), frameon=True,)\n",
    "at.patch.set_boxstyle(\"round,pad=0.,rounding_size=0.2\")\n",
    "ax1.add_artist(at)\n",
    "divider = make_axes_locatable(ax1)\n",
    "cax = divider.append_axes(\"right\", size=\"5%\", pad=0.05, axes_class=plt.Axes)\n",
    "plt.colorbar(p, cax=cax)"
   ]
  },
  {
   "cell_type": "code",
   "execution_count": null,
   "id": "c3f64d96",
   "metadata": {
    "pycharm": {
     "name": "#%%\n"
    }
   },
   "outputs": [],
   "source": []
  }
 ],
 "metadata": {
  "kernelspec": {
   "display_name": "geo_env",
   "language": "python",
   "name": "python3"
  },
  "language_info": {
   "codemirror_mode": {
    "name": "ipython",
    "version": 3
   },
   "file_extension": ".py",
   "mimetype": "text/x-python",
   "name": "python",
   "nbconvert_exporter": "python",
   "pygments_lexer": "ipython3",
   "version": "3.11.0"
  }
 },
 "nbformat": 4,
 "nbformat_minor": 5
}
