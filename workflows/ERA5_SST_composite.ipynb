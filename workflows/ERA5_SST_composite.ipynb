{
 "cells": [
  {
   "cell_type": "code",
   "execution_count": 1,
   "id": "4ee19f73",
   "metadata": {},
   "outputs": [],
   "source": [
    "import numpy as np\n",
    "import xarray as xr\n",
    "import matplotlib.pyplot as plt\n",
    "import pandas as pd\n",
    "import glob\n",
    "\n",
    "from mpl_toolkits.axes_grid1 import make_axes_locatable\n",
    "import time\n",
    "\n",
    "import preseason.tools as sf\n",
    "import preseason.onset_demise as od\n",
    "import preseason.plotting as pp\n",
    "from scipy import stats\n",
    "import dask.array as da\n",
    "\n",
    "import cartopy\n",
    "import cartopy.io.shapereader as shapereader\n",
    "import cartopy.crs as ccrs\n",
    "import cartopy.feature as cfeature\n",
    "from cartopy.mpl.gridliner import LONGITUDE_FORMATTER, LATITUDE_FORMATTER\n",
    "\n",
    "import rioxarray\n",
    "import geopandas as gpd"
   ]
  },
  {
   "cell_type": "code",
   "execution_count": null,
   "id": "a5ec33cb",
   "metadata": {},
   "outputs": [],
   "source": [
    "from importlib import reload\n",
    "\n",
    "reload(od)"
   ]
  },
  {
   "cell_type": "code",
   "execution_count": 12,
   "id": "73260547",
   "metadata": {},
   "outputs": [],
   "source": [
    "def _detrend(data, slope, intercept):\n",
    "    time_coord = np.arange(len(data))\n",
    "\n",
    "    # Calculate the trend using broadcasting\n",
    "    trend = slope * time_coord + intercept\n",
    "    detrend = data - trend \n",
    "    return detrend\n",
    "\n",
    "def detrend(data, slope, intercept):\n",
    "    \n",
    "        result = xr.apply_ufunc(\n",
    "        _detrend,\n",
    "        data,\n",
    "        slope,\n",
    "        intercept,\n",
    "        input_core_dims=[['time'],[],[]],\n",
    "        output_core_dims=[['time']],\n",
    "        vectorize=True,\n",
    "        dask='parallelized',\n",
    "        output_dtypes=[float],\n",
    "        dask_gufunc_kwargs={'output_sizes': {'year': len(data)}}\n",
    "    )\n",
    "        return result"
   ]
  },
  {
   "cell_type": "code",
   "execution_count": 4,
   "id": "bcbc8163",
   "metadata": {},
   "outputs": [],
   "source": [
    "def create_composites(ds, dates, period):\n",
    "    composites = {}\n",
    "    composite_data = []\n",
    "    for date in dates:\n",
    "        start_date = date - pd.Timedelta(period,'w')\n",
    "        end_date = date - pd.Timedelta(1,\"d\")\n",
    "        \n",
    "        subset = ds.sel(time=slice(start_date, end_date))\n",
    "        \n",
    "        composite = subset.mean(dim='time')\n",
    "        composite_data.append(composite)\n",
    "    \n",
    "    composites = xr.concat(composite_data, dim='time')\n",
    "    composites = composites.mean(dim='time')\n",
    "    print(len(composite_data))\n",
    "    return composites"
   ]
  },
  {
   "cell_type": "code",
   "execution_count": 11,
   "id": "79a0e919",
   "metadata": {},
   "outputs": [],
   "source": [
    "\n",
    "def _linear_regression(y):\n",
    "    x = np.arange(len(y))\n",
    "    mask = ~np.isnan(y)\n",
    "    if np.sum(mask) > 1:  # Ensure we have at least two non-NaN values\n",
    "        slope, intercept, r_value, p_value, std_err = stats.linregress(x[mask], y[mask])\n",
    "        return np.array([slope, intercept, r_value, p_value])\n",
    "    else:\n",
    "        return np.array([np.nan, np.nan, np.nan, np.nan])\n",
    "\n",
    "# Apply the linear regression function to the data\n",
    "def linear_regression(sst_data: xr.DataArray):\n",
    "    result = xr.apply_ufunc(\n",
    "        _linear_regression,\n",
    "        sst_data,\n",
    "        input_core_dims=[['time']],\n",
    "        output_core_dims=[['params']],\n",
    "        vectorize=True,\n",
    "        dask='parallelized',\n",
    "        output_dtypes=[float],\n",
    "        dask_gufunc_kwargs={'output_sizes': {'params': 4}}\n",
    "    )\n",
    "\n",
    "    # Add parameter names\n",
    "    result = result.assign_coords(params=['slope','intercept', 'r_value', 'p_value'])\n",
    "\n",
    "    return result\n",
    "    # Compute the result\n",
    "    #result = result.compute()"
   ]
  },
  {
   "cell_type": "code",
   "execution_count": 4,
   "id": "59c185e1",
   "metadata": {},
   "outputs": [],
   "source": [
    "### Allows us to use dask to speed up some calculations ###\n",
    "from dask.distributed import Client, LocalCluster\n",
    "cluster = LocalCluster(n_workers=4, memory_limit='8GB', threads_per_worker=4)\n",
    "client = Client(cluster)"
   ]
  },
  {
   "cell_type": "markdown",
   "id": "5c43b1f0",
   "metadata": {},
   "source": []
  },
  {
   "cell_type": "code",
   "execution_count": null,
   "id": "c7a175f2",
   "metadata": {},
   "outputs": [],
   "source": [
    "client"
   ]
  },
  {
   "cell_type": "code",
   "execution_count": 3,
   "id": "91f93c97",
   "metadata": {},
   "outputs": [],
   "source": [
    "### Selecting out Peru from the global data.\n",
    "center_lat = -10\n",
    "center_lon = 285\n",
    "\n",
    "lon_radius = 50\n",
    "\n",
    "PERU_center = {'lat': slice(-5, -10), 'lon': slice(280, 285)}\n",
    "\n",
    "\n"
   ]
  },
  {
   "cell_type": "code",
   "execution_count": 64,
   "id": "c53bc3d6-8baa-4bad-a296-967118f63fcc",
   "metadata": {},
   "outputs": [],
   "source": [
    "sst_data_dir = '/data/deluge/reanalysis/REANALYSIS/ERA5/2D/4xdaily/sst/' \n",
    "sst_files = glob.glob(sst_data_dir+'sst.[12]*')\n",
    "ds_sst = xr.open_mfdataset(sst_files,parallel=True, chunks={'time' : -1})\n",
    "\n",
    "sst_data = ds_sst['sst']\n",
    "\n",
    "sst_data = sst_data.resample(time=\"D\").mean(dim='time').chunk({'time' : -1, 'latitude':75, 'longitude':75})"
   ]
  },
  {
   "cell_type": "code",
   "execution_count": null,
   "id": "c006de5e",
   "metadata": {},
   "outputs": [],
   "source": [
    "sst_data\n"
   ]
  },
  {
   "cell_type": "code",
   "execution_count": null,
   "id": "e72d2458",
   "metadata": {},
   "outputs": [],
   "source": [
    "trends = linear_regression(sst_data).compute()\n",
    "\n"
   ]
  },
  {
   "cell_type": "code",
   "execution_count": 13,
   "id": "5d839b75",
   "metadata": {},
   "outputs": [],
   "source": [
    "sst_trend  = xr.Dataset(\n",
    "\n",
    "    data_vars=dict(\n",
    "        slope=([\"latitude\", \"longitude\"], trends.sel(params='slope').data),\n",
    "        intercept=([\"latitude\", \"longitude\",], trends.sel(params='intercept').data),\n",
    "    ),\n",
    "    coords=dict(\n",
    "        latitude=(trends['latitude'].data),\n",
    "        longitude=(trends['longitude'].data),\n",
    "    ),\n",
    ")"
   ]
  },
  {
   "cell_type": "code",
   "execution_count": 14,
   "id": "02886341",
   "metadata": {},
   "outputs": [],
   "source": [
    "detrended_sst = detrend(sst_data, sst_trend['slope'], sst_trend['intercept'])"
   ]
  },
  {
   "cell_type": "code",
   "execution_count": null,
   "id": "9e840dbc",
   "metadata": {},
   "outputs": [],
   "source": [
    "detrended_sst"
   ]
  },
  {
   "cell_type": "code",
   "execution_count": 11,
   "id": "9bfba61e",
   "metadata": {},
   "outputs": [],
   "source": [
    "### Onset Demise for Precipitation ###\n",
    "\n",
    "precip_data_dir = '/data/deluge/reanalysis/REANALYSIS/ERA5/2D/daily/precip/'\n",
    "\n",
    "precip_files = glob.glob(precip_data_dir+'precip.[12]*')\n",
    "\n",
    "\n",
    "ds_p = xr.open_mfdataset(precip_files, parallel=True, chunks={'time': -1})\n",
    "\n",
    "precip_data = ds_p['precip'].sel(latitude = PERU_center['lat'], longitude = PERU_center['lon'])\n",
    "\n",
    "precip_anom = precip_data - precip_data.mean(dim='time')\n",
    "\n",
    "precip_anom = precip_anom.chunk(chunks={'time':-1})"
   ]
  },
  {
   "cell_type": "code",
   "execution_count": 13,
   "id": "922aa5b8",
   "metadata": {},
   "outputs": [],
   "source": [
    "p_annual_cycle = sf.calc_annual_cycle(precip_data).compute()\n",
    "\n",
    "analysis_start = od.B17_analysis_start(p_annual_cycle)\n",
    "\n",
    "analysis_start = analysis_start.persist()"
   ]
  },
  {
   "cell_type": "code",
   "execution_count": null,
   "id": "6b8db7cf",
   "metadata": {},
   "outputs": [],
   "source": [
    "onset = od.onset_B17(precip_anom, analysis_start).compute()\n",
    "\n",
    "demise = od.demise_B17(precip_anom, analysis_start).compute()"
   ]
  },
  {
   "cell_type": "code",
   "execution_count": 19,
   "id": "f4b1a29a",
   "metadata": {},
   "outputs": [],
   "source": [
    "#onset.to_netcdf('onset_era5_peru.nc')"
   ]
  },
  {
   "cell_type": "code",
   "execution_count": 20,
   "id": "09a318a6",
   "metadata": {},
   "outputs": [],
   "source": [
    "#demise.to_netcdf('demise_era5_peru.nc')"
   ]
  },
  {
   "cell_type": "code",
   "execution_count": null,
   "id": "b38237b0",
   "metadata": {},
   "outputs": [],
   "source": [
    "detrended_sst"
   ]
  },
  {
   "cell_type": "code",
   "execution_count": 16,
   "id": "505ccaa0",
   "metadata": {},
   "outputs": [],
   "source": [
    "onset = xr.open_dataarray('onset_era5_peru.nc')\n",
    "demise = xr.open_dataarray('demise_era5_peru.nc')"
   ]
  },
  {
   "cell_type": "code",
   "execution_count": 17,
   "id": "09e9f4d4",
   "metadata": {},
   "outputs": [],
   "source": [
    "center_loc_onset = onset.sel(latitude=center_lat, longitude=center_lon)\n",
    "center_loc_demise = demise.sel(latitude=center_lat, longitude=center_lon)"
   ]
  },
  {
   "cell_type": "code",
   "execution_count": null,
   "id": "3de20ee1",
   "metadata": {},
   "outputs": [],
   "source": [
    "_linear_regression(center_loc_onset.values)[0]*10"
   ]
  },
  {
   "cell_type": "code",
   "execution_count": 37,
   "id": "b93b9328",
   "metadata": {},
   "outputs": [],
   "source": [
    "test = linear_regression(onset)"
   ]
  },
  {
   "cell_type": "code",
   "execution_count": 71,
   "id": "71792a6b",
   "metadata": {},
   "outputs": [],
   "source": [
    "detrend_onset = detrend(onset, test.sel(params='slope').values, test.sel(params='intercept').values).sel(latitude=center_lat, longitude=center_lon)"
   ]
  },
  {
   "cell_type": "code",
   "execution_count": 72,
   "id": "864e64b7",
   "metadata": {},
   "outputs": [],
   "source": [
    "early_onset = detrend_onset.where(detrend_onset < detrend_onset.quantile(0.10))\n",
    "late_onset = detrend_onset.where(detrend_onset > detrend_onset.quantile(0.90))"
   ]
  },
  {
   "cell_type": "code",
   "execution_count": 18,
   "id": "c1aa22b3",
   "metadata": {},
   "outputs": [],
   "source": [
    "early_onset = center_loc_onset.where(center_loc_onset < center_loc_onset.quantile(0.10))\n",
    "late_onset = center_loc_onset.where(center_loc_onset > center_loc_onset.quantile(0.90))"
   ]
  },
  {
   "cell_type": "code",
   "execution_count": 19,
   "id": "af53354b",
   "metadata": {},
   "outputs": [],
   "source": [
    "early_demise = center_loc_demise.where(center_loc_demise < center_loc_demise.quantile(0.10))\n",
    "late_demise = center_loc_demise.where(center_loc_demise > center_loc_demise.quantile(0.90))"
   ]
  },
  {
   "cell_type": "code",
   "execution_count": 73,
   "id": "09215e08",
   "metadata": {},
   "outputs": [],
   "source": [
    "early_onset_dates = sf.calcDates(early_onset).dropna(dim='year')\n",
    "late_onset_dates = sf.calcDates(late_onset).dropna(dim='year')"
   ]
  },
  {
   "cell_type": "code",
   "execution_count": 21,
   "id": "3bb69199",
   "metadata": {},
   "outputs": [],
   "source": [
    "early_demise_dates = sf.calcDates(early_demise).dropna(dim='year')\n",
    "late_demise_dates = sf.calcDates(late_demise).dropna(dim='year')"
   ]
  },
  {
   "cell_type": "code",
   "execution_count": null,
   "id": "005aef97",
   "metadata": {},
   "outputs": [],
   "source": [
    "composites_early_onset = create_composites(detrended_sst, early_onset_dates, period=4)\n",
    "composites_late_onset = create_composites(detrended_sst, late_onset_dates, period=4)"
   ]
  },
  {
   "cell_type": "code",
   "execution_count": null,
   "id": "3e102d3c",
   "metadata": {},
   "outputs": [],
   "source": [
    "composites_early_onset.plot()"
   ]
  },
  {
   "cell_type": "code",
   "execution_count": null,
   "id": "2bc9a8c7",
   "metadata": {},
   "outputs": [],
   "source": [
    "(trends.sel(params='slope')*10).plot()"
   ]
  },
  {
   "cell_type": "code",
   "execution_count": 30,
   "id": "f29d44d0",
   "metadata": {},
   "outputs": [],
   "source": [
    "composites_early_demise = create_composites(sst_data, early_demise_dates, period=1)\n",
    "composites_late_demise = create_composites(sst_data, late_demise_dates, period=1)\n"
   ]
  },
  {
   "cell_type": "code",
   "execution_count": 31,
   "id": "a6772733",
   "metadata": {},
   "outputs": [],
   "source": [
    "### ENSO Indexes Analysis ###\n",
    "\n",
    "enso_data = pd.read_csv('~/data/enso_index/oni.data', delim_whitespace=True, index_col=0, skiprows=[0,74,75,76,77,78,79,80,81,82,83,84], names=['Year','Jan', 'Feb', 'Mar', 'Apr', 'May', 'Jun','Jul', 'Aug', 'Sep', 'Oct', 'Nov', 'Dec'])"
   ]
  },
  {
   "cell_type": "code",
   "execution_count": null,
   "id": "2f10450b",
   "metadata": {},
   "outputs": [],
   "source": [
    "### Turns 2D Year x Month representation to 1D time series ###\n",
    "\n",
    "melted = enso_data.melt(ignore_index=False, var_name='Month', value_name='ONI')\n",
    "\n",
    "melted['time'] = pd.to_datetime(melted['Year'].astype(str) + '-' + melted['Month'].astype(str) + '-01')\n",
    "\n",
    "# Set the 'date' column as the index\n",
    "melted.set_index('time', inplace=True)\n",
    "\n",
    "\n",
    "# Drop the original 'year' and 'month' columns if you no longer need them\n",
    "melted = melted.drop(columns=['Year', 'Month'])\n",
    "melted.sort_index(inplace=True)\n",
    "# Display the first few rows of the resulting DataFrame\n",
    "\n",
    "# Get the data that overlaps with precipitation\n",
    "ONI_index = melted['1950-01-01':'2020-01-01'].to_xarray()\n",
    "print(melted.head())\n",
    "\n"
   ]
  },
  {
   "cell_type": "code",
   "execution_count": 79,
   "id": "4d661dcb",
   "metadata": {},
   "outputs": [],
   "source": [
    "JAS_oni = ONI_index.sel(time=ONI_index.time.dt.month.isin([7, 8, 9]))\n",
    "JAS_oni= JAS_oni.groupby('time.year').mean()\n",
    "JAS_oni = JAS_oni['ONI'].values"
   ]
  },
  {
   "cell_type": "code",
   "execution_count": 46,
   "id": "71b95442",
   "metadata": {},
   "outputs": [],
   "source": [
    "\n",
    "peru_onset = center_loc_onset[0:70]\n",
    "peru_demise = center_loc_demise[0:70] "
   ]
  },
  {
   "cell_type": "code",
   "execution_count": 106,
   "id": "89173b33",
   "metadata": {},
   "outputs": [],
   "source": [
    "season_length = sf.calcSeasonLength(peru_onset, peru_demise).values"
   ]
  },
  {
   "cell_type": "code",
   "execution_count": null,
   "id": "7d403a52",
   "metadata": {},
   "outputs": [],
   "source": [
    "plt.scatter(JAS_oni[JAS_oni<-.5], peru_onset[JAS_oni<-.5], color='blue')\n",
    "plt.scatter(JAS_oni[JAS_oni>.5], peru_onset[JAS_oni>.5], color='orange')"
   ]
  },
  {
   "cell_type": "code",
   "execution_count": null,
   "id": "e0f0f734",
   "metadata": {},
   "outputs": [],
   "source": [
    "plt.scatter(JAS_oni[JAS_oni<-.5], peru_demise[JAS_oni<-.5], color='blue')\n",
    "plt.scatter(JAS_oni[JAS_oni>.5], peru_demise[JAS_oni>.5], color='orange')"
   ]
  },
  {
   "cell_type": "code",
   "execution_count": null,
   "id": "a4db1add",
   "metadata": {},
   "outputs": [],
   "source": [
    "plt.scatter(series.index[series > 0], series[series > 0], color='blue', label='> 0')\n",
    "\n",
    "# Plot points <= 0 in red\n",
    "plt.scatter(series.index[series <= 0], series[series <= 0], color='red', label='<= 0')\n",
    "\n"
   ]
  },
  {
   "cell_type": "code",
   "execution_count": null,
   "id": "ebcbb3a3",
   "metadata": {},
   "outputs": [],
   "source": [
    "create_composites(detrended_sst, early_onset_dates, period=12).values"
   ]
  },
  {
   "cell_type": "code",
   "execution_count": null,
   "id": "29591649",
   "metadata": {},
   "outputs": [],
   "source": [
    "create_composites(test, early_demise_dates, period=12).values"
   ]
  },
  {
   "cell_type": "code",
   "execution_count": null,
   "id": "d1b7b580",
   "metadata": {},
   "outputs": [],
   "source": [
    "create_composites(test, late_onset_dates, period=12).values"
   ]
  },
  {
   "cell_type": "code",
   "execution_count": null,
   "id": "81903b60",
   "metadata": {},
   "outputs": [],
   "source": [
    "create_composites(test, late_demise_dates, period=12).values"
   ]
  },
  {
   "cell_type": "code",
   "execution_count": 55,
   "id": "902fa49a",
   "metadata": {},
   "outputs": [],
   "source": []
  },
  {
   "cell_type": "code",
   "execution_count": null,
   "id": "5067eb8a",
   "metadata": {},
   "outputs": [],
   "source": [
    "center_loc_demise.plot()\n"
   ]
  },
  {
   "cell_type": "code",
   "execution_count": null,
   "id": "588fc0d5",
   "metadata": {},
   "outputs": [],
   "source": [
    "center_loc_onset.plot()"
   ]
  },
  {
   "cell_type": "code",
   "execution_count": null,
   "id": "e1a269ed",
   "metadata": {},
   "outputs": [],
   "source": [
    "plt.plot(season_length)\n"
   ]
  },
  {
   "cell_type": "code",
   "execution_count": 28,
   "id": "1bac89b2",
   "metadata": {},
   "outputs": [],
   "source": [
    "comp_diff = composites_early_onset - composites_late_onset"
   ]
  },
  {
   "cell_type": "code",
   "execution_count": null,
   "id": "fb260ad9",
   "metadata": {},
   "outputs": [],
   "source": [
    "pp.plot_spatial_data(comp_diff, vmax=25, vmin=-25, cmap='RdBu_r', title='Early Onset - Late Onset 1-week Composite SST')"
   ]
  },
  {
   "cell_type": "code",
   "execution_count": null,
   "id": "ea3ae564",
   "metadata": {},
   "outputs": [],
   "source": [
    "center_loc_onset.plot.hist()"
   ]
  },
  {
   "cell_type": "code",
   "execution_count": null,
   "id": "80b8fa65",
   "metadata": {},
   "outputs": [],
   "source": [
    "pp.plot_spatial_data(comp_diff_demise, vmax=25, vmin=-25, cmap='RdBu_r', title='Early Demise - Late Demise 1-week Composite SST')"
   ]
  },
  {
   "cell_type": "code",
   "execution_count": 2,
   "id": "0a6db3cf",
   "metadata": {},
   "outputs": [],
   "source": []
  },
  {
   "cell_type": "code",
   "execution_count": 5,
   "id": "035b2d01",
   "metadata": {},
   "outputs": [],
   "source": [
    "precip_data_dir = '/data/deluge/reanalysis/REANALYSIS/ERA5/2D/daily/precip/'\n",
    "\n",
    "precip_files = glob.glob(precip_data_dir+'precip.[12]*')"
   ]
  },
  {
   "cell_type": "code",
   "execution_count": null,
   "id": "716b4b75",
   "metadata": {},
   "outputs": [],
   "source": [
    "precip_files[0]"
   ]
  },
  {
   "cell_type": "code",
   "execution_count": null,
   "id": "57cc8e3d",
   "metadata": {},
   "outputs": [],
   "source": [
    "peru.geometry[3]"
   ]
  },
  {
   "cell_type": "code",
   "execution_count": 101,
   "id": "3492690e",
   "metadata": {},
   "outputs": [],
   "source": [
    "test2 = gpd.GeoSeries(peru.geometry[3])"
   ]
  },
  {
   "cell_type": "code",
   "execution_count": 85,
   "id": "5d4d2270",
   "metadata": {},
   "outputs": [],
   "source": []
  },
  {
   "cell_type": "code",
   "execution_count": null,
   "id": "dca9b461",
   "metadata": {},
   "outputs": [],
   "source": [
    "from shapely.geometry import mapping\n",
    "\n",
    "#test = xr.open_dataset(precip_files[0])['precip']\n",
    "ds.rio.set_spatial_dims(x_dim=\"longitude\", y_dim=\"latitude\", inplace=True)\n",
    "ds.rio.write_crs(\"epsg:4326\", inplace=True)\n",
    "#peru = gpd.read_file(fname, crs=\"epsg:4326\")#\n",
    "\n",
    "\n",
    "clipped = ds.rio.clip(test2, ds.rio.crs, drop=True)"
   ]
  },
  {
   "cell_type": "code",
   "execution_count": null,
   "id": "f991909b",
   "metadata": {},
   "outputs": [],
   "source": [
    "clipped.isel(time=10).plot()"
   ]
  },
  {
   "cell_type": "code",
   "execution_count": 18,
   "id": "935fbe17",
   "metadata": {},
   "outputs": [],
   "source": [
    "shapefile = gpd.read_file(fname)"
   ]
  },
  {
   "cell_type": "code",
   "execution_count": null,
   "id": "6adc2abc",
   "metadata": {},
   "outputs": [],
   "source": [
    "shapefile.geometry[0]"
   ]
  },
  {
   "cell_type": "code",
   "execution_count": 29,
   "id": "34bd5e45",
   "metadata": {},
   "outputs": [],
   "source": [
    "shapefile = shapefile[shapefile['HYBAS_ID'].astype(str).str.startswith('6')]"
   ]
  },
  {
   "cell_type": "code",
   "execution_count": null,
   "id": "2976da99",
   "metadata": {},
   "outputs": [],
   "source": [
    "rioxarray."
   ]
  },
  {
   "cell_type": "code",
   "execution_count": 54,
   "id": "27f0af99",
   "metadata": {},
   "outputs": [],
   "source": [
    "\n",
    "data = cartopy.io.shapereader.natural_earth(\n",
    "    resolution='10m', category='cultural', \n",
    "    name='admin_1_states_provinces',\n",
    ")\n",
    "reader = cartopy.io.shapereader.Reader(data)\n",
    "\n",
    "states = [x for x in reader.records() if x.attributes[\"admin\"] == \"Peru\"]\n",
    "states_geom = cfeature.ShapelyFeature([x.geometry for x in states], ccrs.PlateCarree())"
   ]
  },
  {
   "cell_type": "code",
   "execution_count": null,
   "id": "c2598c15",
   "metadata": {},
   "outputs": [],
   "source": []
  },
  {
   "cell_type": "code",
   "execution_count": null,
   "id": "265f83fc",
   "metadata": {},
   "outputs": [],
   "source": []
  },
  {
   "cell_type": "code",
   "execution_count": null,
   "id": "b250494b",
   "metadata": {},
   "outputs": [],
   "source": [
    "projection=ccrs.PlateCarree()\n",
    "fig, ax = plt.subplots(1, 1, figsize=(16, 9), dpi=600,  subplot_kw={'projection': projection})\n",
    "\n",
    "Peru.plot(ax=ax, column='HYBAS_ID', facecolor='blue', edgecolor='black', alpha=.5)\n",
    "plt.xlim([-90,-25])\n",
    "plt.ylim([-50,5])\n",
    "\n",
    "states_provinces = cfeature.NaturalEarthFeature(\n",
    "    category='cultural',\n",
    "    name='admin_1_states_provinces_lines',\n",
    "    scale='10m')\n",
    "### Adding coastlines ###\n",
    "ax.coastlines(edgecolor='black', linewidth=2)\n",
    "ax.add_feature(cartopy.feature.BORDERS, edgecolor='black', linewidth=2)\n",
    "ax.add_feature(cfeature.STATES, edgecolor='black', linewidth=2)\n"
   ]
  },
  {
   "cell_type": "code",
   "execution_count": 36,
   "id": "29b684e7",
   "metadata": {},
   "outputs": [],
   "source": [
    "Peru = shapefile.cx[-80:-60,-20:-10]"
   ]
  },
  {
   "cell_type": "code",
   "execution_count": null,
   "id": "2942c111",
   "metadata": {},
   "outputs": [],
   "source": []
  },
  {
   "cell_type": "code",
   "execution_count": null,
   "id": "1b1857ac",
   "metadata": {},
   "outputs": [],
   "source": [
    "def plot_spatial_data(dataarray, projection=ccrs.PlateCarree(), cmap ='twilight', vmax = 365, vmin = 1, title='Spatial Data Plot', var='data_to_plot'):\n",
    "    \"\"\"\n",
    "    Plots a spatial figure of a variable from an xarray DataArray.\n",
    "\n",
    "    :param dataarray: xarray DataArray containing the geospatial data to be plotted.\n",
    "    :param projection: Cartopy CRS projection. Defaults to PlateCarree.\n",
    "    :param title: Title of the plot.\n",
    "    \"\"\"\n",
    "    \n",
    "    states_provinces = cfeature.NaturalEarthFeature(\n",
    "    category='cultural',\n",
    "    name='admin_1_states_provinces_lines',\n",
    "    scale='10m')\n",
    "    map_proj = ccrs.LambertConformal(central_longitude=-95, central_latitude=45)\n",
    "    #cmap = mpl.cm.RdBu_r\n",
    "\n",
    "    norm = mcolors.Normalize(vmin=vmin, vmax=vmax)\n",
    "    fig, ax = plt.subplots(1, 1, figsize=(16, 9), dpi=600,  subplot_kw={'projection': projection})\n",
    "    p = dataarray.plot(ax=ax,transform=ccrs.PlateCarree(), add_colorbar=False, cmap=cmap,alpha = 0.8, norm=norm)\n",
    "\n",
    "\n",
    "    ### Setting 1st plot parameters ###\n",
    "    ax.coastlines(edgecolor='black', linewidth=2)\n",
    "    ax.add_feature(cartopy.feature.BORDERS, edgecolor='black', linewidth=2)\n",
    "    ax.add_feature(cfeature.STATES, edgecolor='black', linewidth=2)\n",
    "    ax.add_feature(cfeature.LAKES, alpha=0.5, edgecolor='blue')\n",
    "    ax.add_feature(cfeature.RIVERS, color='blue')\n",
    "    #ax1.set_xticks(np.arange(-180,181, 40))\n",
    "    #ax1.set_yticks(np.arange(-90,91,15))\n",
    "    \n",
    "    #ax1.add_artist(at)\n",
    "    divider = make_axes_locatable(ax)\n",
    "    cax = divider.append_axes(\"right\", size=\"5%\", pad=0.1, axes_class=plt.Axes)\n",
    "    plt.colorbar(p, cax=cax, label=var)\n",
    "    \n",
    "    ax.set_xlabel('Longitude')\n",
    "    ax.set_ylabel('Latitude')\n",
    "    gl = ax.gridlines(draw_labels=True, dms=True, x_inline=False, y_inline=False, linewidth=2, color='black', alpha=0.5, linestyle='--')\n",
    "    gl.xlocator = mticker.FixedLocator([280-360, 285-360, 290-360])\n",
    "    gl.ylocator = mticker.FixedLocator([-5, -10, -15])\n",
    "    gl.left_labels = True\n",
    "    gl.right_labels = False\n",
    "    gl.top_labels = False\n",
    "    gl.bottom_labels = True\n",
    "\n",
    "    # Add a title\n",
    "    ax.set_title(title, loc='center')\n",
    "\n",
    "    # Show the plot\n",
    "    plt.show()"
   ]
  }
 ],
 "metadata": {
  "kernelspec": {
   "display_name": "Python 3 (ipykernel)",
   "language": "python",
   "name": "python3"
  },
  "language_info": {
   "codemirror_mode": {
    "name": "ipython",
    "version": 3
   },
   "file_extension": ".py",
   "mimetype": "text/x-python",
   "name": "python",
   "nbconvert_exporter": "python",
   "pygments_lexer": "ipython3",
   "version": "3.7.11"
  }
 },
 "nbformat": 4,
 "nbformat_minor": 5
}
