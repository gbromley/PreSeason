{
 "cells": [
  {
   "cell_type": "code",
   "execution_count": 2,
   "metadata": {},
   "outputs": [],
   "source": [
    "import numpy as np\n",
    "import matplotlib.pyplot as plt\n",
    "import pandas as pd\n",
    "import xarray as xr\n",
    "import glob\n",
    "\n",
    "from importlib import reload\n",
    "import cartopy.io.shapereader as shapereader\n"
   ]
  },
  {
   "cell_type": "code",
   "execution_count": 5,
   "metadata": {},
   "outputs": [],
   "source": [
    "import preseason as p\n"
   ]
  },
  {
   "cell_type": "code",
   "execution_count": 3,
   "metadata": {},
   "outputs": [
    {
     "ename": "ModuleNotFoundError",
     "evalue": "No module named 'preseason'",
     "output_type": "error",
     "traceback": [
      "\u001b[0;31m---------------------------------------------------------------------------\u001b[0m",
      "\u001b[0;31mModuleNotFoundError\u001b[0m                       Traceback (most recent call last)",
      "Cell \u001b[0;32mIn[3], line 1\u001b[0m\n\u001b[0;32m----> 1\u001b[0m \u001b[38;5;28;01mimport\u001b[39;00m \u001b[38;5;21;01mpreseason\u001b[39;00m\u001b[38;5;21;01m.\u001b[39;00m\u001b[38;5;21;01mseasonalityfunctions\u001b[39;00m \u001b[38;5;28;01mas\u001b[39;00m \u001b[38;5;21;01msf\u001b[39;00m\n\u001b[1;32m      2\u001b[0m \u001b[38;5;28;01mimport\u001b[39;00m \u001b[38;5;21;01mpreseason\u001b[39;00m\u001b[38;5;21;01m.\u001b[39;00m\u001b[38;5;21;01monset_demise\u001b[39;00m \u001b[38;5;28;01mas\u001b[39;00m \u001b[38;5;21;01mod\u001b[39;00m\n",
      "\u001b[0;31mModuleNotFoundError\u001b[0m: No module named 'preseason'"
     ]
    }
   ],
   "source": [
    "import preseason.seasonalityfunctions as sf\n",
    "import preseason.onset_demise as od"
   ]
  },
  {
   "cell_type": "code",
   "execution_count": null,
   "metadata": {},
   "outputs": [],
   "source": [
    "reload(od)\n",
    "reload(sf)"
   ]
  },
  {
   "cell_type": "code",
   "execution_count": null,
   "metadata": {},
   "outputs": [],
   "source": [
    "### Peru Domain ###\n",
    "#min_lon = -83+360\n",
    "#min_lat = -20.0\n",
    "#max_lon = -67+360\n",
    "#max_lat = 0.0\n",
    "\n",
    "\n",
    "\n",
    "### processing CPC data \n",
    "\n",
    "\n",
    "cpc_files = glob.glob('/Users/gbromley/data/cpc_uni_global/precip.*.nc')\n",
    "cpc_raw = xr.open_mfdataset(cpc_files)\n",
    "\n",
    "### Setting coordinate data for next step \n",
    "lat = np.arange(-90, 90, 0.5)\n",
    "lon = np.arange(0, 360, 0.5)\n",
    "time = cpc_raw['time'].data\n",
    "\n",
    "### transposing dimensions so the world is right side up \n",
    "\n",
    "flipped_cpc = np.flip(cpc_raw['precip'].values, axis=1)\n",
    "### cpc latitudes are reversed so that they are decreasing instead of increasing. The following code reverses it. \n",
    "cpc_pr = xr.DataArray(flipped_cpc, coords=[('time', time), ('lat', lat), ('lon', lon)], name='precipitation')\n",
    "\n",
    "### Selecting out Peru from the global data.\n",
    "PERU = {'lat': slice(-20,0), 'lon': slice(360-83, 360-67)}\n",
    "cpc_conus = cpc_pr.sel(lat = PERU['lat'], lon = PERU['lon'])"
   ]
  },
  {
   "cell_type": "code",
   "execution_count": null,
   "metadata": {},
   "outputs": [],
   "source": [
    "cpc_conus_anom = cpc_conus - cpc_conus.mean(dim='time')"
   ]
  },
  {
   "cell_type": "code",
   "execution_count": null,
   "metadata": {},
   "outputs": [],
   "source": [
    "sf.fourier_coefficients(sf.calc_annual_cycle(cpc_conus).values)"
   ]
  },
  {
   "cell_type": "code",
   "execution_count": null,
   "metadata": {},
   "outputs": [],
   "source": [
    "bom_files = glob.glob('/Users/gbromley/data/b17_cpc_onset-demise/onset.wet.season.CPC_UNI.*.nc')\n",
    "test_bombardi = xr.open_mfdataset(sorted(bom_files), decode_cf = False, combine = 'nested', concat_dim='time')\n",
    "test_bombardi = test_bombardi['DOY'].sel(PERU).squeeze()\n",
    "test_bombardi = xr.where(test_bombardi == -999., np.nan, test_bombardi)"
   ]
  },
  {
   "cell_type": "code",
   "execution_count": null,
   "metadata": {},
   "outputs": [],
   "source": [
    "pd.date_range('1979', freq='YS', periods = 42)"
   ]
  },
  {
   "cell_type": "code",
   "execution_count": null,
   "metadata": {},
   "outputs": [],
   "source": [
    "test_bombardi['time'] = pd.date_range('1979', freq='YS', periods = 42)"
   ]
  },
  {
   "cell_type": "code",
   "execution_count": null,
   "metadata": {},
   "outputs": [],
   "source": [
    "test_bombardi"
   ]
  },
  {
   "cell_type": "code",
   "execution_count": null,
   "metadata": {},
   "outputs": [],
   "source": [
    "annual_cycle = sf.calc_annual_cycle(cpc_conus)"
   ]
  },
  {
   "cell_type": "code",
   "execution_count": null,
   "metadata": {},
   "outputs": [],
   "source": [
    "start_wet = od.B17_analysis_start(annual_cycle)"
   ]
  },
  {
   "cell_type": "code",
   "execution_count": null,
   "metadata": {},
   "outputs": [],
   "source": [
    "sf."
   ]
  },
  {
   "cell_type": "code",
   "execution_count": null,
   "metadata": {},
   "outputs": [],
   "source": [
    "(start_wet - lm_onset.isel(year = 20)).plot()"
   ]
  },
  {
   "cell_type": "code",
   "execution_count": null,
   "metadata": {},
   "outputs": [],
   "source": [
    "reload(od)\n",
    "time_slice = slice(4000, 4500)\n",
    "test_loc = 20\n",
    "temp = cpc_conus_anom.isel(lat=test_loc, lon=test_loc, time=time_slice)\n",
    "temp_start = start_wet.isel(lat=test_loc, lon=test_loc)\n",
    "test_data = od._onset_LM01(temp.values, time=temp.time,startWet=temp_start.values)\n",
    "test_demise = od._demise_LM01(temp.values, time=temp.time,startWet=temp_start.values)"
   ]
  },
  {
   "cell_type": "code",
   "execution_count": null,
   "metadata": {},
   "outputs": [],
   "source": [
    "plt.gca().get_xticklabels()"
   ]
  },
  {
   "cell_type": "code",
   "execution_count": null,
   "metadata": {},
   "outputs": [],
   "source": [
    "import matplotlib.dates as mdates\n",
    "import datetime\n",
    "from matplotlib.legend_handler import HandlerLine2D"
   ]
  },
  {
   "cell_type": "code",
   "execution_count": null,
   "metadata": {},
   "outputs": [],
   "source": [
    "ax1.get_xlim()"
   ]
  },
  {
   "cell_type": "code",
   "execution_count": null,
   "metadata": {},
   "outputs": [],
   "source": [
    "num_years = 2\n",
    "pre_color = '#30638E'\n",
    "#\n",
    "# '#3FA7D6'\n",
    "#\n",
    "cumul_color = '#193C16'\n",
    "#'#F18F01'\n",
    "#'#0D1431'\n",
    "plt.rcParams['font.size'] = 24\n",
    "\n",
    "fs = plt.rcParams['font.size']\n",
    "#orange = F18F01\n",
    "# Create a figure and a set of subplots\n",
    "fig, ax1 = plt.subplots()\n",
    "fig.set_size_inches((22,12))\n",
    "# Plot the first data set with the first y-axis\n",
    "anom_line = ax1.plot(temp.time, temp, pre_color, label=r'P$_{anom}$', alpha=0.8)  # 'g-' is for green solid line\n",
    "ax1.set_xlabel('Day of Year')\n",
    "ax1.set_ylabel(r'P$_{anom}$ (mm)', color=pre_color, fontsize=fs+4)  # Set the color of the y-axis label to green\n",
    "ax1.tick_params(axis='y', labelcolor='black')\n",
    "\n",
    "ax1.set_ylim(-7,25)\n",
    "\n",
    "ax1.set_xlim(7300,7750)\n",
    "\n",
    "ax1.fill_between(temp.time, temp, 0, alpha=0.5, where=temp > 0, facecolor = '#30638E')\n",
    "ax1.fill_between(temp.time, temp, 0, alpha=0.5, where=temp < 0, facecolor='#857E61')\n",
    "\n",
    "# Create a second y-axis that shares the same x-axis\n",
    "ax2 = ax1.twinx()  \n",
    "cumul = ax2.plot(temp.time, filtered_cumul, cumul_color, label=r'Cumul. $P_{anom}$', linewidth=3, alpha = 0.9)  # 'b-' is for blue solid line\n",
    "ax2.set_ylabel(r'Accumulated P$_{anom}$ (mm)', color=cumul_color, fontsize=fs+4)  # Set the color of the y-axis label to blue\n",
    "ax2.tick_params(axis='y', labelcolor='black')\n",
    "\n",
    "ax2.set_ylim(-200, 800)\n",
    "# Format date\n",
    "#plt.gca().xaxis.set_major_formatter(mdates.DateFormatter('%j'))\n",
    "plt.gca().xaxis.set_major_locator(mdates.MonthLocator(interval=1))\n",
    "\n",
    "current_ticks = plt.gca().get_xticks()[1:]\n",
    "current_labels = [mdates.num2date(tick).strftime('%-j') for tick in current_ticks]\n",
    "\n",
    "#annotated ticks\n",
    "start_year = str(np.unique(temp.time.dt.year.values)[1])\n",
    "years = pd.date_range(start = start_year, periods=num_years, freq='YS')\n",
    "\n",
    "onset_doy = test_data[1:]\n",
    "demise_doy = test_demise[1:]\n",
    "\n",
    "onset_dates = np.empty_like(onset_doy, dtype=np.dtype('M8[D]'))\n",
    "onset_dates[:] = np.datetime64(\"NaT\")\n",
    "\n",
    "demise_dates = np.empty_like(demise_doy, dtype=np.dtype('M8[D]'))\n",
    "demise_dates[:] = np.datetime64(\"NaT\")\n",
    "\n",
    "\n",
    "for i,j in enumerate(onset_doy):\n",
    "    \n",
    "    if not np.isnan(j):\n",
    "        \n",
    "        onset_dates[i] = years[i] + pd.Timedelta(int(j), unit='day')\n",
    "        \n",
    "for i,j in enumerate(demise_doy):\n",
    "    if not np.isnan(j):\n",
    "        \n",
    "        demise_dates[i] = years[i] + pd.Timedelta(int(j), unit='day')\n",
    "\n",
    "ticks_str = years\n",
    "\n",
    "ticks_to_add = [int(mdates.date2num(item)) for item in ticks_str]\n",
    "\n",
    "#TODO clean all odf this up.\n",
    "additional_labels = [mdates.num2date(year).strftime('%b-%-d-%y') for year in ticks_to_add]\n",
    "\n",
    "# Combine current and additional ticks and labels\n",
    "all_ticks = np.concatenate((current_ticks, ticks_to_add))\n",
    "all_labels = current_labels + additional_labels\n",
    "\n",
    "\n",
    "\n",
    "for i in onset_dates:\n",
    "    if not np.isnan(i):\n",
    "        onset_line = plt.axvline(x=i, ymin=0, ymax=1, color='#6AA078', linewidth=2, linestyle='--')\n",
    "\n",
    "for j in demise_dates:\n",
    "    if not np.isnan(j):\n",
    "        demise_line = plt.axvline(x=j, ymin=0, ymax=1, color='#C5C392', linewidth=2, linestyle='--')\n",
    "\n",
    "\n",
    "onset_line.set_label(r'Onset$_{ wet}$')\n",
    "demise_line.set_label(r'Onset$_{ dry}$')\n",
    "# Rotate date labels\n",
    "\n",
    "legend_artists = [anom_line[0], demise_line, onset_line, cumul[0]]\n",
    "legend_labels = [r'P$_{anom}$', r'Onset$_{ dry}$', r'Onset$_{ wet}$',r'Cumul. $P_{anom}$']\n",
    "fig.legend(legend_artists, legend_labels, loc='lower left', bbox_to_anchor=(.1175, 0.81, 0.79, .25), ncols=4, mode='expand', frameon=True)\n",
    "\n",
    "#ax1.set_title('Location: '+str(np.abs(temp.lat.values))+' S, '+str(temp.lon.values)+' W'+' (Peru)', x=0.5, y=1.05)\n",
    "\n",
    "#ax.xaxis.set_major_formatter(mdates.DateFormatter('%Y-%b'))\n",
    "plt.gca().set_xticks(all_ticks)\n",
    "plt.gca().set_xticklabels(all_labels)\n",
    "plt.gcf().autofmt_xdate(rotation=30)\n",
    "\n",
    "\n",
    "# Set the combined ticks and labels\n",
    "\n",
    "#plt.plot(temp.time, filtered_cumul)\n",
    "#(temp*10).plot()\n",
    "out_path = '/Users/gbromley/Dropbox/OU/Peru/'\n",
    "plt.savefig(out_path+'Peru_Example.png', dpi=600, transparent=True)\n",
    "plt.show()"
   ]
  },
  {
   "cell_type": "code",
   "execution_count": null,
   "metadata": {},
   "outputs": [],
   "source": [
    "all_labels[0].set_rotation(30)"
   ]
  },
  {
   "cell_type": "code",
   "execution_count": null,
   "metadata": {},
   "outputs": [],
   "source": [
    "all_labels"
   ]
  },
  {
   "cell_type": "code",
   "execution_count": null,
   "metadata": {},
   "outputs": [],
   "source": [
    "ax1.set_xlim(-7,20)"
   ]
  },
  {
   "cell_type": "code",
   "execution_count": null,
   "metadata": {},
   "outputs": [],
   "source": [
    "map_proj"
   ]
  },
  {
   "cell_type": "code",
   "execution_count": null,
   "metadata": {},
   "outputs": [],
   "source": [
    "temp"
   ]
  },
  {
   "cell_type": "code",
   "execution_count": null,
   "metadata": {},
   "outputs": [],
   "source": [
    "import cartopy.crs as ccrs\n",
    "import cartopy\n",
    "from matplotlib.offsetbox import AnchoredText\n",
    "\n",
    "map_proj = ccrs.Orthographic(central_longitude = -75, central_latitude= -10)\n",
    "\n",
    "\n",
    "\n",
    "fig, ax = plt.subplots(1, 1, figsize=(10, 13), dpi=600,  subplot_kw={'projection': map_proj})\n",
    "\n",
    "ax.pcolormesh(cpc_conus.isel(time=100).values, alpha=0.5, transform=ccrs.PlateCarree())\n",
    "\n",
    "ax.set_global()\n",
    "\n",
    "ax.plot(285,-10,'bo', markersize=7)\n"
   ]
  },
  {
   "cell_type": "code",
   "execution_count": null,
   "metadata": {},
   "outputs": [],
   "source": [
    "mdates.date2num(temp.time[0])"
   ]
  },
  {
   "cell_type": "code",
   "execution_count": null,
   "metadata": {},
   "outputs": [],
   "source": [
    "current_ticks"
   ]
  },
  {
   "cell_type": "code",
   "execution_count": null,
   "metadata": {},
   "outputs": [],
   "source": [
    "cpc_conus"
   ]
  },
  {
   "cell_type": "code",
   "execution_count": null,
   "metadata": {},
   "outputs": [],
   "source": [
    "reload(od)\n",
    "reload(sf)\n",
    "bom_demise = od.demise_B17(cpc_conus,start_wet)\n",
    "\n"
   ]
  },
  {
   "cell_type": "code",
   "execution_count": null,
   "metadata": {},
   "outputs": [],
   "source": [
    "1990-1979"
   ]
  },
  {
   "cell_type": "code",
   "execution_count": null,
   "metadata": {},
   "outputs": [],
   "source": [
    "bom_onset['year'] "
   ]
  },
  {
   "cell_type": "code",
   "execution_count": null,
   "metadata": {},
   "outputs": [],
   "source": [
    "bom_onset.isel(year=11).plot()"
   ]
  },
  {
   "cell_type": "code",
   "execution_count": null,
   "metadata": {},
   "outputs": [],
   "source": [
    "lm_onset = od.onset_LM01(cpc_conus, start_wet)"
   ]
  },
  {
   "cell_type": "code",
   "execution_count": null,
   "metadata": {},
   "outputs": [],
   "source": [
    "cpc_conus.plot.countour"
   ]
  },
  {
   "cell_type": "code",
   "execution_count": null,
   "metadata": {},
   "outputs": [],
   "source": [
    "plot_spatial_data(bom_onset.isel(year=11), title='Onset DOY for 1990', var='Day of Year')"
   ]
  },
  {
   "cell_type": "code",
   "execution_count": null,
   "metadata": {},
   "outputs": [],
   "source": [
    "import matplotlib.ticker as mticker\n",
    "\n",
    "\n",
    "from cartopy.mpl.gridliner import LONGITUDE_FORMATTER, LATITUDE_FORMATTER\n",
    "\n",
    "def plot_spatial_data(dataarray, projection=ccrs.PlateCarree(), title='Spatial Data Plot', var='data_to_plot'):\n",
    "    \"\"\"\n",
    "    Plots a spatial figure of a variable from an xarray DataArray.\n",
    "\n",
    "    :param dataarray: xarray DataArray containing the geospatial data to be plotted.\n",
    "    :param projection: Cartopy CRS projection. Defaults to PlateCarree.\n",
    "    :param title: Title of the plot.\n",
    "    \"\"\"\n",
    "    \n",
    "    states_provinces = cfeature.NaturalEarthFeature(\n",
    "    category='cultural',\n",
    "    name='admin_1_states_provinces_lines',\n",
    "    scale='10m')\n",
    "    map_proj = ccrs.LambertConformal(central_longitude=-95, central_latitude=45)\n",
    "    #cmap = mpl.cm.RdBu_r\n",
    "\n",
    "\n",
    "    fig, ax = plt.subplots(1, 1, figsize=(10, 13), dpi=600,  subplot_kw={'projection': projection})\n",
    "    p = dataarray.plot(ax=ax,transform=ccrs.PlateCarree(), add_colorbar=False, cmap='twilight',alpha = 0.8)\n",
    "\n",
    "\n",
    "    ### Setting 1st plot parameters ###\n",
    "    ax.coastlines(edgecolor='black', linewidth=2)\n",
    "    ax.add_feature(cartopy.feature.BORDERS, edgecolor='black', linewidth=2)\n",
    "    ax.add_feature(cfeature.STATES, edgecolor='black', linewidth=2)\n",
    "    ax.add_feature(cfeature.LAKES, alpha=0.5, edgecolor='blue')\n",
    "    ax.add_feature(cfeature.RIVERS, color='blue')\n",
    "    #ax1.set_xticks(np.arange(-180,181, 40))\n",
    "    #ax1.set_yticks(np.arange(-90,91,15))\n",
    "    drainage = shapereader.Reader('/Users/gbromley/Downloads/major_basins_of_the_world_0_0_0/Major_Basins_of_the_World.shp')\n",
    "    #for feature in drainage.records():\n",
    "    #    geometry = feature.geometry\n",
    "    #    ax.add_geometries([geometry], ccrs.PlateCarree(), facecolor='none', edgecolor='black', linewidth=2, linestyle='--')\n",
    "    #at = AnchoredText(\"a\",\n",
    "    #                    loc='upper left', prop=dict(size=8), frameon=True,)\n",
    "    #at.patch.set_boxstyle(\"round,pad=0.,rounding_size=0.2\")\n",
    "    #ax1.add_artist(at)\n",
    "    divider = make_axes_locatable(ax)\n",
    "    cax = divider.append_axes(\"right\", size=\"5%\", pad=0.1, axes_class=plt.Axes)\n",
    "    plt.colorbar(p, cax=cax, label=var)\n",
    "    \n",
    "    ax.set_xlabel('Longitude')\n",
    "    ax.set_ylabel('Latitude')\n",
    "    gl = ax.gridlines(draw_labels=True, dms=True, x_inline=False, y_inline=False, linewidth=2, color='black', alpha=0.5, linestyle='--')\n",
    "    gl.xlocator = mticker.FixedLocator([280-360, 285-360, 290-360])\n",
    "    gl.ylocator = mticker.FixedLocator([-5, -10, -15])\n",
    "    gl.left_labels = True\n",
    "    gl.right_labels = False\n",
    "    gl.top_labels = False\n",
    "    gl.bottom_labels = True\n",
    "\n",
    "    # Add a title\n",
    "    ax.set_title(title, loc='center')\n",
    "\n",
    "    # Show the plot\n",
    "    plt.show()"
   ]
  },
  {
   "cell_type": "code",
   "execution_count": null,
   "metadata": {},
   "outputs": [],
   "source": [
    "lm_onset.isel(year=11).plot()"
   ]
  },
  {
   "cell_type": "code",
   "execution_count": null,
   "metadata": {},
   "outputs": [],
   "source": [
    "tseries = np.nan_to_num(test_data)\n",
    "    \n",
    "smoothie = np.copy(tseries)\n",
    "temp = np.copy(tseries)\n",
    "    \n",
    "for n in np.arange(0,1):\n",
    "    temp[0] = 0.5*(smoothie[0]+smoothie[1])\n",
    "    temp[-1] = 0.5*(smoothie[-1]+smoothie[-2])\n",
    "    temp[1:-1] = 0.25*smoothie[0:-2] + 0.5*smoothie[1:-1]+0.25*smoothie[2:]\n",
    "    smoothie = temp"
   ]
  },
  {
   "cell_type": "code",
   "execution_count": null,
   "metadata": {},
   "outputs": [],
   "source": [
    "0.25*smoothie[0:-2] + 0.5*smoothie[1:-1]+0.25*smoothie[2:]\n"
   ]
  },
  {
   "cell_type": "markdown",
   "metadata": {},
   "source": []
  },
  {
   "cell_type": "code",
   "execution_count": null,
   "metadata": {},
   "outputs": [],
   "source": [
    ".25 * smoothie[0:-2]"
   ]
  },
  {
   "cell_type": "code",
   "execution_count": null,
   "metadata": {},
   "outputs": [],
   "source": [
    "0.5*smoothie[1:-1]"
   ]
  },
  {
   "cell_type": "code",
   "execution_count": null,
   "metadata": {},
   "outputs": [],
   "source": [
    "(0.25*smoothie[2:]) + (0.5*smoothie[1:-1])"
   ]
  },
  {
   "cell_type": "code",
   "execution_count": null,
   "metadata": {},
   "outputs": [],
   "source": [
    "temp"
   ]
  },
  {
   "cell_type": "code",
   "execution_count": null,
   "metadata": {},
   "outputs": [],
   "source": [
    "smoothie = np.copy(tseries)\n",
    "0.25*smoothie[0:-2] + 0.5*smoothie[1:-1] + 0.25*smoothie[2:]\n",
    "\n"
   ]
  },
  {
   "cell_type": "code",
   "execution_count": null,
   "metadata": {},
   "outputs": [],
   "source": [
    "temp"
   ]
  },
  {
   "cell_type": "code",
   "execution_count": null,
   "metadata": {},
   "outputs": [],
   "source": [
    "reload(sf)\n",
    "test_data = np.arange(0, 22.5, 1)\n",
    "#test_data[0] = np.nan\n",
    "#print(test_data)\n",
    "nans = np.empty_like(test_data)\n",
    "nans[:] = np.nan    \n",
    "\n",
    "output = sf.smooth_B17(test_data)\n",
    "\n",
    "#check =  not np.all(np.isnan(output))"
   ]
  },
  {
   "cell_type": "code",
   "execution_count": null,
   "metadata": {},
   "outputs": [],
   "source": [
    "len(output)"
   ]
  },
  {
   "cell_type": "code",
   "execution_count": null,
   "metadata": {},
   "outputs": [],
   "source": [
    "arr = np.random.rand(20)\n",
    "\n",
    "    # Choose 3 random indices to replace with np.nan\n",
    "    # np.random.choice generates a random sample from the given array\n",
    "nan_indices = np.random.choice(20, 3, replace=False)\n",
    "\n",
    "    # Replace the chosen indices with np.nan\n",
    "arr[nan_indices] = np.nan"
   ]
  },
  {
   "cell_type": "code",
   "execution_count": null,
   "metadata": {},
   "outputs": [],
   "source": [
    "import matplotlib.pyplot as plt\n",
    "import matplotlib.dates as mdates\n",
    "import numpy as np\n",
    "import datetime\n",
    "\n",
    "# Sample data\n",
    "dates = [datetime.datetime(2020, month, 1) for month in range(1, 13)]\n",
    "values = np.random.rand(len(dates))\n",
    "\n",
    "# Create the plot\n",
    "plt.figure(figsize=(10, 6))\n",
    "plt.plot(dates, values)\n",
    "\n",
    "# Usual date formatting for existing ticks\n",
    "plt.gca().xaxis.set_major_formatter(mdates.DateFormatter('%b %Y'))\n",
    "\n",
    "# Get current ticks and labels\n",
    "current_ticks = plt.gca().get_xticks()\n",
    "current_labels = [mdates.num2date(tick).strftime('%b %Y') for tick in current_ticks]\n",
    "\n",
    "# Define additional custom ticks and their labels\n",
    "#additional_ticks = [mdates.date2num(datetime.datetime(2020, 6, 15)), mdates.date2num(datetime.datetime(2020, 11, 15))]\n",
    "additional_labels = [mdates.num2date(ticks).strftime('%b %Y') for ticks in additional_ticks]\n",
    "\n",
    "# Combine current and additional ticks and labels\n",
    "all_ticks = np.concatenate((current_ticks, additional_ticks))\n",
    "all_labels = current_labels + additional_labels\n",
    "\n",
    "# Set the combined ticks and labels\n",
    "plt.gca().set_xticks(all_ticks)\n",
    "plt.gca().set_xticklabels(all_labels)\n",
    "\n",
    "# Rotate date labels for better readability\n",
    "plt.gcf().autofmt_xdate()\n",
    "\n",
    "plt.show()\n"
   ]
  }
 ],
 "metadata": {
  "kernelspec": {
   "display_name": "peru",
   "language": "python",
   "name": "python3"
  },
  "language_info": {
   "codemirror_mode": {
    "name": "ipython",
    "version": 3
   },
   "file_extension": ".py",
   "mimetype": "text/x-python",
   "name": "python",
   "nbconvert_exporter": "python",
   "pygments_lexer": "ipython3",
   "version": "3.11.5"
  }
 },
 "nbformat": 4,
 "nbformat_minor": 2
}
