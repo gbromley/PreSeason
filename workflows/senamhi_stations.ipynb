{
 "cells": [
  {
   "cell_type": "code",
   "execution_count": 2,
   "metadata": {},
   "outputs": [],
   "source": [
    "peru_shp = '/Users/gbromley/Library/CloudStorage/Dropbox/Mac (2)/Downloads/per_adm_ign_20200714_shp'\n",
    "import xarray as xr\n",
    "import geopandas as gpd\n",
    "\n",
    "# Load climate dataset\n",
    "climate_data = \n",
    "\n",
    "# Load vector data\n",
    "peru_outline = gpd.read_file('path/to/peru_outline.shp')\n",
    "\n",
    "# Set spatial coordinates and reproject if needed\n",
    "climate_data = climate_data.rio.set_spatial_dims(x_dim='lon', y_dim='lat')\n",
    "climate_data = climate_data.rio.write_crs('EPSG:4326')\n",
    "\n",
    "# Clip climate dataset to Peru's extent\n",
    "clipped_data = climate_data.rio.clip(peru_outline.geometry, peru_outline.crs)\n",
    "\n",
    "# Create mask based on Peru's outline\n",
    "mask = clipped_data.rio.geometry_mask(peru_outline.geometry, peru_outline.crs)\n",
    "\n",
    "# Apply mask to the clipped dataset\n",
    "masked_data = clipped_data.where(mask)\n",
    "\n",
    "# Save masked dataset to a new file\n",
    "masked_data.to_netcdf('path/to/masked_climate_data.nc')"
   ]
  }
 ],
 "metadata": {
  "kernelspec": {
   "display_name": "peru",
   "language": "python",
   "name": "python3"
  },
  "language_info": {
   "codemirror_mode": {
    "name": "ipython",
    "version": 3
   },
   "file_extension": ".py",
   "mimetype": "text/x-python",
   "name": "python",
   "nbconvert_exporter": "python",
   "pygments_lexer": "ipython3",
   "version": "3.11.5"
  }
 },
 "nbformat": 4,
 "nbformat_minor": 2
}
