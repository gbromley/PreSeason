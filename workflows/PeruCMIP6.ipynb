{
 "cells": [
  {
   "cell_type": "code",
   "execution_count": 14,
   "metadata": {
    "tags": []
   },
   "outputs": [],
   "source": [
    "### Importing all the neccessary packages ###\n",
    "import numpy as np\n",
    "\n",
    "import xarray as xr\n",
    "import matplotlib.pyplot as plt\n",
    "import pandas as pd\n",
    "import cartopy.crs as ccrs\n",
    "import cartopy\n",
    "from matplotlib.offsetbox import AnchoredText\n",
    "import cartopy.feature as cfeature\n",
    "import scipy.fft as sf\n",
    "from scipy import signal\n",
    "from scipy.stats import circmean\n",
    "from scipy import optimize\n",
    "from mpl_toolkits.axes_grid1 import make_axes_locatable\n",
    "import time\n",
    "import fsspec\n",
    "#import intake_esm as intake\n",
    "#import pandas as pd\n",
    "from importlib import reload\n",
    "import cartopy.io.shapereader as shapereader\n"
   ]
  },
  {
   "cell_type": "code",
   "execution_count": 15,
   "metadata": {},
   "outputs": [],
   "source": [
    "import polars as pl"
   ]
  },
  {
   "cell_type": "code",
   "execution_count": 16,
   "metadata": {
    "tags": []
   },
   "outputs": [],
   "source": [
    "import seasonality.seasonalityfunctions as sf\n",
    "import seasonality.onset_demise as od"
   ]
  },
  {
   "cell_type": "code",
   "execution_count": 17,
   "metadata": {},
   "outputs": [
    {
     "data": {
      "text/plain": [
       "<module 'seasonality.seasonalityfunctions' from '/Users/gbromley/code/PrecipitationSeasonality/seasonality/seasonalityfunctions.py'>"
      ]
     },
     "execution_count": 17,
     "metadata": {},
     "output_type": "execute_result"
    }
   ],
   "source": [
    "reload(od)\n",
    "reload(sf)"
   ]
  },
  {
   "cell_type": "code",
   "execution_count": 18,
   "metadata": {
    "tags": []
   },
   "outputs": [
    {
     "name": "stdout",
     "output_type": "stream",
     "text": [
      "Intel MKL WARNING: Support of Intel(R) Streaming SIMD Extensions 4.2 (Intel(R) SSE4.2) enabled only processors has been deprecated. Intel oneAPI Math Kernel Library 2025.0 will require Intel(R) Advanced Vector Extensions (Intel(R) AVX) instructions.Intel MKL WARNING: Support of Intel(R) Streaming SIMD Extensions 4.2 (Intel(R) SSE4.2) enabled only processors has been deprecated. Intel oneAPI Math Kernel Library 2025.0 will require Intel(R) Advanced Vector Extensions (Intel(R) AVX) instructions.\n",
      "\n",
      "Intel MKL WARNING: Support of Intel(R) Streaming SIMD Extensions 4.2 (Intel(R) SSE4.2) enabled only processors has been deprecated. Intel oneAPI Math Kernel Library 2025.0 will require Intel(R) Advanced Vector Extensions (Intel(R) AVX) instructions.\n",
      "Intel MKL WARNING: Support of Intel(R) Streaming SIMD Extensions 4.2 (Intel(R) SSE4.2) enabled only processors has been deprecated. Intel oneAPI Math Kernel Library 2025.0 will require Intel(R) Advanced Vector Extensions (Intel(R) AVX) instructions.\n",
      "Intel MKL WARNING: Support of Intel(R) Streaming SIMD Extensions 4.2 (Intel(R) SSE4.2) enabled only processors has been deprecated. Intel oneAPI Math Kernel Library 2025.0 will require Intel(R) Advanced Vector Extensions (Intel(R) AVX) instructions.Intel MKL WARNING: Support of Intel(R) Streaming SIMD Extensions 4.2 (Intel(R) SSE4.2) enabled only processors has been deprecated. Intel oneAPI Math Kernel Library 2025.0 will require Intel(R) Advanced Vector Extensions (Intel(R) AVX) instructions.\n",
      "\n",
      "Intel MKL WARNING: Support of Intel(R) Streaming SIMD Extensions 4.2 (Intel(R) SSE4.2) enabled only processors has been deprecated. Intel oneAPI Math Kernel Library 2025.0 will require Intel(R) Advanced Vector Extensions (Intel(R) AVX) instructions.\n",
      "Intel MKL WARNING: Support of Intel(R) Streaming SIMD Extensions 4.2 (Intel(R) SSE4.2) enabled only processors has been deprecated. Intel oneAPI Math Kernel Library 2025.0 will require Intel(R) Advanced Vector Extensions (Intel(R) AVX) instructions.\n"
     ]
    },
    {
     "data": {
      "text/html": [
       "<div>\n",
       "    <div style=\"width: 24px; height: 24px; background-color: #e1e1e1; border: 3px solid #9D9D9D; border-radius: 5px; position: absolute;\"> </div>\n",
       "    <div style=\"margin-left: 48px;\">\n",
       "        <h3 style=\"margin-bottom: 0px;\">Client</h3>\n",
       "        <p style=\"color: #9D9D9D; margin-bottom: 0px;\">Client-97ce0070-a9b7-11ee-9d55-0ea65b5a729c</p>\n",
       "        <table style=\"width: 100%; text-align: left;\">\n",
       "\n",
       "        <tr>\n",
       "        \n",
       "            <td style=\"text-align: left;\"><strong>Connection method:</strong> Cluster object</td>\n",
       "            <td style=\"text-align: left;\"><strong>Cluster type:</strong> distributed.LocalCluster</td>\n",
       "        \n",
       "        </tr>\n",
       "\n",
       "        \n",
       "            <tr>\n",
       "                <td style=\"text-align: left;\">\n",
       "                    <strong>Dashboard: </strong> <a href=\"http://127.0.0.1:8787/status\" target=\"_blank\">http://127.0.0.1:8787/status</a>\n",
       "                </td>\n",
       "                <td style=\"text-align: left;\"></td>\n",
       "            </tr>\n",
       "        \n",
       "\n",
       "        </table>\n",
       "\n",
       "        \n",
       "\n",
       "        \n",
       "            <details>\n",
       "            <summary style=\"margin-bottom: 20px;\"><h3 style=\"display: inline;\">Cluster Info</h3></summary>\n",
       "            <div class=\"jp-RenderedHTMLCommon jp-RenderedHTML jp-mod-trusted jp-OutputArea-output\">\n",
       "    <div style=\"width: 24px; height: 24px; background-color: #e1e1e1; border: 3px solid #9D9D9D; border-radius: 5px; position: absolute;\">\n",
       "    </div>\n",
       "    <div style=\"margin-left: 48px;\">\n",
       "        <h3 style=\"margin-bottom: 0px; margin-top: 0px;\">LocalCluster</h3>\n",
       "        <p style=\"color: #9D9D9D; margin-bottom: 0px;\">8556f051</p>\n",
       "        <table style=\"width: 100%; text-align: left;\">\n",
       "            <tr>\n",
       "                <td style=\"text-align: left;\">\n",
       "                    <strong>Dashboard:</strong> <a href=\"http://127.0.0.1:8787/status\" target=\"_blank\">http://127.0.0.1:8787/status</a>\n",
       "                </td>\n",
       "                <td style=\"text-align: left;\">\n",
       "                    <strong>Workers:</strong> 4\n",
       "                </td>\n",
       "            </tr>\n",
       "            <tr>\n",
       "                <td style=\"text-align: left;\">\n",
       "                    <strong>Total threads:</strong> 8\n",
       "                </td>\n",
       "                <td style=\"text-align: left;\">\n",
       "                    <strong>Total memory:</strong> 16.00 GiB\n",
       "                </td>\n",
       "            </tr>\n",
       "            \n",
       "            <tr>\n",
       "    <td style=\"text-align: left;\"><strong>Status:</strong> running</td>\n",
       "    <td style=\"text-align: left;\"><strong>Using processes:</strong> True</td>\n",
       "</tr>\n",
       "\n",
       "            \n",
       "        </table>\n",
       "\n",
       "        <details>\n",
       "            <summary style=\"margin-bottom: 20px;\">\n",
       "                <h3 style=\"display: inline;\">Scheduler Info</h3>\n",
       "            </summary>\n",
       "\n",
       "            <div style=\"\">\n",
       "    <div>\n",
       "        <div style=\"width: 24px; height: 24px; background-color: #FFF7E5; border: 3px solid #FF6132; border-radius: 5px; position: absolute;\"> </div>\n",
       "        <div style=\"margin-left: 48px;\">\n",
       "            <h3 style=\"margin-bottom: 0px;\">Scheduler</h3>\n",
       "            <p style=\"color: #9D9D9D; margin-bottom: 0px;\">Scheduler-daf322b4-60b3-4f6f-80fc-9cf14a36c25a</p>\n",
       "            <table style=\"width: 100%; text-align: left;\">\n",
       "                <tr>\n",
       "                    <td style=\"text-align: left;\">\n",
       "                        <strong>Comm:</strong> tcp://127.0.0.1:61042\n",
       "                    </td>\n",
       "                    <td style=\"text-align: left;\">\n",
       "                        <strong>Workers:</strong> 4\n",
       "                    </td>\n",
       "                </tr>\n",
       "                <tr>\n",
       "                    <td style=\"text-align: left;\">\n",
       "                        <strong>Dashboard:</strong> <a href=\"http://127.0.0.1:8787/status\" target=\"_blank\">http://127.0.0.1:8787/status</a>\n",
       "                    </td>\n",
       "                    <td style=\"text-align: left;\">\n",
       "                        <strong>Total threads:</strong> 8\n",
       "                    </td>\n",
       "                </tr>\n",
       "                <tr>\n",
       "                    <td style=\"text-align: left;\">\n",
       "                        <strong>Started:</strong> Just now\n",
       "                    </td>\n",
       "                    <td style=\"text-align: left;\">\n",
       "                        <strong>Total memory:</strong> 16.00 GiB\n",
       "                    </td>\n",
       "                </tr>\n",
       "            </table>\n",
       "        </div>\n",
       "    </div>\n",
       "\n",
       "    <details style=\"margin-left: 48px;\">\n",
       "        <summary style=\"margin-bottom: 20px;\">\n",
       "            <h3 style=\"display: inline;\">Workers</h3>\n",
       "        </summary>\n",
       "\n",
       "        \n",
       "        <div style=\"margin-bottom: 20px;\">\n",
       "            <div style=\"width: 24px; height: 24px; background-color: #DBF5FF; border: 3px solid #4CC9FF; border-radius: 5px; position: absolute;\"> </div>\n",
       "            <div style=\"margin-left: 48px;\">\n",
       "            <details>\n",
       "                <summary>\n",
       "                    <h4 style=\"margin-bottom: 0px; display: inline;\">Worker: 0</h4>\n",
       "                </summary>\n",
       "                <table style=\"width: 100%; text-align: left;\">\n",
       "                    <tr>\n",
       "                        <td style=\"text-align: left;\">\n",
       "                            <strong>Comm: </strong> tcp://127.0.0.1:61055\n",
       "                        </td>\n",
       "                        <td style=\"text-align: left;\">\n",
       "                            <strong>Total threads: </strong> 2\n",
       "                        </td>\n",
       "                    </tr>\n",
       "                    <tr>\n",
       "                        <td style=\"text-align: left;\">\n",
       "                            <strong>Dashboard: </strong> <a href=\"http://127.0.0.1:61058/status\" target=\"_blank\">http://127.0.0.1:61058/status</a>\n",
       "                        </td>\n",
       "                        <td style=\"text-align: left;\">\n",
       "                            <strong>Memory: </strong> 4.00 GiB\n",
       "                        </td>\n",
       "                    </tr>\n",
       "                    <tr>\n",
       "                        <td style=\"text-align: left;\">\n",
       "                            <strong>Nanny: </strong> tcp://127.0.0.1:61045\n",
       "                        </td>\n",
       "                        <td style=\"text-align: left;\"></td>\n",
       "                    </tr>\n",
       "                    <tr>\n",
       "                        <td colspan=\"2\" style=\"text-align: left;\">\n",
       "                            <strong>Local directory: </strong> /var/folders/m4/3slgbrxj3z3dm65l82539j6w0000gq/T/dask-scratch-space/worker-1kd78x25\n",
       "                        </td>\n",
       "                    </tr>\n",
       "\n",
       "                    \n",
       "\n",
       "                    \n",
       "\n",
       "                </table>\n",
       "            </details>\n",
       "            </div>\n",
       "        </div>\n",
       "        \n",
       "        <div style=\"margin-bottom: 20px;\">\n",
       "            <div style=\"width: 24px; height: 24px; background-color: #DBF5FF; border: 3px solid #4CC9FF; border-radius: 5px; position: absolute;\"> </div>\n",
       "            <div style=\"margin-left: 48px;\">\n",
       "            <details>\n",
       "                <summary>\n",
       "                    <h4 style=\"margin-bottom: 0px; display: inline;\">Worker: 1</h4>\n",
       "                </summary>\n",
       "                <table style=\"width: 100%; text-align: left;\">\n",
       "                    <tr>\n",
       "                        <td style=\"text-align: left;\">\n",
       "                            <strong>Comm: </strong> tcp://127.0.0.1:61054\n",
       "                        </td>\n",
       "                        <td style=\"text-align: left;\">\n",
       "                            <strong>Total threads: </strong> 2\n",
       "                        </td>\n",
       "                    </tr>\n",
       "                    <tr>\n",
       "                        <td style=\"text-align: left;\">\n",
       "                            <strong>Dashboard: </strong> <a href=\"http://127.0.0.1:61060/status\" target=\"_blank\">http://127.0.0.1:61060/status</a>\n",
       "                        </td>\n",
       "                        <td style=\"text-align: left;\">\n",
       "                            <strong>Memory: </strong> 4.00 GiB\n",
       "                        </td>\n",
       "                    </tr>\n",
       "                    <tr>\n",
       "                        <td style=\"text-align: left;\">\n",
       "                            <strong>Nanny: </strong> tcp://127.0.0.1:61047\n",
       "                        </td>\n",
       "                        <td style=\"text-align: left;\"></td>\n",
       "                    </tr>\n",
       "                    <tr>\n",
       "                        <td colspan=\"2\" style=\"text-align: left;\">\n",
       "                            <strong>Local directory: </strong> /var/folders/m4/3slgbrxj3z3dm65l82539j6w0000gq/T/dask-scratch-space/worker-urlpz7vn\n",
       "                        </td>\n",
       "                    </tr>\n",
       "\n",
       "                    \n",
       "\n",
       "                    \n",
       "\n",
       "                </table>\n",
       "            </details>\n",
       "            </div>\n",
       "        </div>\n",
       "        \n",
       "        <div style=\"margin-bottom: 20px;\">\n",
       "            <div style=\"width: 24px; height: 24px; background-color: #DBF5FF; border: 3px solid #4CC9FF; border-radius: 5px; position: absolute;\"> </div>\n",
       "            <div style=\"margin-left: 48px;\">\n",
       "            <details>\n",
       "                <summary>\n",
       "                    <h4 style=\"margin-bottom: 0px; display: inline;\">Worker: 2</h4>\n",
       "                </summary>\n",
       "                <table style=\"width: 100%; text-align: left;\">\n",
       "                    <tr>\n",
       "                        <td style=\"text-align: left;\">\n",
       "                            <strong>Comm: </strong> tcp://127.0.0.1:61057\n",
       "                        </td>\n",
       "                        <td style=\"text-align: left;\">\n",
       "                            <strong>Total threads: </strong> 2\n",
       "                        </td>\n",
       "                    </tr>\n",
       "                    <tr>\n",
       "                        <td style=\"text-align: left;\">\n",
       "                            <strong>Dashboard: </strong> <a href=\"http://127.0.0.1:61061/status\" target=\"_blank\">http://127.0.0.1:61061/status</a>\n",
       "                        </td>\n",
       "                        <td style=\"text-align: left;\">\n",
       "                            <strong>Memory: </strong> 4.00 GiB\n",
       "                        </td>\n",
       "                    </tr>\n",
       "                    <tr>\n",
       "                        <td style=\"text-align: left;\">\n",
       "                            <strong>Nanny: </strong> tcp://127.0.0.1:61049\n",
       "                        </td>\n",
       "                        <td style=\"text-align: left;\"></td>\n",
       "                    </tr>\n",
       "                    <tr>\n",
       "                        <td colspan=\"2\" style=\"text-align: left;\">\n",
       "                            <strong>Local directory: </strong> /var/folders/m4/3slgbrxj3z3dm65l82539j6w0000gq/T/dask-scratch-space/worker-jq_mv1hp\n",
       "                        </td>\n",
       "                    </tr>\n",
       "\n",
       "                    \n",
       "\n",
       "                    \n",
       "\n",
       "                </table>\n",
       "            </details>\n",
       "            </div>\n",
       "        </div>\n",
       "        \n",
       "        <div style=\"margin-bottom: 20px;\">\n",
       "            <div style=\"width: 24px; height: 24px; background-color: #DBF5FF; border: 3px solid #4CC9FF; border-radius: 5px; position: absolute;\"> </div>\n",
       "            <div style=\"margin-left: 48px;\">\n",
       "            <details>\n",
       "                <summary>\n",
       "                    <h4 style=\"margin-bottom: 0px; display: inline;\">Worker: 3</h4>\n",
       "                </summary>\n",
       "                <table style=\"width: 100%; text-align: left;\">\n",
       "                    <tr>\n",
       "                        <td style=\"text-align: left;\">\n",
       "                            <strong>Comm: </strong> tcp://127.0.0.1:61056\n",
       "                        </td>\n",
       "                        <td style=\"text-align: left;\">\n",
       "                            <strong>Total threads: </strong> 2\n",
       "                        </td>\n",
       "                    </tr>\n",
       "                    <tr>\n",
       "                        <td style=\"text-align: left;\">\n",
       "                            <strong>Dashboard: </strong> <a href=\"http://127.0.0.1:61059/status\" target=\"_blank\">http://127.0.0.1:61059/status</a>\n",
       "                        </td>\n",
       "                        <td style=\"text-align: left;\">\n",
       "                            <strong>Memory: </strong> 4.00 GiB\n",
       "                        </td>\n",
       "                    </tr>\n",
       "                    <tr>\n",
       "                        <td style=\"text-align: left;\">\n",
       "                            <strong>Nanny: </strong> tcp://127.0.0.1:61051\n",
       "                        </td>\n",
       "                        <td style=\"text-align: left;\"></td>\n",
       "                    </tr>\n",
       "                    <tr>\n",
       "                        <td colspan=\"2\" style=\"text-align: left;\">\n",
       "                            <strong>Local directory: </strong> /var/folders/m4/3slgbrxj3z3dm65l82539j6w0000gq/T/dask-scratch-space/worker-zs1s8awm\n",
       "                        </td>\n",
       "                    </tr>\n",
       "\n",
       "                    \n",
       "\n",
       "                    \n",
       "\n",
       "                </table>\n",
       "            </details>\n",
       "            </div>\n",
       "        </div>\n",
       "        \n",
       "\n",
       "    </details>\n",
       "</div>\n",
       "\n",
       "        </details>\n",
       "    </div>\n",
       "</div>\n",
       "            </details>\n",
       "        \n",
       "\n",
       "    </div>\n",
       "</div>"
      ],
      "text/plain": [
       "<Client: 'tcp://127.0.0.1:61042' processes=4 threads=8, memory=16.00 GiB>"
      ]
     },
     "execution_count": 18,
     "metadata": {},
     "output_type": "execute_result"
    }
   ],
   "source": [
    "### Allows us to use dask to speed up some calculations ###\n",
    "from dask.distributed import Client\n",
    "client = Client()\n",
    "client\n"
   ]
  },
  {
   "cell_type": "code",
   "execution_count": 19,
   "metadata": {},
   "outputs": [],
   "source": [
    "hist_pr = xr.open_dataset('CESM2_CMIP6_historical.nc')\n",
    "hist_pr = hist_pr.mean(dim='member')\n",
    "hist_pr['time'] = pd.date_range('1850-01-01', freq='D', periods=60228)\n",
    "hist_pr = hist_pr['pr'] * 86400"
   ]
  },
  {
   "cell_type": "code",
   "execution_count": 20,
   "metadata": {},
   "outputs": [],
   "source": [
    "future_pr = xr.open_dataset('pr_day_CESM2_ssp585_r4i1p1f1_gn_20500101-20991231_v20200528.nc')\n",
    "future_pr['time'] = pd.date_range('2050-01-01', freq='D', periods=18250)\n",
    "future_pr = future_pr['pr'] * 86400"
   ]
  },
  {
   "cell_type": "code",
   "execution_count": 21,
   "metadata": {},
   "outputs": [],
   "source": [
    "### Takes 35 seconds\n",
    "\n",
    "hist_start = od.B17_analysis_start(sf.calc_annual_cycle(hist_pr))\n",
    "future_start = od.B17_analysis_start(sf.calc_annual_cycle(future_pr))"
   ]
  },
  {
   "cell_type": "code",
   "execution_count": 22,
   "metadata": {},
   "outputs": [],
   "source": [
    "def plot_spatial_data(dataarray, projection=ccrs.PlateCarree(), title='Spatial Data Plot', var='data_to_plot'):\n",
    "    \"\"\"\n",
    "    Plots a spatial figure of a variable from an xarray DataArray.\n",
    "\n",
    "    :param dataarray: xarray DataArray containing the geospatial data to be plotted.\n",
    "    :param projection: Cartopy CRS projection. Defaults to PlateCarree.\n",
    "    :param title: Title of the plot.\n",
    "    \"\"\"\n",
    "    \n",
    "    states_provinces = cfeature.NaturalEarthFeature(\n",
    "    category='cultural',\n",
    "    name='admin_1_states_provinces_lines',\n",
    "    scale='10m')\n",
    "    map_proj = ccrs.LambertConformal(central_longitude=-95, central_latitude=45)\n",
    "    #cmap = mpl.cm.RdBu_r\n",
    "\n",
    "\n",
    "    fig, ax = plt.subplots(1, 1, figsize=(10, 13), dpi=600,  subplot_kw={'projection': projection})\n",
    "    p = dataarray.plot(ax=ax,transform=ccrs.PlateCarree(), add_colorbar=False, cmap='twilight')\n",
    "\n",
    "\n",
    "    ### Setting 1st plot parameters ###\n",
    "    ax.coastlines(edgecolor='black')\n",
    "    ax.add_feature(cartopy.feature.BORDERS, edgecolor='black')\n",
    "    ax.add_feature(cfeature.STATES, edgecolor='black')\n",
    "    ax.add_feature(cfeature.LAKES, alpha=0.5, edgecolor='blue')\n",
    "    ax.add_feature(cfeature.RIVERS, color='blue')\n",
    "    #ax1.set_xticks(np.arange(-180,181, 40))\n",
    "    #ax1.set_yticks(np.arange(-90,91,15))\n",
    "    drainage = shapereader.Reader('/Users/gbromley/Downloads/major_basins_of_the_world_0_0_0/Major_Basins_of_the_World.shp')\n",
    "    for feature in drainage.records():\n",
    "        geometry = feature.geometry\n",
    "        ax.add_geometries([geometry], ccrs.PlateCarree(), facecolor='none', edgecolor='grey', )\n",
    "    #at = AnchoredText(\"a\",\n",
    "    #                    loc='upper left', prop=dict(size=8), frameon=True,)\n",
    "    #at.patch.set_boxstyle(\"round,pad=0.,rounding_size=0.2\")\n",
    "    #ax1.add_artist(at)\n",
    "    divider = make_axes_locatable(ax)\n",
    "    cax = divider.append_axes(\"right\", size=\"5%\", pad=0.1, axes_class=plt.Axes)\n",
    "    plt.colorbar(p, cax=cax, label=var)\n",
    "    \n",
    "    ax.set_xlabel('Longitude')\n",
    "    ax.set_ylabel('Latitude')\n",
    "    gl = ax.gridlines(draw_labels=True, dms=True, x_inline=False, y_inline=False)\n",
    "    gl.left_labels = True\n",
    "    gl.right_labels = False\n",
    "    gl.top_labels = False\n",
    "    gl.bottom_labels = True\n",
    "\n",
    "    # Add a title\n",
    "    ax.set_title(title, loc='center')\n",
    "\n",
    "    # Show the plot\n",
    "    plt.show()"
   ]
  },
  {
   "cell_type": "code",
   "execution_count": 23,
   "metadata": {},
   "outputs": [],
   "source": [
    "def checkData(data):\n",
    "    return type(data)"
   ]
  },
  {
   "cell_type": "code",
   "execution_count": 24,
   "metadata": {},
   "outputs": [],
   "source": [
    "def si_to_mm(data):\n",
    "    data = data * 86400\n",
    "    return data\n",
    "    "
   ]
  },
  {
   "cell_type": "code",
   "execution_count": 25,
   "metadata": {},
   "outputs": [],
   "source": [
    "def calc_anom(data, var='pr'):\n",
    "    \n",
    "    ### Create The annual daily precip anomalies ###\n",
    "    annual_means = data.groupby('time.year').mean(dim='time')\n",
    "\n",
    "\n",
    "    anomalies = data.groupby('time.year') - annual_means\n",
    "    #anomalies = anomalies.where(anomalies['time'] != )\n",
    "\n",
    "    #climDailyMeanAnomaly = annual_precip_cycle - annual_mean_precip\n",
    "    \n",
    "    #remove leap days\n",
    "    #mask = (anomalies['time.month'] != 2) & (anomalies['time.day'] != 29)\n",
    "    #anomalies = anomalies.where(mask)\n",
    "    \n",
    "    return  anomalies"
   ]
  },
  {
   "cell_type": "code",
   "execution_count": 26,
   "metadata": {},
   "outputs": [],
   "source": [
    "### Peru Domain ###\n",
    "min_lon = -83+360\n",
    "min_lat = -20.0\n",
    "max_lon = -67+360\n",
    "max_lat = 0.0"
   ]
  },
  {
   "cell_type": "code",
   "execution_count": 27,
   "metadata": {},
   "outputs": [],
   "source": [
    "#future_pr = si_to_mm(future_pr)\n",
    "#hist_pr = si_to_mm(hist_pr)\n",
    "\n",
    "future_anom = calc_anom(future_pr)\n",
    "hist_anom = calc_anom(hist_pr)"
   ]
  },
  {
   "cell_type": "code",
   "execution_count": 15,
   "metadata": {},
   "outputs": [],
   "source": [
    "years = hist_anom['time.year']\n",
    "days = hist_anom['time.dayofyear']"
   ]
  },
  {
   "cell_type": "code",
   "execution_count": null,
   "metadata": {},
   "outputs": [],
   "source": [
    "data = test_anom\n",
    "years = data.time.values.astype('datetime64[Y]')\n",
    "days = data.time.values.astype('datetime64[D]') - years\n",
    "days = days.astype('int')\n",
    "\n",
    "data = data.values\n",
    "#if len(days) != len(years):\n",
    "    #raise ValueError('Length of days and years must be the same.')\n",
    "    \n",
    "# Want to make sure we get all the input years before any trimming\n",
    "unique_years = np.unique(years)\n",
    "\n",
    "onsetDOY = np.empty((len(unique_years)))\n",
    "onsetDOY[:] = np.nan\n",
    "\n",
    "\n",
    "\n",
    "# Day of year is missing integer 60 which is February 29th.\n",
    "# Need to add zero because a tuple is returned from np.where\n",
    "start_index = np.where(days == 258.0)[0]\n",
    "\n",
    "\n",
    "\n",
    "\n",
    "\n",
    "### looping through start dates ###\n",
    "for start_day in start_index:\n",
    "    \n",
    "    analysis_begin = start_day\n",
    "    analysis_end = start_day + 365\n",
    "    \n",
    "\n",
    "    \n",
    "    if (analysis_end > len(data)):\n",
    "        analysis_end = len(data)\n",
    "    \n",
    "    analysis_days = days[analysis_begin:analysis_end]\n",
    "    analysis_years = years[analysis_begin:analysis_end] \n",
    "    \n",
    "    cumsum_data = sf.cumul_anom(data, analysis_begin, analysis_end)\n",
    "    \n",
    "    # this returns the index of the data not the day\n",
    "    \n",
    "    onset_index = np.argmin(cumsum_data)\n",
    "    onset_day = analysis_days[onset_index]\n",
    "    onset_year = analysis_years[onset_index]\n",
    "    #print(onset_index)\n",
    "    where_to_place = np.argwhere(unique_years == onset_year)[0][0]\n",
    "    onsetDOY[where_to_place] = onset_day\n",
    "    \n",
    "    \n"
   ]
  },
  {
   "cell_type": "code",
   "execution_count": null,
   "metadata": {},
   "outputs": [],
   "source": [
    "xr.apply_ufunc(\n",
    "    test_onset,\n",
    "    data,\n",
    "    data.time,\n",
    "    startWet,\n",
    "    input_core_dims=[[\"time\"],[\"time\"],[]],\n",
    "    exclude_dims=set([\"time\"]),\n",
    "    output_core_dims=[[\"year\"]],\n",
    "    vectorize=True,\n",
    "    dask = 'parallelized',\n",
    "    #output_dtypes = 'datetime64[D]',\n",
    "    #output_sizes={\"data_jday\": 71},\n",
    ")"
   ]
  },
  {
   "cell_type": "code",
   "execution_count": 30,
   "metadata": {},
   "outputs": [],
   "source": [
    "def _onset_LM01(data, startWet):\n",
    "    xr.apply_ufunc(\n",
    "    test_onset,\n",
    "    data,\n",
    "    data.time,\n",
    "    startWet,\n",
    "    input_core_dims=[[\"time\"],[\"time\"],[]],\n",
    "    exclude_dims=set([\"time\"]),\n",
    "    output_core_dims=[[\"year\"]],\n",
    "    vectorize=True,\n",
    "    dask = 'parallelized',\n",
    "    #output_dtypes = 'datetime64[D]',\n",
    "    #output_sizes={\"data_jday\": 71},\n",
    ")"
   ]
  },
  {
   "cell_type": "code",
   "execution_count": 31,
   "metadata": {},
   "outputs": [],
   "source": [
    "test_anom = hist_anom.isel(lat=1, lon=1)\n",
    "test_start = hist_start.isel(lat=1, lon=1)"
   ]
  },
  {
   "cell_type": "code",
   "execution_count": 74,
   "metadata": {},
   "outputs": [
    {
     "data": {
      "text/plain": [
       "DatetimeIndex(['1850-01-01', '1850-01-02', '1850-01-03', '1850-01-04',\n",
       "               '1850-01-05', '1850-01-06', '1850-01-07', '1850-01-08',\n",
       "               '1850-01-09', '1850-01-10',\n",
       "               ...\n",
       "               '2014-11-15', '2014-11-16', '2014-11-17', '2014-11-18',\n",
       "               '2014-11-19', '2014-11-20', '2014-11-21', '2014-11-22',\n",
       "               '2014-11-23', '2014-11-24'],\n",
       "              dtype='datetime64[ns]', length=60228, freq=None)"
      ]
     },
     "execution_count": 74,
     "metadata": {},
     "output_type": "execute_result"
    }
   ],
   "source": [
    "pd.to_datetime(test_anom.time)"
   ]
  },
  {
   "cell_type": "code",
   "execution_count": 42,
   "metadata": {},
   "outputs": [
    {
     "data": {
      "text/plain": [
       "DatetimeIndex(['2001-01-01', '2001-01-02', '2001-01-03', '2001-01-04',\n",
       "               '2001-01-05', '2001-01-06', '2001-01-07', '2001-01-08',\n",
       "               '2001-01-09', '2001-01-10',\n",
       "               ...\n",
       "               '2001-04-26', '2001-04-27', '2001-04-28', '2001-04-29',\n",
       "               '2001-04-30', '2001-05-01', '2001-05-02', '2001-05-03',\n",
       "               '2001-05-04', '2001-05-05'],\n",
       "              dtype='datetime64[ns]', length=125, freq='D')"
      ]
     },
     "execution_count": 42,
     "metadata": {},
     "output_type": "execute_result"
    }
   ],
   "source": [
    "pd.date_range('2001-01-01', '2001-05-05', freq='D')"
   ]
  },
  {
   "cell_type": "code",
   "execution_count": 77,
   "metadata": {},
   "outputs": [
    {
     "data": {
      "text/plain": [
       "array([  1, 133,  60], dtype=int32)"
      ]
     },
     "execution_count": 77,
     "metadata": {},
     "output_type": "execute_result"
    }
   ],
   "source": [
    "np.array(pd.to_datetime(['2024-01-01','1978-5-13','2024-2-29']).dayofyear)"
   ]
  },
  {
   "cell_type": "code",
   "execution_count": 79,
   "metadata": {},
   "outputs": [
    {
     "data": {
      "text/plain": [
       "array([2000, 2001], dtype=int32)"
      ]
     },
     "execution_count": 79,
     "metadata": {},
     "output_type": "execute_result"
    }
   ],
   "source": [
    "np.unique(pd.date_range('2000-01-01', '2001-05-05', freq='D').year)"
   ]
  },
  {
   "cell_type": "code",
   "execution_count": 90,
   "metadata": {},
   "outputs": [],
   "source": [
    "days = np.array(pd.date_range('2000-01-01', '2001-05-05', freq='D').day)"
   ]
  },
  {
   "cell_type": "code",
   "execution_count": 91,
   "metadata": {},
   "outputs": [
    {
     "data": {
      "text/plain": [
       "array([ 1,  2,  3,  4,  5,  6,  7,  8,  9, 10, 11, 12, 13, 14, 15, 16, 17,\n",
       "       18, 19, 20, 21, 22, 23, 24, 25, 26, 27, 28, 29, 30, 31,  1,  2,  3,\n",
       "        4,  5,  6,  7,  8,  9, 10, 11, 12, 13, 14, 15, 16, 17, 18, 19, 20,\n",
       "       21, 22, 23, 24, 25, 26, 27, 28, 29,  1,  2,  3,  4,  5,  6,  7,  8,\n",
       "        9, 10, 11, 12, 13, 14, 15, 16, 17, 18, 19, 20, 21, 22, 23, 24, 25,\n",
       "       26, 27, 28, 29, 30, 31,  1,  2,  3,  4,  5,  6,  7,  8,  9, 10, 11,\n",
       "       12, 13, 14, 15, 16, 17, 18, 19, 20, 21, 22, 23, 24, 25, 26, 27, 28,\n",
       "       29, 30,  1,  2,  3,  4,  5,  6,  7,  8,  9, 10, 11, 12, 13, 14, 15,\n",
       "       16, 17, 18, 19, 20, 21, 22, 23, 24, 25, 26, 27, 28, 29, 30, 31,  1,\n",
       "        2,  3,  4,  5,  6,  7,  8,  9, 10, 11, 12, 13, 14, 15, 16, 17, 18,\n",
       "       19, 20, 21, 22, 23, 24, 25, 26, 27, 28, 29, 30,  1,  2,  3,  4,  5,\n",
       "        6,  7,  8,  9, 10, 11, 12, 13, 14, 15, 16, 17, 18, 19, 20, 21, 22,\n",
       "       23, 24, 25, 26, 27, 28, 29, 30, 31,  1,  2,  3,  4,  5,  6,  7,  8,\n",
       "        9, 10, 11, 12, 13, 14, 15, 16, 17, 18, 19, 20, 21, 22, 23, 24, 25,\n",
       "       26, 27, 28, 29, 30, 31,  1,  2,  3,  4,  5,  6,  7,  8,  9, 10, 11,\n",
       "       12, 13, 14, 15, 16, 17, 18, 19, 20, 21, 22, 23, 24, 25, 26, 27, 28,\n",
       "       29, 30,  1,  2,  3,  4,  5,  6,  7,  8,  9, 10, 11, 12, 13, 14, 15,\n",
       "       16, 17, 18, 19, 20, 21, 22, 23, 24, 25, 26, 27, 28, 29, 30, 31,  1,\n",
       "        2,  3,  4,  5,  6,  7,  8,  9, 10, 11, 12, 13, 14, 15, 16, 17, 18,\n",
       "       19, 20, 21, 22, 23, 24, 25, 26, 27, 28, 29, 30,  1,  2,  3,  4,  5,\n",
       "        6,  7,  8,  9, 10, 11, 12, 13, 14, 15, 16, 17, 18, 19, 20, 21, 22,\n",
       "       23, 24, 25, 26, 27, 28, 29, 30, 31,  1,  2,  3,  4,  5,  6,  7,  8,\n",
       "        9, 10, 11, 12, 13, 14, 15, 16, 17, 18, 19, 20, 21, 22, 23, 24, 25,\n",
       "       26, 27, 28, 29, 30, 31,  1,  2,  3,  4,  5,  6,  7,  8,  9, 10, 11,\n",
       "       12, 13, 14, 15, 16, 17, 18, 19, 20, 21, 22, 23, 24, 25, 26, 27, 28,\n",
       "        1,  2,  3,  4,  5,  6,  7,  8,  9, 10, 11, 12, 13, 14, 15, 16, 17,\n",
       "       18, 19, 20, 21, 22, 23, 24, 25, 26, 27, 28, 29, 30, 31,  1,  2,  3,\n",
       "        4,  5,  6,  7,  8,  9, 10, 11, 12, 13, 14, 15, 16, 17, 18, 19, 20,\n",
       "       21, 22, 23, 24, 25, 26, 27, 28, 29, 30,  1,  2,  3,  4,  5],\n",
       "      dtype=int32)"
      ]
     },
     "execution_count": 91,
     "metadata": {},
     "output_type": "execute_result"
    }
   ],
   "source": [
    "days"
   ]
  },
  {
   "cell_type": "code",
   "execution_count": 89,
   "metadata": {},
   "outputs": [
    {
     "data": {
      "text/plain": [
       "array(277)"
      ]
     },
     "execution_count": 89,
     "metadata": {},
     "output_type": "execute_result"
    }
   ],
   "source": [
    "np.squeeze(np.where(days == 278))"
   ]
  },
  {
   "cell_type": "code",
   "execution_count": 93,
   "metadata": {},
   "outputs": [],
   "source": [
    "def test_onset(data,time, startWet):\n",
    "    \n",
    "    time = pd.to_datetime(time)\n",
    "    years = np.array(time.year)\n",
    "    days = np.array(time.dayofyear)\n",
    "    #days = days.astype('int')\n",
    "    \n",
    "    #if len(days) != len(years):\n",
    "        #raise ValueError('Length of days and years must be the same.')\n",
    "        \n",
    "    # Want to make sure we get all the input years before any trimming\n",
    "    unique_years = np.unique(years)\n",
    "    \n",
    "    onsetDOY = np.empty((len(unique_years)))\n",
    "    onsetDOY[:] = np.nan\n",
    "    \n",
    "    \n",
    "    \n",
    "    # Day of year is missing integer 60 which is February 29th.\n",
    "    # Need to add zero because a tuple is returned from np.where\n",
    "    start_index = np.squeeze(np.where(days == startWet))\n",
    "    \n",
    "    \n",
    "    \n",
    "\n",
    "    print(days)\n",
    "    ### looping through start dates ###\n",
    "    for start_day in start_index:\n",
    "        \n",
    "        analysis_begin = start_day\n",
    "        analysis_end = start_day + 365\n",
    "        \n",
    "\n",
    "        \n",
    "        if (analysis_end > len(data)):\n",
    "            analysis_end = len(data)\n",
    "        \n",
    "        analysis_days = days[analysis_begin:analysis_end]\n",
    "        analysis_years = years[analysis_begin:analysis_end] \n",
    "        \n",
    "        cumsum_data = sf.cumul_anom(data, analysis_begin, analysis_end)\n",
    "        \n",
    "        # this returns the index of the data not the day\n",
    "        \n",
    "        onset_index = np.argmin(cumsum_data)\n",
    "        onset_day = analysis_days[onset_index]\n",
    "        onset_year = analysis_years[onset_index]\n",
    "        #print(onset_index)\n",
    "        where_to_place = np.argwhere(unique_years == onset_year)[0][0]\n",
    "        onsetDOY[where_to_place] = onset_day\n",
    "    #print(onsetDOY)\n",
    "    return onsetDOY\n",
    "    \n",
    "    \n"
   ]
  },
  {
   "cell_type": "code",
   "execution_count": 94,
   "metadata": {},
   "outputs": [
    {
     "name": "stdout",
     "output_type": "stream",
     "text": [
      "Index([  1,   2,   3,   4,   5,   6,   7,   8,   9,  10,\n",
      "       ...\n",
      "       319, 320, 321, 322, 323, 324, 325, 326, 327, 328],\n",
      "      dtype='int32', length=60228)\n"
     ]
    },
    {
     "data": {
      "text/plain": [
       "array([338., 356., 329., 359., 352., 348.,  nan, 350., 324.,  nan, 349.,\n",
       "       361., 340., 340., 353., 334., 342.,  nan, 349., 365., 342., 341.,\n",
       "       348., 338., 335.,  nan, 318., 348., 327., 335., 336., 342., 330.,\n",
       "        nan, 363., 320., 330., 356., 328., 320., 318., 353., 336., 333.,\n",
       "       363., 327., 331., 341., 357., 346., 360., 344., 319., 330., 346.,\n",
       "       327., 365., 325., 331., 347., 346., 338., 335., 360., 319., 332.,\n",
       "       342., 326., 329., 321., 342., 322., 347., 339., 362., 352., 350.,\n",
       "       315., 314., 296., 313., 362., 337., 363., 334., 325., 359., 336.,\n",
       "       338.,  nan, 335., 324.,  nan, 319., 333., 362., 339., 327., 358.,\n",
       "        nan, 321., 285., 337., 335., 325., 333., 323., 328., 337., 319.,\n",
       "       311.,  nan,  84., 166., 327., 315., 359., 325., 320., 318., 324.,\n",
       "       314., 315., 329., 296., 337., 302., 321., 341., 349., 326., 326.,\n",
       "       343., 321., 318.,  nan, 320., 325., 341., 323.,  nan, 359., 315.,\n",
       "       310., 340., 299., 330.,  nan, 322., 279., 326., 333., 333., 343.,\n",
       "       330., 326., 324., 316., 325., 332., 311., 306., 335., 301., 328.])"
      ]
     },
     "execution_count": 94,
     "metadata": {},
     "output_type": "execute_result"
    }
   ],
   "source": [
    "test_onset(test_anom.values, test_anom.time, test_start.values)"
   ]
  },
  {
   "cell_type": "code",
   "execution_count": 13,
   "metadata": {},
   "outputs": [
    {
     "ename": "NameError",
     "evalue": "name 'test_anom' is not defined",
     "output_type": "error",
     "traceback": [
      "\u001b[0;31m---------------------------------------------------------------------------\u001b[0m",
      "\u001b[0;31mNameError\u001b[0m                                 Traceback (most recent call last)",
      "\u001b[1;32m/Users/gbromley/code/PrecipitationSeasonality/workflows/PeruCMIP6.ipynb Cell 25\u001b[0m line \u001b[0;36m1\n\u001b[0;32m----> <a href='vscode-notebook-cell:/Users/gbromley/code/PrecipitationSeasonality/workflows/PeruCMIP6.ipynb#X44sZmlsZQ%3D%3D?line=0'>1</a>\u001b[0m test_anom\u001b[39m.\u001b[39mtime\n",
      "\u001b[0;31mNameError\u001b[0m: name 'test_anom' is not defined"
     ]
    }
   ],
   "source": [
    "test_anom.time"
   ]
  },
  {
   "cell_type": "code",
   "execution_count": 41,
   "metadata": {},
   "outputs": [
    {
     "name": "stdout",
     "output_type": "stream",
     "text": [
      "96.4 µs ± 1.1 µs per loop (mean ± std. dev. of 7 runs, 10,000 loops each)\n"
     ]
    }
   ],
   "source": [
    "%%timeit\n",
    "pd.date_range('1-1-2029', '12-31-2029').day_of_year"
   ]
  },
  {
   "cell_type": "code",
   "execution_count": 10,
   "metadata": {},
   "outputs": [],
   "source": [
    "from datetime import date"
   ]
  },
  {
   "cell_type": "code",
   "execution_count": 37,
   "metadata": {},
   "outputs": [
    {
     "data": {
      "text/html": [
       "<div><style>\n",
       ".dataframe > thead > tr,\n",
       ".dataframe > tbody > tr {\n",
       "  text-align: right;\n",
       "  white-space: pre-wrap;\n",
       "}\n",
       "</style>\n",
       "<small>shape: (16_442_244, 1)</small><table border=\"1\" class=\"dataframe\"><thead><tr><th>pr</th></tr><tr><td>f64</td></tr></thead><tbody><tr><td>0.003954</td></tr><tr><td>0.012041</td></tr><tr><td>0.009864</td></tr><tr><td>0.011923</td></tr><tr><td>0.009319</td></tr><tr><td>0.005268</td></tr><tr><td>0.002213</td></tr><tr><td>0.049869</td></tr><tr><td>0.192289</td></tr><tr><td>0.42243</td></tr><tr><td>1.819329</td></tr><tr><td>4.874987</td></tr><tr><td>&hellip;</td></tr><tr><td>0.0</td></tr><tr><td>0.0</td></tr><tr><td>0.0</td></tr><tr><td>0.0</td></tr><tr><td>0.0</td></tr><tr><td>0.0</td></tr><tr><td>0.0</td></tr><tr><td>0.0</td></tr><tr><td>0.0</td></tr><tr><td>0.0</td></tr><tr><td>0.0</td></tr><tr><td>0.0</td></tr></tbody></table></div>"
      ],
      "text/plain": [
       "shape: (16_442_244, 1)\n",
       "┌──────────┐\n",
       "│ pr       │\n",
       "│ ---      │\n",
       "│ f64      │\n",
       "╞══════════╡\n",
       "│ 0.003954 │\n",
       "│ 0.012041 │\n",
       "│ 0.009864 │\n",
       "│ 0.011923 │\n",
       "│ …        │\n",
       "│ 0.0      │\n",
       "│ 0.0      │\n",
       "│ 0.0      │\n",
       "│ 0.0      │\n",
       "└──────────┘"
      ]
     },
     "execution_count": 37,
     "metadata": {},
     "output_type": "execute_result"
    }
   ],
   "source": [
    "pl.from_dataframe(hist_pr.to_dataframe())"
   ]
  },
  {
   "cell_type": "code",
   "execution_count": 28,
   "metadata": {},
   "outputs": [
    {
     "data": {
      "text/html": [
       "2023.dt.datetime([1, 1, 0, 0, 0, 0, String(raise)]).strict_cast(Date).alias(\"date\")"
      ],
      "text/plain": [
       "<Expr ['2023.dt.datetime([1, 1, 0, 0, …'] at 0x1420FEB90>"
      ]
     },
     "execution_count": 28,
     "metadata": {},
     "output_type": "execute_result"
    }
   ],
   "source": [
    "pl.date(2023,1,1)"
   ]
  },
  {
   "cell_type": "code",
   "execution_count": null,
   "metadata": {},
   "outputs": [],
   "source": []
  }
 ],
 "metadata": {
  "kernelspec": {
   "display_name": "Python 3 (ipykernel)",
   "language": "python",
   "name": "python3"
  },
  "language_info": {
   "codemirror_mode": {
    "name": "ipython",
    "version": 3
   },
   "file_extension": ".py",
   "mimetype": "text/x-python",
   "name": "python",
   "nbconvert_exporter": "python",
   "pygments_lexer": "ipython3",
   "version": "3.11.5"
  }
 },
 "nbformat": 4,
 "nbformat_minor": 4
}
