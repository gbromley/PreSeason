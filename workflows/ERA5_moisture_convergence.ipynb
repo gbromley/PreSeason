{
 "cells": [
  {
   "cell_type": "code",
   "execution_count": 1,
   "id": "4ee19f73",
   "metadata": {},
   "outputs": [],
   "source": [
    "import numpy as np\n",
    "import xarray as xr\n",
    "import matplotlib.pyplot as plt\n",
    "import pandas as pd\n",
    "\n",
    "import glob\n",
    "from mpl_toolkits.axes_grid1 import make_axes_locatable\n",
    "import time\n",
    "\n",
    "import preseason.tools as sf\n",
    "import preseason.onset_demise as od\n",
    "import preseason.plotting as pp\n"
   ]
  },
  {
   "cell_type": "code",
   "execution_count": null,
   "id": "4b856f98",
   "metadata": {},
   "outputs": [],
   "source": [
    "import psutil\n",
    "\n",
    "\n",
    "\n",
    "total_memory = psutil.virtual_memory().total\n",
    "memory_limit = int(total_memory * 0.15)  # Use 75% of total RAM, adjust as needed"
   ]
  },
  {
   "cell_type": "code",
   "execution_count": null,
   "id": "59c185e1",
   "metadata": {},
   "outputs": [],
   "source": [
    "### Allows us to use dask to speed up some calculations ###\n",
    "from dask.distributed import Client, LocalCluster\n",
    "cluster = LocalCluster(n_workers=4)\n",
    "client = Client(cluster)"
   ]
  },
  {
   "cell_type": "code",
   "execution_count": null,
   "id": "0d5d3e8d",
   "metadata": {},
   "outputs": [],
   "source": [
    "client"
   ]
  },
  {
   "cell_type": "code",
   "execution_count": null,
   "id": "eacd0d81",
   "metadata": {},
   "outputs": [],
   "source": [
    "moisture_data_files[1:500]"
   ]
  },
  {
   "cell_type": "code",
   "execution_count": 4,
   "id": "91f93c97",
   "metadata": {},
   "outputs": [],
   "source": [
    "### Selecting out Peru from the global data.\n",
    "lat_radius = 40 # degrees lat/lon\n",
    "lon_radius = 50\n",
    "PERU_center = {'lat': slice(0+lat_radius, -20-lat_radius), 'lon': slice(277-lon_radius, 293+lon_radius)}\n"
   ]
  },
  {
   "cell_type": "code",
   "execution_count": null,
   "id": "1c33ac0d",
   "metadata": {},
   "outputs": [],
   "source": [
    "len(moisture_data_files)"
   ]
  },
  {
   "cell_type": "code",
   "execution_count": null,
   "id": "a61f7ea6",
   "metadata": {},
   "outputs": [],
   "source": [
    "import xarray as xr\n",
    "import os\n",
    "\n",
    "def check_lon_monotonic(file_path):\n",
    "    try:\n",
    "        # Open the netCDF file\n",
    "        ds = xr.open_dataset(file_path)\n",
    "        \n",
    "        # Check if 'lon' or 'longitude' dimension exists\n",
    "        lon_dim = 'lon' if 'lon' in ds.dims else 'longitude' if 'longitude' in ds.dims else None\n",
    "        \n",
    "        if lon_dim is None:\n",
    "            print(f\"Warning: No longitude dimension found in {file_path}\")\n",
    "            return False\n",
    "        \n",
    "        # Get the longitude values\n",
    "        lon_values = ds[lon_dim].values\n",
    "        \n",
    "        # Check if longitude is monotonic\n",
    "        is_monotonic = all(lon_values[i] <= lon_values[i+1] for i in range(len(lon_values)-1)) or \\\n",
    "                       all(lon_values[i] >= lon_values[i+1] for i in range(len(lon_values)-1))\n",
    "        \n",
    "        if not is_monotonic:\n",
    "            print(f\"Non-monotonic longitude found in {file_path}\")\n",
    "            return True\n",
    "        \n",
    "    except Exception as e:\n",
    "        print(f\"Error processing {file_path}: {str(e)}\")\n",
    "    \n",
    "    finally:\n",
    "        # Close the dataset\n",
    "        ds.close()\n",
    "    \n",
    "    return False\n",
    "\n",
    "# Directory containing netCDF files\n",
    "netcdf_dir = moisture_data_dir\n",
    "\n",
    "# List to store files with non-monotonic longitude\n",
    "non_monotonic_files = []\n",
    "\n",
    "# Iterate through all netCDF files in the directory\n",
    "for filename in os.listdir(netcdf_dir):\n",
    "    if filename.endswith('.nc'):\n",
    "        file_path = os.path.join(netcdf_dir, filename)\n",
    "        if check_lon_monotonic(file_path):\n",
    "            non_monotonic_files.append(file_path)\n",
    "\n",
    "# Print the list of files with non-monotonic longitude\n",
    "print(\"\\nFiles with non-monotonic longitude:\")\n",
    "for file in non_monotonic_files:\n",
    "    print(file)\n",
    "\n",
    "print(f\"\\nTotal files with non-monotonic longitude: {len(non_monotonic_files)}\")"
   ]
  },
  {
   "cell_type": "code",
   "execution_count": null,
   "id": "745aac01",
   "metadata": {},
   "outputs": [],
   "source": [
    "moisture_data_files[0:850]"
   ]
  },
  {
   "cell_type": "code",
   "execution_count": null,
   "id": "34195b15",
   "metadata": {},
   "outputs": [],
   "source": [
    "xr.open_mfdataset(moisture_data_files[1:850],parallel=True, chunks={'latitude': 25, 'longitude': 25, 'time': -1}, )"
   ]
  },
  {
   "cell_type": "code",
   "execution_count": null,
   "id": "1b9e1690",
   "metadata": {},
   "outputs": [],
   "source": [
    "xr.open_dataset(moisture_data_files[700],chunks={'latitude': 25, 'longitude': 25, 'time': -1})"
   ]
  },
  {
   "cell_type": "code",
   "execution_count": null,
   "id": "adfd620e",
   "metadata": {},
   "outputs": [],
   "source": [
    "moisture_data_dir = '/data/deluge/reanalysis/REANALYSIS/ERA5/3D/4xdaily/q/'\n",
    "moisture_data_files = glob.glob(moisture_data_dir+'q.[12]*')\n",
    "\n",
    "ds_q = xr.open_mfdataset(moisture_data_files[1:850],parallel=True, chunks={'latitude': 25, 'longitude': 25, 'time': -1})\n",
    "\n",
    "q_data = ds_q['q'].sel(level=500, latitude = PERU_center['lat'], longitude = PERU_center['lon']) \n",
    "\n",
    "\n",
    "\n",
    "q_data = q_data.compute()"
   ]
  },
  {
   "cell_type": "code",
   "execution_count": null,
   "id": "1f654452",
   "metadata": {},
   "outputs": [],
   "source": []
  },
  {
   "cell_type": "code",
   "execution_count": null,
   "id": "faefefe6",
   "metadata": {},
   "outputs": [],
   "source": [
    "q_data = q_data.resample(time='1d').mean(dim='time').compute()"
   ]
  },
  {
   "cell_type": "code",
   "execution_count": null,
   "id": "dca45e79",
   "metadata": {},
   "outputs": [],
   "source": [
    "q_data.to_netcdf('~/data/q.1x.nc')"
   ]
  },
  {
   "cell_type": "code",
   "execution_count": null,
   "id": "09557bcf",
   "metadata": {},
   "outputs": [],
   "source": [
    "uwind_data_dir = '/data/deluge/reanalysis/REANALYSIS/ERA5/3D/4xdaily/uwnd/'\n",
    "uwnd_files = glob.glob(uwind_data_dir+'uwnd.[12]*')\n",
    "\n",
    "ds_uwnd = xr.open_mfdataset(uwnd_files,parallel=True, chunks={'latitude': 25, 'longitude': 25, 'time': -1}, decode_cf=False)\n",
    "\n",
    "uwnd_data = ds_uwnd['uwnd'].sel(level=500, latitude = PERU_center['lat'], longitude = PERU_center['lon'])\n",
    "\n",
    "uwnd_data = uwnd_data.resample(time='1d').mean(dim='time')\n",
    "\n",
    "\n",
    "\n",
    "\n",
    "\n",
    "uwnd_data = uwnd_data.compute()\n",
    "\n"
   ]
  },
  {
   "cell_type": "code",
   "execution_count": null,
   "id": "6030bca4",
   "metadata": {},
   "outputs": [],
   "source": [
    "uwnd_files"
   ]
  },
  {
   "cell_type": "code",
   "execution_count": null,
   "id": "37123b35",
   "metadata": {},
   "outputs": [],
   "source": [
    "uwnd_data.to_netcdf('~/data/uwnd_4x.nc')"
   ]
  },
  {
   "cell_type": "code",
   "execution_count": null,
   "id": "8b5b314b",
   "metadata": {},
   "outputs": [],
   "source": [
    "vwind_data_dir = '/data/deluge/reanalysis/REANALYSIS/ERA5/3D/4xdaily/vwnd/'\n",
    "vwnd_files = glob.glob(vwind_data_dir+'vwnd.[12]*')\n",
    "\n",
    "ds_vwnd = xr.open_mfdataset(vwnd_files,parallel=True, chunks={'latitude': 25, 'longitude': 25, 'time': -1}, decode_cf=False)\n",
    "\n",
    "vwnd_data = ds_vwnd['vwnd'].sel(level=500, latitude = PERU_center['lat'], longitude = PERU_center['lon']) \n",
    "\n",
    "vwnd_data = vwnd_data.compute()"
   ]
  },
  {
   "cell_type": "code",
   "execution_count": null,
   "id": "54862d6b",
   "metadata": {},
   "outputs": [],
   "source": [
    "vwnd_data.to_netcdf('~/data/vwnd_4x.nc')"
   ]
  },
  {
   "cell_type": "code",
   "execution_count": null,
   "id": "d03ab1da",
   "metadata": {},
   "outputs": [],
   "source": []
  },
  {
   "cell_type": "code",
   "execution_count": null,
   "id": "f50b0214",
   "metadata": {},
   "outputs": [],
   "source": [
    "q_data = xr.open_dataset('~/data/q.4x.nc', chunks={'time': -1})#.resample(time='1d').mean().compute()\n",
    "uwnd_data = xr.open_dataset('~/data/uwnd_4x.nc', chunks={'time': -1})#.resample(time='1d').mean().compute()\n",
    "vwnd_data = xr.open_dataset('~/data/vwnd_4x.nc', chunks={'time': -1})#.resample(time='1d').mean().compute()\n",
    "\n"
   ]
  },
  {
   "cell_type": "code",
   "execution_count": null,
   "id": "0c99c54a",
   "metadata": {},
   "outputs": [],
   "source": [
    "uwnd_data = uwnd_data.sel(time=q_data['time'])\n",
    "vwnd_data = vwnd_data.sel(time=q_data['time'])"
   ]
  },
  {
   "cell_type": "code",
   "execution_count": null,
   "id": "42a45800",
   "metadata": {},
   "outputs": [],
   "source": [
    "uwnd_data"
   ]
  },
  {
   "cell_type": "code",
   "execution_count": null,
   "id": "1474addb",
   "metadata": {},
   "outputs": [],
   "source": [
    "test = q_data['q'].resample(time='1d').mean(dim='time').compute()"
   ]
  },
  {
   "cell_type": "code",
   "execution_count": null,
   "id": "fe147bc7",
   "metadata": {},
   "outputs": [],
   "source": [
    "# Extract variables\n",
    "q = q_data['q']\n",
    "u = uwnd_data['uwnd']\n",
    "v = vwnd_data['vwnd']\n",
    "\n",
    "# Calculate moisture fluxes\n",
    "qu = q * u\n",
    "qv = q * v\n",
    "\n"
   ]
  },
  {
   "cell_type": "code",
   "execution_count": null,
   "id": "971339a5",
   "metadata": {},
   "outputs": [],
   "source": [
    "qv.compute()"
   ]
  },
  {
   "cell_type": "code",
   "execution_count": null,
   "id": "f8ac7c3d",
   "metadata": {},
   "outputs": [],
   "source": [
    "# Calculate gradients\n",
    "dqu_dx = qu.differentiate('longitude')\n",
    "dqv_dy = qv.differentiate('latitude')\n",
    "\n",
    "# Calculate moisture flux divergence\n",
    "moisture_flux_divergence = dqu_dx + dqv_dy\n",
    "\n",
    "# Interpret results\n",
    "moisture_convergence = xr.where(moisture_flux_divergence < 0, moisture_flux_divergence, 0)\n",
    "moisture_divergence = xr.where(moisture_flux_divergence > 0, moisture_flux_divergence, 0)"
   ]
  },
  {
   "cell_type": "code",
   "execution_count": null,
   "id": "fd4128b2",
   "metadata": {},
   "outputs": [],
   "source": [
    "pp.plot_spatial_data(composites_early_demise,vmin=-50, vmax=50, cmap='RdBu_r', var='Geopotential Anomaly', title='Early Demise Composite')"
   ]
  },
  {
   "cell_type": "code",
   "execution_count": null,
   "id": "1b41cba5",
   "metadata": {},
   "outputs": [],
   "source": [
    "pp.plot_spatial_data(composites_late_demise,vmin=-40, vmax=40, cmap='RdBu_r', var='Geopotential Anomaly', title='Late Demise Composite')"
   ]
  },
  {
   "cell_type": "code",
   "execution_count": null,
   "id": "d1dbcfb9",
   "metadata": {},
   "outputs": [],
   "source": [
    "\n",
    "\n",
    "def create_composites(ds, dates, period):\n",
    "    composites = {}\n",
    "    composite_data = []\n",
    "    for date in dates:\n",
    "        start_date = date - pd.Timedelta(period,'w')\n",
    "        end_date = date - pd.Timedelta(1,\"d\")\n",
    "        \n",
    "        subset = ds.sel(time=slice(start_date, end_date))\n",
    "        \n",
    "        composite = subset.mean(dim='time')\n",
    "        composite_data.append(composite)\n",
    "    \n",
    "    composites = xr.concat(composite_data, dim='time')\n",
    "    composites = composites.mean(dim='time')\n",
    "    return composites\n",
    "\n",
    "# Create composites for each time period\n",
    "#composites_1week = create_composites(ds, dates, period='1w')\n",
    "#composites_2weeks = create_composites(ds, dates, period='2w')\n",
    "#composites_3weeks = create_composites(ds, dates, period='3w')\n",
    "#composites_1month = create_composites(ds, dates, period='1M')"
   ]
  },
  {
   "cell_type": "code",
   "execution_count": null,
   "id": "8353ca69",
   "metadata": {},
   "outputs": [],
   "source": [
    "late_dates"
   ]
  },
  {
   "cell_type": "code",
   "execution_count": null,
   "id": "1b1857ac",
   "metadata": {},
   "outputs": [],
   "source": []
  }
 ],
 "metadata": {
  "kernelspec": {
   "display_name": "Python 3 (ipykernel)",
   "language": "python",
   "name": "python3"
  },
  "language_info": {
   "codemirror_mode": {
    "name": "ipython",
    "version": 3
   },
   "file_extension": ".py",
   "mimetype": "text/x-python",
   "name": "python",
   "nbconvert_exporter": "python",
   "pygments_lexer": "ipython3",
   "version": "3.11.5"
  }
 },
 "nbformat": 4,
 "nbformat_minor": 5
}
