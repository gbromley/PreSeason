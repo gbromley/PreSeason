{
 "cells": [
  {
   "cell_type": "code",
   "execution_count": null,
   "id": "b9b05dca-47c4-4044-a5bb-3bab93ecc6c0",
   "metadata": {},
   "outputs": [],
   "source": [
    "import xarray as xr\n",
    "import numpy as np\n",
    "import matplotlib.pyplot as plt\n"
   ]
  },
  {
   "cell_type": "code",
   "execution_count": null,
   "id": "b82556e5-2bb8-4378-a00e-e97508d5a73e",
   "metadata": {},
   "outputs": [],
   "source": [
    "data = xr.open_dataset('OnsetDemise_ERA5.nc')"
   ]
  },
  {
   "cell_type": "code",
   "execution_count": null,
   "id": "3701f8e4-4801-43a3-94ab-bd83da63c48b",
   "metadata": {},
   "outputs": [],
   "source": [
    "data = data.sel(year=slice('2000-01-01','2018-01-01'))"
   ]
  },
  {
   "cell_type": "code",
   "execution_count": null,
   "id": "71d2395c-d106-4794-b819-58962b3b93a3",
   "metadata": {},
   "outputs": [],
   "source": [
    "stacked = data['onset_doy'].stack(z=('latitude','longitude'))"
   ]
  },
  {
   "cell_type": "code",
   "execution_count": null,
   "id": "314c76bc-6a79-4441-8224-815f80c56341",
   "metadata": {},
   "outputs": [],
   "source": [
    "boxplot_data = stacked.T.dropna(dim='z')"
   ]
  },
  {
   "cell_type": "code",
   "execution_count": null,
   "id": "a0d2ed1e-414b-4a45-b0d4-ca19354282fc",
   "metadata": {},
   "outputs": [],
   "source": [
    "plt.figure(figsize=(13,7))\n",
    "\n",
    "\n",
    "plt.violinplot(boxplot_data, vert=True)"
   ]
  },
  {
   "cell_type": "code",
   "execution_count": null,
   "id": "60d75cf4-d465-47ba-aef1-0db5f2c8a126",
   "metadata": {},
   "outputs": [],
   "source": []
  }
 ],
 "metadata": {
  "kernelspec": {
   "display_name": "Python 3 (ipykernel)",
   "language": "python",
   "name": "python3"
  },
  "language_info": {
   "codemirror_mode": {
    "name": "ipython",
    "version": 3
   },
   "file_extension": ".py",
   "mimetype": "text/x-python",
   "name": "python",
   "nbconvert_exporter": "python",
   "pygments_lexer": "ipython3",
   "version": "3.7.11"
  }
 },
 "nbformat": 4,
 "nbformat_minor": 5
}
